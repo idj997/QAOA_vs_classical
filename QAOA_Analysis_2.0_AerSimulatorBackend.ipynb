{
 "cells": [
  {
   "cell_type": "code",
   "metadata": {
    "ExecuteTime": {
     "end_time": "2025-06-24T03:09:12.171464Z",
     "start_time": "2025-06-24T03:09:12.156894Z"
    }
   },
   "source": [
    "import networkx as nx\n",
    "import matplotlib.pyplot as plt\n",
    "from qiskit.quantum_info import SparsePauliOp, Pauli\n",
    "from qiskit.circuit.library import QAOAAnsatz\n",
    "import time\n",
    "from qiskit_ibm_runtime import QiskitRuntimeService, SamplerV2 as Sampler\n",
    "import time\n",
    "import logging\n",
    "import sys\n",
    "\n",
    "# Configure logging for Jupyter\n",
    "logging.basicConfig(\n",
    "    level=logging.INFO,\n",
    "    format='%(asctime)s - %(name)s - %(levelname)s - %(message)s',\n",
    "    handlers=[\n",
    "        logging.StreamHandler(sys.stdout)  # Output to notebook cell\n",
    "    ]\n",
    ")\n",
    "\n",
    "logger = logging.getLogger(__name__)\n",
    "logging.getLogger('qiskit').setLevel(logging.WARNING)\n",
    " "
   ],
   "outputs": [],
   "execution_count": 43
  },
  {
   "cell_type": "code",
   "metadata": {
    "ExecuteTime": {
     "end_time": "2025-06-24T03:09:12.189083Z",
     "start_time": "2025-06-24T03:09:12.177057Z"
    }
   },
   "source": [
    "\n",
    "QiskitRuntimeService.delete_account()\n",
    "#\n",
    "QiskitRuntimeService.save_account(channel='ibm_quantum', instance='ibm-q/open/main', token='4f8e741356333c4be7ce86c21b6a90e3240ed70aa6f152c901f31610a2c8df41c05839f9d9fe2f8dd9c29f09b8ed875d715f5037f0c8a887d90f190c38093187', overwrite=True)\n",
    "\n",
    "# QiskitRuntimeService.save_account(token=\"tEH4qCQyK2sfiXgHyL4vOxku8LUcqSLa0lwg_0zzKS8O\", instance=\"crn:v1:bluemix:public:quantum-computing:us-east:a/0d5f2945f5c44fd6a69d8a9dd034808c:2e832f3b-b7a7-466c-b735-53a9ed77d94b::\", overwrite=True)"
   ],
   "outputs": [],
   "execution_count": 44
  },
  {
   "cell_type": "code",
   "metadata": {
    "ExecuteTime": {
     "end_time": "2025-06-24T03:09:17.537612Z",
     "start_time": "2025-06-24T03:09:12.206658Z"
    }
   },
   "source": [
    "service = QiskitRuntimeService()\n",
    "#\n",
    "# for backend in service.backends(simulator=False, operational=True):\n",
    "#     logger.info(f\"{backend.name} – {backend.configuration().num_qubits} qubits\")"
   ],
   "outputs": [
    {
     "name": "stderr",
     "output_type": "stream",
     "text": [
      "/var/folders/j_/6x8b_dk9253_tf1dd1vvw84r0000gn/T/ipykernel_10745/226896950.py:1: DeprecationWarning: The \"ibm_quantum\" channel option is deprecated and will be sunset on 1 July. After this date, \"ibm_cloud\", \"ibm_quantum_platform\", and \"local\" will be the only valid channels. Open Plan users should migrate now.  All other users should review the migration guide (https://quantum.cloud.ibm.com/docs/migration-guides/classic-iqp-to-cloud-iqp)to learn when to migrate.\n",
      "  service = QiskitRuntimeService()\n"
     ]
    }
   ],
   "execution_count": 45
  },
  {
   "cell_type": "code",
   "metadata": {
    "ExecuteTime": {
     "end_time": "2025-06-24T03:09:17.584033Z",
     "start_time": "2025-06-24T03:09:17.577693Z"
    }
   },
   "source": [
    "def generate_graph(num_nodes, edge_prob=0.5):\n",
    "    return nx.erdos_renyi_graph(num_nodes, edge_prob)"
   ],
   "outputs": [],
   "execution_count": 46
  },
  {
   "cell_type": "code",
   "metadata": {
    "ExecuteTime": {
     "end_time": "2025-06-24T03:09:17.603131Z",
     "start_time": "2025-06-24T03:09:17.592836Z"
    }
   },
   "source": [
    "import numpy as np\n",
    "\n",
    "# QUBO conversion and Hamiltonian construction\n",
    "def create_qubo_hamiltonian(graph, num_colors):\n",
    "    num_nodes = graph.number_of_nodes()\n",
    "    Q = np.zeros((num_nodes * num_colors, num_nodes * num_colors))\n",
    "    for i in range(num_nodes):\n",
    "        for c in range(num_colors):\n",
    "            Q[i * num_colors + c, i * num_colors + c] -= 1\n",
    "            for cp in range(c + 1, num_colors):\n",
    "                Q[i * num_colors + c, i * num_colors + cp] += 2\n",
    "    for i, j in graph.edges():\n",
    "        for c in range(num_colors):\n",
    "            Q[i * num_colors + c, j * num_colors + c] += 1\n",
    "    Q = 0.5 * (Q + Q.T)\n",
    "    linear = np.diag(Q)\n",
    "    quadratic = Q - np.diag(linear)\n",
    "    h = {i: linear[i] for i in range(len(linear))}\n",
    "    J = {(i, j): quadratic[i, j] for i in range(len(linear)) for j in range(i + 1, len(linear)) if quadratic[i, j] != 0}\n",
    "    \n",
    "    pauli_list = []\n",
    "    for (i, j), weight in J.items():\n",
    "        z_p = np.zeros(len(linear), dtype=bool)\n",
    "        x_p = np.zeros(len(linear), dtype=bool)\n",
    "        z_p[i] = True\n",
    "        z_p[j] = True\n",
    "        pauli_list.append((Pauli((z_p, x_p)), weight))\n",
    "    for i, weight in h.items():\n",
    "        z_p = np.zeros(len(linear), dtype=bool)\n",
    "        x_p = np.zeros(len(linear), dtype=bool)\n",
    "        z_p[i] = True\n",
    "        pauli_list.append((Pauli((z_p, x_p)), weight))\n",
    "    hamiltonian = sum([SparsePauliOp.from_list([(pauli.to_label(), weight)]) for pauli, weight in pauli_list])\n",
    "    \n",
    "    return hamiltonian"
   ],
   "outputs": [],
   "execution_count": 47
  },
  {
   "cell_type": "code",
   "metadata": {
    "ExecuteTime": {
     "end_time": "2025-06-24T03:09:17.610491Z",
     "start_time": "2025-06-24T03:09:17.607888Z"
    }
   },
   "source": [
    "def is_valid_coloring(graph, coloring):\n",
    "    \"\"\"Return True if no adjacent vertices share the same color and all nodes are assigned valid colors.\"\"\"\n",
    "    for u, v in graph.edges():\n",
    "        if coloring[u] == -1 or coloring[v] == -1:\n",
    "            return False\n",
    "        if coloring[u] == coloring[v]:\n",
    "            return False\n",
    "    return True\n"
   ],
   "outputs": [],
   "execution_count": 48
  },
  {
   "cell_type": "code",
   "metadata": {
    "ExecuteTime": {
     "end_time": "2025-06-24T03:09:17.621483Z",
     "start_time": "2025-06-24T03:09:17.617685Z"
    }
   },
   "source": [
    "def decode_solution(result, num_colors):\n",
    "    \"\"\"Convert QAOA result to color assignments.\"\"\"\n",
    "    optimal_bitstring = max(result.eigenstate.items(), key=lambda x: x[1])[0]\n",
    "    n_vertices = len(optimal_bitstring) // num_colors\n",
    "    coloring = []\n",
    "    \n",
    "    for i in range(n_vertices):\n",
    "        # Extract color assignment for vertex i\n",
    "        color_bits = optimal_bitstring[i*num_colors : (i+1)*num_colors]\n",
    "        color = color_bits.index('1')  # Find which color is assigned\n",
    "        coloring.append(color)\n",
    "    \n",
    "    return coloring\n"
   ],
   "outputs": [],
   "execution_count": 49
  },
  {
   "metadata": {},
   "cell_type": "code",
   "outputs": [],
   "execution_count": null,
   "source": [
    "def extract_relevant_bits(full_counts, layout, num_logical_qubits):\n",
    "    \"\"\"Extract only the bits corresponding to logical qubits from full measurement results\"\"\"\n",
    "    extracted_counts = {}\n",
    "\n",
    "    for bitstring, count in full_counts.items():\n",
    "        # Extract only the bits we care about based on the layout\n",
    "        relevant_bits = \"\"\n",
    "        for i in range(num_logical_qubits):\n",
    "            # Get the physical qubit index for logical qubit i\n",
    "            physical_qubit = layout.initial_layout[i]\n",
    "            # Extract the bit at that position (bitstrings are reversed in Qiskit)\n",
    "            bit_index = len(bitstring) - 1 - physical_qubit\n",
    "            relevant_bits += bitstring[bit_index]\n",
    "\n",
    "        # Accumulate counts for the same relevant bitstring\n",
    "        if relevant_bits in extracted_counts:\n",
    "            extracted_counts[relevant_bits] += count\n",
    "        else:\n",
    "            extracted_counts[relevant_bits] = count\n",
    "\n",
    "    return extracted_counts"
   ]
  },
  {
   "cell_type": "code",
   "metadata": {
    "ExecuteTime": {
     "end_time": "2025-06-24T03:09:17.632219Z",
     "start_time": "2025-06-24T03:09:17.627211Z"
    }
   },
   "source": [
    "import numpy as np\n",
    "from scipy.optimize import minimize\n",
    "from qiskit.circuit.library import QAOAAnsatz\n",
    "from qiskit.transpiler import generate_preset_pass_manager\n",
    "from qiskit_ibm_runtime import SamplerV2 as Sampler, EstimatorV2 as Estimator\n",
    "from qiskit.quantum_info import Pauli, SparsePauliOp\n",
    "from qiskit_aer.primitives import SamplerV2 as aersampler\n",
    "import time\n",
    "\n",
    "from qiskit_aer import AerSimulator\n",
    "\n",
    "def run_qaoa(graph, cost_hamiltonian, p, max_iter, shots):\n",
    "\n",
    "    # Create QAOA ansatz\n",
    "    quantum_circuit = QAOAAnsatz(cost_operator=cost_hamiltonian, reps=p)\n",
    "    _backend = service.least_busy(\n",
    "        operational=True, simulator=False, min_num_qubits=graph.number_of_nodes(),\n",
    "    )\n",
    "    # _backend = AerSimulator.from_backend(backend)\n",
    "    # _backend = AerSimulator()\n",
    "    logger.info(_backend)\n",
    "\n",
    "    # Transpile circuit and get the mapping\n",
    "    pm = generate_preset_pass_manager(backend=_backend, optimization_level=3, seed_transpiler=42)\n",
    "    isa_circuit = pm.run(quantum_circuit)\n",
    "    layout = isa_circuit.layout\n",
    "    num_logical_qubits = quantum_circuit.num_qubits\n",
    "\n",
    "    # Initialize estimator\n",
    "    estimator = Estimator(_backend)\n",
    "    estimator.options.resilience_level = 0\n",
    "    estimator.options.default_shots = 125\n",
    "\n",
    "    objective_func_vals = [] # Global variable\n",
    "    def cost_func_estimator(params, ansatz, hamiltonian, estimator):\n",
    "        isa_hamiltonian = hamiltonian.apply_layout(ansatz.layout)\n",
    "\n",
    "        pub = (ansatz, isa_hamiltonian, params)\n",
    "        job = estimator.run([pub])\n",
    "\n",
    "        results = job.result()[0]\n",
    "        cost = results.data.evs\n",
    "        objective_func_vals.append(cost)\n",
    "        return cost\n",
    "\n",
    "    # Initialize parameters randomly\n",
    "    num_params = quantum_circuit.num_parameters\n",
    "    initial_params = np.random.uniform(-np.pi/6, np.pi/6, num_params)\n",
    "\n",
    "    optimization_options = {\n",
    "        'maxiter': max_iter,\n",
    "        'catol': 1e-6,\n",
    "        'disp': True\n",
    "    }\n",
    "\n",
    "    result = minimize(\n",
    "        cost_func_estimator,\n",
    "        initial_params,\n",
    "        args=(isa_circuit, cost_hamiltonian, estimator),\n",
    "        method='COBYLA',\n",
    "        options=optimization_options\n",
    "    )\n",
    "\n",
    "    sampler = Sampler(_backend)\n",
    "    optimal_circuit = isa_circuit.assign_parameters(result.x)\n",
    "    optimal_circuit.measure_all()\n",
    "\n",
    "    final_job = sampler.run([(optimal_circuit, None)])\n",
    "    final_result = final_job.result()\n",
    "\n",
    "    real_execution_time = final_result.metadata['execution']['execution_spans'].duration\n",
    "\n",
    "    full_counts = final_result[0].data.meas.get_counts()\n",
    "    final_counts = extract_relevant_bits(full_counts, layout, num_logical_qubits)\n",
    "\n",
    "    best_bitstring = max(final_counts, key=final_counts.get)\n",
    "\n",
    "    return real_execution_time, best_bitstring, final_counts"
   ],
   "outputs": [],
   "execution_count": 50
  },
  {
   "cell_type": "code",
   "metadata": {
    "ExecuteTime": {
     "end_time": "2025-06-24T03:09:17.639416Z",
     "start_time": "2025-06-24T03:09:17.636648Z"
    }
   },
   "source": [
    "def decode_binary_coloring(bitstring, num_vertices, num_colors):\n",
    "    \"\"\"\n",
    "    Decodes a binary-encoded QAOA bitstring into color assignments for each vertex.\n",
    "    Returns:\n",
    "        coloring (list): List of assigned color indices for each vertex.\n",
    "        valid (bool): True if all assignments are valid, False otherwise.\n",
    "    \"\"\"\n",
    "    bits_per_node = int(np.ceil(np.log2(num_colors)))\n",
    "    coloring = []\n",
    "    valid = True\n",
    "\n",
    "    for v in range(num_vertices):\n",
    "        start = v * bits_per_node\n",
    "        end = start + bits_per_node\n",
    "        color_bits = bitstring[start:end]\n",
    "        color_idx = int(color_bits, 2)\n",
    "        if color_idx >= num_colors:\n",
    "            coloring.append(-1)  # Invalid color assignment\n",
    "            valid = False\n",
    "        else:\n",
    "            coloring.append(color_idx)\n",
    "    return coloring, valid\n"
   ],
   "outputs": [],
   "execution_count": 51
  },
  {
   "cell_type": "code",
   "metadata": {
    "ExecuteTime": {
     "end_time": "2025-06-24T03:09:17.645045Z",
     "start_time": "2025-06-24T03:09:17.642655Z"
    }
   },
   "source": [
    "\n",
    "def run_qaoa_with_retry(graph, max_colors, p, max_iter, shots, max_attempts=3):\n",
    "    num_vertices = len(graph.nodes)\n",
    "    _iter = 0\n",
    "    for num_colors in range(2, max_colors + 1):\n",
    "            cost_hamiltonian = create_qubo_hamiltonian(graph, num_colors)\n",
    "            real_execution_time, _best_bitstring, _final_counts  = run_qaoa(\n",
    "                graph=graph, p=p, max_iter=max_iter, shots=shots, cost_hamiltonian=cost_hamiltonian\n",
    "            )\n",
    "            print(f\"best bitstring is ----- {_best_bitstring}\")\n",
    "            coloring, valid = decode_binary_coloring(_best_bitstring, num_vertices, num_colors)\n",
    "            print(f\"best coloring is ----- {coloring}\")\n",
    "            if valid and is_valid_coloring(graph, coloring):\n",
    "                return num_vertices, num_colors, real_execution_time, coloring, _iter\n",
    "            else:\n",
    "                _iter+=1\n",
    "\n",
    "            # Optionally: logger.info diagnostic info\n",
    "            # logging.error(f\"Attempt with {num_colors} colors failed. Coloring: {coloring}, Valid: {valid}\")\n",
    "\n",
    "    raise ValueError(f\"No valid coloring found with ≤ {max_colors} colors\")\n"
   ],
   "outputs": [],
   "execution_count": 52
  },
  {
   "cell_type": "code",
   "metadata": {
    "ExecuteTime": {
     "end_time": "2025-06-24T03:09:17.652903Z",
     "start_time": "2025-06-24T03:09:17.648073Z"
    }
   },
   "source": [
    "def dsatur_coloring(graph):\n",
    "    coloring = {}\n",
    "    saturation_degrees = {node: 0 for node in graph.nodes()}\n",
    "    available_colors = [True] * len(graph.nodes())\n",
    "    iterations = 0\n",
    "    while len(coloring) < len(graph.nodes()):\n",
    "        iterations += 1\n",
    "        uncolored_nodes = [node for node in graph.nodes() if node not in coloring]\n",
    "        max_saturation = -1\n",
    "        selected_node = None\n",
    "        for node in uncolored_nodes:\n",
    "            if saturation_degrees[node] > max_saturation:\n",
    "                max_saturation = saturation_degrees[node]\n",
    "                selected_node = node\n",
    "            elif saturation_degrees[node] == max_saturation:\n",
    "                if selected_node is None or graph.degree[node] > graph.degree[selected_node]:\n",
    "                    selected_node = node\n",
    "        neighbor_colors = {coloring[neighbor] for neighbor in graph.neighbors(selected_node) if neighbor in coloring}\n",
    "        for color in range(len(available_colors)):\n",
    "            if color not in neighbor_colors:\n",
    "                coloring[selected_node] = color\n",
    "                break\n",
    "        for neighbor in graph.neighbors(selected_node):\n",
    "            if neighbor not in coloring:\n",
    "                saturation_degrees[neighbor] += 1\n",
    "    return coloring, iterations"
   ],
   "outputs": [],
   "execution_count": 53
  },
  {
   "cell_type": "code",
   "metadata": {
    "ExecuteTime": {
     "end_time": "2025-06-24T03:09:17.661401Z",
     "start_time": "2025-06-24T03:09:17.658614Z"
    }
   },
   "source": [
    "def run_dsatur(graph):\n",
    "    start_time = time.time()\n",
    "    _, classical_iter = dsatur_coloring(graph)\n",
    "    classical_time = time.time() - start_time\n",
    "    return classical_time, classical_iter\n"
   ],
   "outputs": [],
   "execution_count": 54
  },
  {
   "cell_type": "code",
   "metadata": {
    "ExecuteTime": {
     "end_time": "2025-06-24T03:09:17.669799Z",
     "start_time": "2025-06-24T03:09:17.665978Z"
    }
   },
   "source": [
    "\n",
    "import json\n",
    "import os\n",
    "from typing import List, Dict, Any, Optional\n",
    "\n",
    "def update_experiment_data(\n",
    "    num_node: int,\n",
    "    data_key: str,\n",
    "    data_value: str,\n",
    "    filename: str = 'experiment_data.json'\n",
    ") -> Dict[str, Any]:\n",
    "\n",
    "    experiment_data = _load_experiment_data(filename)\n",
    "    num_nodes_str = str(num_node)\n",
    "\n",
    "    # Create entry for this number of nodes if it doesn't exist\n",
    "    if num_nodes_str not in experiment_data[\"experiment_data\"]:\n",
    "        experiment_data[\"experiment_data\"][num_nodes_str] = {}\n",
    "\n",
    "    # Update the data\n",
    "    experiment_data[\"experiment_data\"][num_nodes_str][data_key] = data_value\n",
    "\n",
    "    # Save updated data back to JSON file\n",
    "    _save_experiment_data(experiment_data, filename)\n",
    "    return experiment_data\n",
    "\n",
    "\n",
    "def _load_experiment_data(filename: str) -> Dict[str, Any]:\n",
    "    if os.path.exists(filename):\n",
    "        try:\n",
    "            with open(filename, 'r') as f:\n",
    "                experiment_data = json.load(f)\n",
    "        except (json.JSONDecodeError, IOError) as e:\n",
    "            experiment_data = {\"experiment_data\": {}}\n",
    "    else:\n",
    "        experiment_data = {\"experiment_data\": {}}\n",
    "\n",
    "    if \"experiment_data\" not in experiment_data:\n",
    "        experiment_data[\"experiment_data\"] = {}\n",
    "    return experiment_data\n",
    "\n",
    "\n",
    "def _save_experiment_data(experiment_data: Dict[str, Any], filename: str) -> None:\n",
    "    try:\n",
    "        with open(filename, 'w') as f:\n",
    "            json.dump(experiment_data, f, indent=2)\n",
    "    except IOError as e:\n",
    "        error_msg = f\"Error saving to {filename}: {e}\"\n",
    "        raise IOError(error_msg)\n"
   ],
   "outputs": [],
   "execution_count": 55
  },
  {
   "cell_type": "code",
   "metadata": {
    "ExecuteTime": {
     "end_time": "2025-06-24T03:09:17.679155Z",
     "start_time": "2025-06-24T03:09:17.677324Z"
    }
   },
   "source": [
    "# Initialize lists to store the results\n",
    "real_quantum_times = []\n",
    "num_nodes_list = []"
   ],
   "outputs": [],
   "execution_count": 56
  },
  {
   "cell_type": "code",
   "metadata": {
    "ExecuteTime": {
     "end_time": "2025-06-24T03:09:17.689334Z",
     "start_time": "2025-06-24T03:09:17.686748Z"
    }
   },
   "source": [
    "import time\n",
    "import matplotlib.pyplot as plt\n",
    "\n",
    "def plot_coloring(graph, coloring, num_colors):\n",
    "    pos = nx.spring_layout(graph)\n",
    "    cmap = plt.get_cmap('tab20', num_colors)\n",
    "    node_colors = [cmap(color) if color != -1 else (0.8, 0.8, 0.8) for color in coloring]\n",
    "    nx.draw(graph, pos, with_labels=True, node_color=node_colors, node_size=500, font_color='white')\n",
    "    plt.title(f'Graph Coloring with {num_colors} colors')\n",
    "    plt.show()"
   ],
   "outputs": [],
   "execution_count": 57
  },
  {
   "cell_type": "code",
   "metadata": {
    "ExecuteTime": {
     "end_time": "2025-06-24T03:09:17.695183Z",
     "start_time": "2025-06-24T03:09:17.693095Z"
    }
   },
   "source": [
    "def remap_colors(coloring):\n",
    "    unique_colors = sorted(set(coloring) - {-1})\n",
    "    color_map = {color: idx for idx, color in enumerate(unique_colors)}\n",
    "    remapped = [color_map[c] if c != -1 else -1 for c in coloring]\n",
    "    return remapped, len(unique_colors)"
   ],
   "outputs": [],
   "execution_count": 58
  },
  {
   "cell_type": "code",
   "metadata": {
    "ExecuteTime": {
     "end_time": "2025-06-24T03:09:17.701395Z",
     "start_time": "2025-06-24T03:09:17.699357Z"
    }
   },
   "source": [
    "def plot_coloring(graph, coloring, num_colors):\n",
    "    import networkx as nx\n",
    "    pos = nx.spring_layout(graph)\n",
    "    cmap = plt.get_cmap('tab20', num_colors)\n",
    "    node_colors = [cmap(color) if color != -1 else (0.8, 0.8, 0.8) for color in coloring]\n",
    "    nx.draw(graph, pos, with_labels=True, node_color=node_colors, node_size=500, font_color='white')\n",
    "    plt.title(f'Graph Coloring with {num_colors} colors')\n",
    "    plt.show()"
   ],
   "outputs": [],
   "execution_count": 59
  },
  {
   "cell_type": "code",
   "metadata": {
    "ExecuteTime": {
     "end_time": "2025-06-24T03:09:17.715847Z",
     "start_time": "2025-06-24T03:09:17.710943Z"
    }
   },
   "source": [
    "import networkx as nx\n",
    "from collections import deque\n",
    "\n",
    "def edge_bfs_depth(graph, edge):\n",
    "    \"\"\"Compute BFS depth starting from an edge (as a tuple of nodes).\"\"\"\n",
    "    visited_edges = set()\n",
    "    queue = deque([(edge, 0)])\n",
    "    max_depth = 0\n",
    "    while queue:\n",
    "        (u, v), depth = queue.popleft()\n",
    "        if (u, v) in visited_edges or (v, u) in visited_edges:\n",
    "            continue\n",
    "        visited_edges.add((u, v))\n",
    "        max_depth = max(max_depth, depth)\n",
    "        # Explore all edges adjacent to u or v\n",
    "        for neighbor in set(graph.neighbors(u)).union(graph.neighbors(v)):\n",
    "            if neighbor != u and neighbor != v:\n",
    "                for node in (u, v):\n",
    "                    if graph.has_edge(node, neighbor):\n",
    "                        queue.append(((node, neighbor), depth + 1))\n",
    "    return max_depth"
   ],
   "outputs": [],
   "execution_count": 60
  },
  {
   "cell_type": "code",
   "metadata": {
    "ExecuteTime": {
     "end_time": "2025-06-24T03:09:17.724527Z",
     "start_time": "2025-06-24T03:09:17.721777Z"
    }
   },
   "source": [
    "def compute_c_depth(graph):\n",
    "    \"\"\"Compute the covering depth (c-depth) for the graph.\"\"\"\n",
    "    max_bfs_depth = 0\n",
    "    for edge in graph.edges():\n",
    "        depth = edge_bfs_depth(graph, edge)\n",
    "        max_bfs_depth = max(max_bfs_depth, depth)\n",
    "    return max_bfs_depth"
   ],
   "outputs": [],
   "execution_count": 61
  },
  {
   "cell_type": "code",
   "metadata": {
    "ExecuteTime": {
     "end_time": "2025-06-24T03:09:17.733859Z",
     "start_time": "2025-06-24T03:09:17.730533Z"
    }
   },
   "source": [
    "def sweep_qaoa_p_levels(graph, max_colors, max_iter, shots, p_level):\n",
    "\n",
    "    logger.info(f\"\\nRunning QAOA with p={p_level}...\")\n",
    "    start_time = time.perf_counter()\n",
    "    try:\n",
    "\n",
    "        c_depth = compute_c_depth(graph)\n",
    "        p_value = range(max(1, c_depth-1), c_depth + p_level + 1)\n",
    "        print(f\"Graph c-depth: {c_depth}. Sweeping p in {p_value}\")\n",
    "\n",
    "        num_vertices, num_colors, real_execution_time, coloring, found_after = run_qaoa_with_retry(\n",
    "            graph, max_colors=max_colors, p=p_level, max_iter=max_iter, shots=shots\n",
    "        )\n",
    "        end_time = time.perf_counter()\n",
    "        total_time = end_time - start_time\n",
    "\n",
    "        remapped_coloring, actual_colors_used = remap_colors(coloring)\n",
    "\n",
    "        update_experiment_data(num_vertices, \"real_execution_time\", str(real_execution_time))\n",
    "        update_experiment_data(num_vertices, \"found_after\", str(found_after))\n",
    "        update_experiment_data(num_vertices, \"total_time\", str(total_time))\n",
    "        update_experiment_data(num_vertices, \"p_level\", str(p_level))\n",
    "        update_experiment_data(num_vertices, \"no_of_colors_allowed\", str(num_colors))\n",
    "        update_experiment_data(num_vertices, \"no_of_colors_actually_used\", str(actual_colors_used))\n",
    "        update_experiment_data(num_vertices, \"remapped_coloring\", str(remapped_coloring))\n",
    "\n",
    "        # Plot the solution for each p\n",
    "        plot_coloring(graph, remapped_coloring, actual_colors_used)\n",
    "\n",
    "    except ValueError as e:\n",
    "        end_time = time.perf_counter()\n",
    "        total_time = end_time - start_time\n",
    "        logger.info(f\"Failed for p={p_level}: {e} (Time: {total_time:.4f} s)\")\n",
    "\n"
   ],
   "outputs": [],
   "execution_count": 62
  },
  {
   "cell_type": "code",
   "metadata": {
    "ExecuteTime": {
     "end_time": "2025-06-24T03:23:54.456733Z",
     "start_time": "2025-06-24T03:09:32.591077Z"
    }
   },
   "source": [
    "for num_nodes in range(4, 5):\n",
    "    G = generate_graph(num_nodes=num_nodes)\n",
    "    sweep_qaoa_p_levels(G, max_colors=5, max_iter=100, shots=1024, p_level=3)\n"
   ],
   "outputs": [
    {
     "name": "stdout",
     "output_type": "stream",
     "text": [
      "2025-06-24 04:09:36,027 - __main__ - INFO - \n",
      "Running QAOA with p=3...\n",
      "Graph c-depth: 2. Sweeping p in range(1, 6)\n",
      "2025-06-24 04:09:44,947 - __main__ - INFO - <IBMBackend('ibm_brisbane')>\n"
     ]
    },
    {
     "name": "stderr",
     "output_type": "stream",
     "text": [
      "base_primitive._run:INFO:2025-06-24 04:09:47,752: Submitting job using options {'options': {'default_shots': 125}, 'version': 2, 'support_qiskit': True, 'resilience_level': 0}\n",
      "/Users/utkarshsharma/PycharmProjects/QAOA_vs_classical/.venv/lib/python3.11/site-packages/qiskit_ibm_runtime/qiskit_runtime_service.py:1129: UserWarning: IBM Quantum Platform is moving, and this version will be sunset on July 1. To get started on the new platform, read the migration guide at https://docs.quantum.ibm.com/migration-guides/classic-iqp-to-cloud-iqp\n",
      "  warnings.warn(warning_message)\n",
      "base_primitive._run:INFO:2025-06-24 04:10:13,246: Submitting job using options {'options': {'default_shots': 125}, 'version': 2, 'support_qiskit': True, 'resilience_level': 0}\n",
      "base_primitive._run:INFO:2025-06-24 04:10:25,329: Submitting job using options {'options': {'default_shots': 125}, 'version': 2, 'support_qiskit': True, 'resilience_level': 0}\n",
      "base_primitive._run:INFO:2025-06-24 04:10:37,259: Submitting job using options {'options': {'default_shots': 125}, 'version': 2, 'support_qiskit': True, 'resilience_level': 0}\n",
      "base_primitive._run:INFO:2025-06-24 04:10:49,701: Submitting job using options {'options': {'default_shots': 125}, 'version': 2, 'support_qiskit': True, 'resilience_level': 0}\n",
      "base_primitive._run:INFO:2025-06-24 04:11:02,799: Submitting job using options {'options': {'default_shots': 125}, 'version': 2, 'support_qiskit': True, 'resilience_level': 0}\n",
      "base_primitive._run:INFO:2025-06-24 04:11:13,662: Submitting job using options {'options': {'default_shots': 125}, 'version': 2, 'support_qiskit': True, 'resilience_level': 0}\n",
      "base_primitive._run:INFO:2025-06-24 04:11:25,526: Submitting job using options {'options': {'default_shots': 125}, 'version': 2, 'support_qiskit': True, 'resilience_level': 0}\n",
      "base_primitive._run:INFO:2025-06-24 04:11:37,601: Submitting job using options {'options': {'default_shots': 125}, 'version': 2, 'support_qiskit': True, 'resilience_level': 0}\n",
      "base_primitive._run:INFO:2025-06-24 04:11:51,135: Submitting job using options {'options': {'default_shots': 125}, 'version': 2, 'support_qiskit': True, 'resilience_level': 0}\n",
      "base_primitive._run:INFO:2025-06-24 04:12:07,911: Submitting job using options {'options': {'default_shots': 125}, 'version': 2, 'support_qiskit': True, 'resilience_level': 0}\n",
      "base_primitive._run:INFO:2025-06-24 04:12:19,464: Submitting job using options {'options': {'default_shots': 125}, 'version': 2, 'support_qiskit': True, 'resilience_level': 0}\n",
      "base_primitive._run:INFO:2025-06-24 04:12:31,700: Submitting job using options {'options': {'default_shots': 125}, 'version': 2, 'support_qiskit': True, 'resilience_level': 0}\n",
      "base_primitive._run:INFO:2025-06-24 04:12:43,402: Submitting job using options {'options': {'default_shots': 125}, 'version': 2, 'support_qiskit': True, 'resilience_level': 0}\n",
      "base_primitive._run:INFO:2025-06-24 04:12:55,785: Submitting job using options {'options': {'default_shots': 125}, 'version': 2, 'support_qiskit': True, 'resilience_level': 0}\n",
      "base_primitive._run:INFO:2025-06-24 04:13:07,734: Submitting job using options {'options': {'default_shots': 125}, 'version': 2, 'support_qiskit': True, 'resilience_level': 0}\n",
      "base_primitive._run:INFO:2025-06-24 04:13:18,725: Submitting job using options {'options': {'default_shots': 125}, 'version': 2, 'support_qiskit': True, 'resilience_level': 0}\n",
      "base_primitive._run:INFO:2025-06-24 04:13:30,265: Submitting job using options {'options': {'default_shots': 125}, 'version': 2, 'support_qiskit': True, 'resilience_level': 0}\n",
      "base_primitive._run:INFO:2025-06-24 04:13:41,521: Submitting job using options {'options': {'default_shots': 125}, 'version': 2, 'support_qiskit': True, 'resilience_level': 0}\n",
      "base_primitive._run:INFO:2025-06-24 04:13:53,082: Submitting job using options {'options': {'default_shots': 125}, 'version': 2, 'support_qiskit': True, 'resilience_level': 0}\n",
      "base_primitive._run:INFO:2025-06-24 04:14:03,041: Submitting job using options {'options': {'default_shots': 125}, 'version': 2, 'support_qiskit': True, 'resilience_level': 0}\n",
      "base_primitive._run:INFO:2025-06-24 04:14:13,887: Submitting job using options {'options': {'default_shots': 125}, 'version': 2, 'support_qiskit': True, 'resilience_level': 0}\n",
      "base_primitive._run:INFO:2025-06-24 04:14:24,503: Submitting job using options {'options': {'default_shots': 125}, 'version': 2, 'support_qiskit': True, 'resilience_level': 0}\n",
      "base_primitive._run:INFO:2025-06-24 04:14:34,801: Submitting job using options {'options': {'default_shots': 125}, 'version': 2, 'support_qiskit': True, 'resilience_level': 0}\n",
      "base_primitive._run:INFO:2025-06-24 04:14:45,381: Submitting job using options {'options': {'default_shots': 125}, 'version': 2, 'support_qiskit': True, 'resilience_level': 0}\n",
      "base_primitive._run:INFO:2025-06-24 04:14:56,053: Submitting job using options {'options': {'default_shots': 125}, 'version': 2, 'support_qiskit': True, 'resilience_level': 0}\n",
      "base_primitive._run:INFO:2025-06-24 04:15:07,747: Submitting job using options {'options': {'default_shots': 125}, 'version': 2, 'support_qiskit': True, 'resilience_level': 0}\n",
      "base_primitive._run:INFO:2025-06-24 04:15:21,267: Submitting job using options {'options': {'default_shots': 125}, 'version': 2, 'support_qiskit': True, 'resilience_level': 0}\n",
      "base_primitive._run:INFO:2025-06-24 04:15:33,518: Submitting job using options {'options': {'default_shots': 125}, 'version': 2, 'support_qiskit': True, 'resilience_level': 0}\n",
      "base_primitive._run:INFO:2025-06-24 04:15:44,605: Submitting job using options {'options': {'default_shots': 125}, 'version': 2, 'support_qiskit': True, 'resilience_level': 0}\n",
      "base_primitive._run:INFO:2025-06-24 04:15:55,449: Submitting job using options {'options': {'default_shots': 125}, 'version': 2, 'support_qiskit': True, 'resilience_level': 0}\n",
      "base_primitive._run:INFO:2025-06-24 04:16:06,118: Submitting job using options {'options': {'default_shots': 125}, 'version': 2, 'support_qiskit': True, 'resilience_level': 0}\n",
      "base_primitive._run:INFO:2025-06-24 04:16:17,016: Submitting job using options {'options': {'default_shots': 125}, 'version': 2, 'support_qiskit': True, 'resilience_level': 0}\n",
      "base_primitive._run:INFO:2025-06-24 04:16:28,030: Submitting job using options {'options': {'default_shots': 125}, 'version': 2, 'support_qiskit': True, 'resilience_level': 0}\n",
      "base_primitive._run:INFO:2025-06-24 04:16:39,497: Submitting job using options {'options': {'default_shots': 125}, 'version': 2, 'support_qiskit': True, 'resilience_level': 0}\n",
      "base_primitive._run:INFO:2025-06-24 04:16:49,522: Submitting job using options {'options': {'default_shots': 125}, 'version': 2, 'support_qiskit': True, 'resilience_level': 0}\n",
      "base_primitive._run:INFO:2025-06-24 04:17:01,979: Submitting job using options {'options': {'default_shots': 125}, 'version': 2, 'support_qiskit': True, 'resilience_level': 0}\n",
      "base_primitive._run:INFO:2025-06-24 04:17:14,101: Submitting job using options {'options': {'default_shots': 125}, 'version': 2, 'support_qiskit': True, 'resilience_level': 0}\n",
      "base_primitive._run:INFO:2025-06-24 04:17:24,958: Submitting job using options {'options': {'default_shots': 125}, 'version': 2, 'support_qiskit': True, 'resilience_level': 0}\n",
      "base_primitive._run:INFO:2025-06-24 04:17:35,560: Submitting job using options {'options': {'default_shots': 125}, 'version': 2, 'support_qiskit': True, 'resilience_level': 0}\n",
      "base_primitive._run:INFO:2025-06-24 04:17:46,295: Submitting job using options {'options': {'default_shots': 125}, 'version': 2, 'support_qiskit': True, 'resilience_level': 0}\n",
      "base_primitive._run:INFO:2025-06-24 04:17:57,117: Submitting job using options {'options': {'default_shots': 125}, 'version': 2, 'support_qiskit': True, 'resilience_level': 0}\n",
      "base_primitive._run:INFO:2025-06-24 04:18:09,254: Submitting job using options {'options': {'default_shots': 125}, 'version': 2, 'support_qiskit': True, 'resilience_level': 0}\n",
      "base_primitive._run:INFO:2025-06-24 04:18:19,398: Submitting job using options {'options': {'default_shots': 125}, 'version': 2, 'support_qiskit': True, 'resilience_level': 0}\n",
      "base_primitive._run:INFO:2025-06-24 04:18:32,072: Submitting job using options {'options': {'default_shots': 125}, 'version': 2, 'support_qiskit': True, 'resilience_level': 0}\n",
      "base_primitive._run:INFO:2025-06-24 04:18:42,584: Submitting job using options {'options': {'default_shots': 125}, 'version': 2, 'support_qiskit': True, 'resilience_level': 0}\n",
      "base_primitive._run:INFO:2025-06-24 04:19:00,795: Submitting job using options {'options': {'default_shots': 125}, 'version': 2, 'support_qiskit': True, 'resilience_level': 0}\n",
      "base_primitive._run:INFO:2025-06-24 04:19:13,116: Submitting job using options {'options': {'default_shots': 125}, 'version': 2, 'support_qiskit': True, 'resilience_level': 0}\n",
      "base_primitive._run:INFO:2025-06-24 04:19:25,354: Submitting job using options {'options': {'default_shots': 125}, 'version': 2, 'support_qiskit': True, 'resilience_level': 0}\n",
      "base_primitive._run:INFO:2025-06-24 04:19:38,483: Submitting job using options {'options': {'default_shots': 125}, 'version': 2, 'support_qiskit': True, 'resilience_level': 0}\n",
      "base_primitive._run:INFO:2025-06-24 04:19:51,991: Submitting job using options {'options': {'default_shots': 125}, 'version': 2, 'support_qiskit': True, 'resilience_level': 0}\n",
      "base_primitive._run:INFO:2025-06-24 04:20:07,359: Submitting job using options {'options': {'default_shots': 125}, 'version': 2, 'support_qiskit': True, 'resilience_level': 0}\n",
      "base_primitive._run:INFO:2025-06-24 04:20:20,439: Submitting job using options {'options': {'default_shots': 125}, 'version': 2, 'support_qiskit': True, 'resilience_level': 0}\n",
      "base_primitive._run:INFO:2025-06-24 04:20:30,845: Submitting job using options {'options': {'default_shots': 125}, 'version': 2, 'support_qiskit': True, 'resilience_level': 0}\n",
      "base_primitive._run:INFO:2025-06-24 04:20:44,910: Submitting job using options {'options': {}, 'version': 2, 'support_qiskit': True}\n"
     ]
    },
    {
     "name": "stdout",
     "output_type": "stream",
     "text": [
      "\n",
      "   Normal return from subroutine COBYLA\n",
      "\n",
      "   NFVALS =   54   F = 6.400000E-02    MAXCV = 0.000000E+00\n",
      "   X = 1.179993E+00   8.987830E-01   6.846241E-01  -3.776503E-01   6.406050E-02\n",
      "       1.622625E-01\n"
     ]
    },
    {
     "ename": "KeyboardInterrupt",
     "evalue": "",
     "output_type": "error",
     "traceback": [
      "\u001B[31m---------------------------------------------------------------------------\u001B[39m",
      "\u001B[31mKeyboardInterrupt\u001B[39m                         Traceback (most recent call last)",
      "\u001B[36mCell\u001B[39m\u001B[36m \u001B[39m\u001B[32mIn[64]\u001B[39m\u001B[32m, line 3\u001B[39m\n\u001B[32m      1\u001B[39m \u001B[38;5;28;01mfor\u001B[39;00m num_nodes \u001B[38;5;129;01min\u001B[39;00m \u001B[38;5;28mrange\u001B[39m(\u001B[32m4\u001B[39m, \u001B[32m5\u001B[39m):\n\u001B[32m      2\u001B[39m     G = generate_graph(num_nodes=num_nodes)\n\u001B[32m----> \u001B[39m\u001B[32m3\u001B[39m     \u001B[43msweep_qaoa_p_levels\u001B[49m\u001B[43m(\u001B[49m\u001B[43mG\u001B[49m\u001B[43m,\u001B[49m\u001B[43m \u001B[49m\u001B[43mmax_colors\u001B[49m\u001B[43m=\u001B[49m\u001B[32;43m5\u001B[39;49m\u001B[43m,\u001B[49m\u001B[43m \u001B[49m\u001B[43mmax_iter\u001B[49m\u001B[43m=\u001B[49m\u001B[32;43m100\u001B[39;49m\u001B[43m,\u001B[49m\u001B[43m \u001B[49m\u001B[43mshots\u001B[49m\u001B[43m=\u001B[49m\u001B[32;43m1024\u001B[39;49m\u001B[43m,\u001B[49m\u001B[43m \u001B[49m\u001B[43mp_level\u001B[49m\u001B[43m=\u001B[49m\u001B[32;43m3\u001B[39;49m\u001B[43m)\u001B[49m\n",
      "\u001B[36mCell\u001B[39m\u001B[36m \u001B[39m\u001B[32mIn[62]\u001B[39m\u001B[32m, line 11\u001B[39m, in \u001B[36msweep_qaoa_p_levels\u001B[39m\u001B[34m(graph, max_colors, max_iter, shots, p_level)\u001B[39m\n\u001B[32m      8\u001B[39m p_value = \u001B[38;5;28mrange\u001B[39m(\u001B[38;5;28mmax\u001B[39m(\u001B[32m1\u001B[39m, c_depth-\u001B[32m1\u001B[39m), c_depth + p_level + \u001B[32m1\u001B[39m)\n\u001B[32m      9\u001B[39m \u001B[38;5;28mprint\u001B[39m(\u001B[33mf\u001B[39m\u001B[33m\"\u001B[39m\u001B[33mGraph c-depth: \u001B[39m\u001B[38;5;132;01m{\u001B[39;00mc_depth\u001B[38;5;132;01m}\u001B[39;00m\u001B[33m. Sweeping p in \u001B[39m\u001B[38;5;132;01m{\u001B[39;00mp_value\u001B[38;5;132;01m}\u001B[39;00m\u001B[33m\"\u001B[39m)\n\u001B[32m---> \u001B[39m\u001B[32m11\u001B[39m num_vertices, num_colors, real_execution_time, coloring, found_after = \u001B[43mrun_qaoa_with_retry\u001B[49m\u001B[43m(\u001B[49m\n\u001B[32m     12\u001B[39m \u001B[43m    \u001B[49m\u001B[43mgraph\u001B[49m\u001B[43m,\u001B[49m\u001B[43m \u001B[49m\u001B[43mmax_colors\u001B[49m\u001B[43m=\u001B[49m\u001B[43mmax_colors\u001B[49m\u001B[43m,\u001B[49m\u001B[43m \u001B[49m\u001B[43mp\u001B[49m\u001B[43m=\u001B[49m\u001B[43mp_level\u001B[49m\u001B[43m,\u001B[49m\u001B[43m \u001B[49m\u001B[43mmax_iter\u001B[49m\u001B[43m=\u001B[49m\u001B[43mmax_iter\u001B[49m\u001B[43m,\u001B[49m\u001B[43m \u001B[49m\u001B[43mshots\u001B[49m\u001B[43m=\u001B[49m\u001B[43mshots\u001B[49m\n\u001B[32m     13\u001B[39m \u001B[43m\u001B[49m\u001B[43m)\u001B[49m\n\u001B[32m     14\u001B[39m end_time = time.perf_counter()\n\u001B[32m     15\u001B[39m total_time = end_time - start_time\n",
      "\u001B[36mCell\u001B[39m\u001B[36m \u001B[39m\u001B[32mIn[52]\u001B[39m\u001B[32m, line 6\u001B[39m, in \u001B[36mrun_qaoa_with_retry\u001B[39m\u001B[34m(graph, max_colors, p, max_iter, shots, max_attempts)\u001B[39m\n\u001B[32m      4\u001B[39m \u001B[38;5;28;01mfor\u001B[39;00m num_colors \u001B[38;5;129;01min\u001B[39;00m \u001B[38;5;28mrange\u001B[39m(\u001B[32m2\u001B[39m, max_colors + \u001B[32m1\u001B[39m):\n\u001B[32m      5\u001B[39m         cost_hamiltonian = create_qubo_hamiltonian(graph, num_colors)\n\u001B[32m----> \u001B[39m\u001B[32m6\u001B[39m         real_execution_time, _best_bitstring, _final_counts  = \u001B[43mrun_qaoa\u001B[49m\u001B[43m(\u001B[49m\n\u001B[32m      7\u001B[39m \u001B[43m            \u001B[49m\u001B[43mgraph\u001B[49m\u001B[43m=\u001B[49m\u001B[43mgraph\u001B[49m\u001B[43m,\u001B[49m\u001B[43m \u001B[49m\u001B[43mp\u001B[49m\u001B[43m=\u001B[49m\u001B[43mp\u001B[49m\u001B[43m,\u001B[49m\u001B[43m \u001B[49m\u001B[43mmax_iter\u001B[49m\u001B[43m=\u001B[49m\u001B[43mmax_iter\u001B[49m\u001B[43m,\u001B[49m\u001B[43m \u001B[49m\u001B[43mshots\u001B[49m\u001B[43m=\u001B[49m\u001B[43mshots\u001B[49m\u001B[43m,\u001B[49m\u001B[43m \u001B[49m\u001B[43mcost_hamiltonian\u001B[49m\u001B[43m=\u001B[49m\u001B[43mcost_hamiltonian\u001B[49m\n\u001B[32m      8\u001B[39m \u001B[43m        \u001B[49m\u001B[43m)\u001B[49m\n\u001B[32m      9\u001B[39m         \u001B[38;5;28mprint\u001B[39m(\u001B[33mf\u001B[39m\u001B[33m\"\u001B[39m\u001B[33mbest bitstring is ----- \u001B[39m\u001B[38;5;132;01m{\u001B[39;00m_best_bitstring\u001B[38;5;132;01m}\u001B[39;00m\u001B[33m\"\u001B[39m)\n\u001B[32m     10\u001B[39m         coloring, valid = decode_binary_coloring(_best_bitstring, num_vertices, num_colors)\n",
      "\u001B[36mCell\u001B[39m\u001B[36m \u001B[39m\u001B[32mIn[50]\u001B[39m\u001B[32m, line 69\u001B[39m, in \u001B[36mrun_qaoa\u001B[39m\u001B[34m(graph, cost_hamiltonian, p, max_iter, shots)\u001B[39m\n\u001B[32m     66\u001B[39m final_job = sampler.run([(optimal_circuit, \u001B[38;5;28;01mNone\u001B[39;00m)])\n\u001B[32m     67\u001B[39m final_result = final_job.result()\n\u001B[32m---> \u001B[39m\u001B[32m69\u001B[39m real_execution_time = \u001B[43mfinal_result\u001B[49m.metadata[\u001B[33m'\u001B[39m\u001B[33mexecution\u001B[39m\u001B[33m'\u001B[39m][\u001B[33m'\u001B[39m\u001B[33mexecution_spans\u001B[39m\u001B[33m'\u001B[39m].duration\n\u001B[32m     71\u001B[39m final_counts = final_result[\u001B[32m0\u001B[39m].data.meas.get_counts()\n\u001B[32m     72\u001B[39m best_bitstring = \u001B[38;5;28mmax\u001B[39m(final_counts, key=final_counts.get)\n",
      "\u001B[36mFile \u001B[39m\u001B[32m_pydevd_bundle/pydevd_cython_darwin_311_64.pyx:1187\u001B[39m, in \u001B[36m_pydevd_bundle.pydevd_cython_darwin_311_64.SafeCallWrapper.__call__\u001B[39m\u001B[34m()\u001B[39m\n",
      "\u001B[36mFile \u001B[39m\u001B[32m_pydevd_bundle/pydevd_cython_darwin_311_64.pyx:627\u001B[39m, in \u001B[36m_pydevd_bundle.pydevd_cython_darwin_311_64.PyDBFrame.trace_dispatch\u001B[39m\u001B[34m()\u001B[39m\n",
      "\u001B[36mFile \u001B[39m\u001B[32m_pydevd_bundle/pydevd_cython_darwin_311_64.pyx:937\u001B[39m, in \u001B[36m_pydevd_bundle.pydevd_cython_darwin_311_64.PyDBFrame.trace_dispatch\u001B[39m\u001B[34m()\u001B[39m\n",
      "\u001B[36mFile \u001B[39m\u001B[32m_pydevd_bundle/pydevd_cython_darwin_311_64.pyx:928\u001B[39m, in \u001B[36m_pydevd_bundle.pydevd_cython_darwin_311_64.PyDBFrame.trace_dispatch\u001B[39m\u001B[34m()\u001B[39m\n",
      "\u001B[36mFile \u001B[39m\u001B[32m_pydevd_bundle/pydevd_cython_darwin_311_64.pyx:585\u001B[39m, in \u001B[36m_pydevd_bundle.pydevd_cython_darwin_311_64.PyDBFrame.do_wait_suspend\u001B[39m\u001B[34m()\u001B[39m\n",
      "\u001B[36mFile \u001B[39m\u001B[32m/Applications/PyCharm.app/Contents/plugins/python-ce/helpers/pydev/pydevd.py:1220\u001B[39m, in \u001B[36mPyDB.do_wait_suspend\u001B[39m\u001B[34m(self, thread, frame, event, arg, send_suspend_message, is_unhandled_exception)\u001B[39m\n\u001B[32m   1217\u001B[39m         from_this_thread.append(frame_id)\n\u001B[32m   1219\u001B[39m \u001B[38;5;28;01mwith\u001B[39;00m \u001B[38;5;28mself\u001B[39m._threads_suspended_single_notification.notify_thread_suspended(thread_id, stop_reason):\n\u001B[32m-> \u001B[39m\u001B[32m1220\u001B[39m     \u001B[38;5;28;43mself\u001B[39;49m\u001B[43m.\u001B[49m\u001B[43m_do_wait_suspend\u001B[49m\u001B[43m(\u001B[49m\u001B[43mthread\u001B[49m\u001B[43m,\u001B[49m\u001B[43m \u001B[49m\u001B[43mframe\u001B[49m\u001B[43m,\u001B[49m\u001B[43m \u001B[49m\u001B[43mevent\u001B[49m\u001B[43m,\u001B[49m\u001B[43m \u001B[49m\u001B[43marg\u001B[49m\u001B[43m,\u001B[49m\u001B[43m \u001B[49m\u001B[43msuspend_type\u001B[49m\u001B[43m,\u001B[49m\u001B[43m \u001B[49m\u001B[43mfrom_this_thread\u001B[49m\u001B[43m)\u001B[49m\n",
      "\u001B[36mFile \u001B[39m\u001B[32m/Applications/PyCharm.app/Contents/plugins/python-ce/helpers/pydev/pydevd.py:1235\u001B[39m, in \u001B[36mPyDB._do_wait_suspend\u001B[39m\u001B[34m(self, thread, frame, event, arg, suspend_type, from_this_thread)\u001B[39m\n\u001B[32m   1232\u001B[39m             \u001B[38;5;28mself\u001B[39m._call_mpl_hook()\n\u001B[32m   1234\u001B[39m         \u001B[38;5;28mself\u001B[39m.process_internal_commands()\n\u001B[32m-> \u001B[39m\u001B[32m1235\u001B[39m         \u001B[43mtime\u001B[49m\u001B[43m.\u001B[49m\u001B[43msleep\u001B[49m\u001B[43m(\u001B[49m\u001B[32;43m0.01\u001B[39;49m\u001B[43m)\u001B[49m\n\u001B[32m   1237\u001B[39m \u001B[38;5;28mself\u001B[39m.cancel_async_evaluation(get_current_thread_id(thread), \u001B[38;5;28mstr\u001B[39m(\u001B[38;5;28mid\u001B[39m(frame)))\n\u001B[32m   1239\u001B[39m \u001B[38;5;66;03m# process any stepping instructions\u001B[39;00m\n",
      "\u001B[31mKeyboardInterrupt\u001B[39m: "
     ]
    }
   ],
   "execution_count": 64
  },
  {
   "cell_type": "code",
   "metadata": {
    "ExecuteTime": {
     "end_time": "2025-06-24T01:53:54.098215Z",
     "start_time": "2025-06-24T01:53:54.087831Z"
    }
   },
   "source": [],
   "outputs": [],
   "execution_count": null
  }
 ],
 "metadata": {
  "kernelspec": {
   "display_name": ".venv",
   "language": "python",
   "name": "python3"
  },
  "language_info": {
   "codemirror_mode": {
    "name": "ipython",
    "version": 3
   },
   "file_extension": ".py",
   "mimetype": "text/x-python",
   "name": "python",
   "nbconvert_exporter": "python",
   "pygments_lexer": "ipython3",
   "version": "3.12.6"
  }
 },
 "nbformat": 4,
 "nbformat_minor": 2
}
