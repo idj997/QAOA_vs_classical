{
 "cells": [
  {
   "metadata": {
    "ExecuteTime": {
     "end_time": "2025-06-23T10:05:33.377593Z",
     "start_time": "2025-06-23T10:05:33.289872Z"
    }
   },
   "cell_type": "code",
   "source": [
    "import networkx as nx\n",
    "import matplotlib.pyplot as plt\n",
    "from qiskit.quantum_info import SparsePauliOp, Pauli\n",
    "from qiskit.circuit.library import QAOAAnsatz\n",
    "import time\n",
    "from qiskit_ibm_runtime import QiskitRuntimeService, SamplerV2 as Sampler\n",
    "import time\n",
    "import logging\n",
    "import sys\n",
    "\n",
    "# Configure logging for Jupyter\n",
    "logging.basicConfig(\n",
    "    level=logging.INFO,\n",
    "    format='%(asctime)s - %(name)s - %(levelname)s - %(message)s',\n",
    "    handlers=[\n",
    "        logging.StreamHandler(sys.stdout)  # Output to notebook cell\n",
    "    ]\n",
    ")\n",
    "\n",
    "logger = logging.getLogger(__name__)"
   ],
   "outputs": [],
   "execution_count": 22
  },
  {
   "cell_type": "code",
   "metadata": {
    "ExecuteTime": {
     "end_time": "2025-06-23T10:05:33.432545Z",
     "start_time": "2025-06-23T10:05:33.414132Z"
    }
   },
   "source": [
    "\n",
    "QiskitRuntimeService.delete_account()\n",
    "#\n",
    "QiskitRuntimeService.save_account(channel='ibm_quantum', instance='ibm-q/open/main', token='f7dcb0e280bb5cb4a0508da6f018e31a6ced0b87a2dc2740e3fa70743260d949bb8503b3ed4ee83301722858dcfe6c7152c54a81bcdf2469de4d9c816d2ce9f1', overwrite=True)\n",
    "\n",
    "# QiskitRuntimeService.save_account(token=\"tEH4qCQyK2sfiXgHyL4vOxku8LUcqSLa0lwg_0zzKS8O\", instance=\"crn:v1:bluemix:public:quantum-computing:us-east:a/0d5f2945f5c44fd6a69d8a9dd034808c:2e832f3b-b7a7-466c-b735-53a9ed77d94b::\", overwrite=True)"
   ],
   "outputs": [],
   "execution_count": 23
  },
  {
   "metadata": {
    "ExecuteTime": {
     "end_time": "2025-06-23T10:05:39.170797Z",
     "start_time": "2025-06-23T10:05:33.443560Z"
    }
   },
   "cell_type": "code",
   "source": [
    "service = QiskitRuntimeService()\n",
    "\n",
    "# for backend in service.backends(simulator=False, operational=True):\n",
    "#     logger.info(f\"{backend.name} – {backend.configuration().num_qubits} qubits\")"
   ],
   "outputs": [
    {
     "name": "stderr",
     "output_type": "stream",
     "text": [
      "/var/folders/j_/6x8b_dk9253_tf1dd1vvw84r0000gn/T/ipykernel_43043/3926992590.py:1: DeprecationWarning: The \"ibm_quantum\" channel option is deprecated and will be sunset on 1 July. After this date, \"ibm_cloud\", \"ibm_quantum_platform\", and \"local\" will be the only valid channels. Open Plan users should migrate now.  All other users should review the migration guide (https://quantum.cloud.ibm.com/docs/migration-guides/classic-iqp-to-cloud-iqp)to learn when to migrate.\n",
      "  service = QiskitRuntimeService()\n"
     ]
    }
   ],
   "execution_count": 24
  },
  {
   "cell_type": "code",
   "metadata": {
    "ExecuteTime": {
     "end_time": "2025-06-23T10:05:39.214593Z",
     "start_time": "2025-06-23T10:05:39.209286Z"
    }
   },
   "source": [
    "def generate_graph(num_nodes, edge_prob=0.5):\n",
    "    return nx.erdos_renyi_graph(num_nodes, edge_prob)"
   ],
   "outputs": [],
   "execution_count": 25
  },
  {
   "cell_type": "code",
   "metadata": {
    "ExecuteTime": {
     "end_time": "2025-06-23T10:05:39.233112Z",
     "start_time": "2025-06-23T10:05:39.222876Z"
    }
   },
   "source": [
    "import numpy as np\n",
    "\n",
    "# QUBO conversion and Hamiltonian construction\n",
    "def create_qubo_hamiltonian(graph, num_colors):\n",
    "    num_nodes = graph.number_of_nodes()\n",
    "    Q = np.zeros((num_nodes * num_colors, num_nodes * num_colors))\n",
    "    for i in range(num_nodes):\n",
    "        for c in range(num_colors):\n",
    "            Q[i * num_colors + c, i * num_colors + c] -= 1\n",
    "            for cp in range(c + 1, num_colors):\n",
    "                Q[i * num_colors + c, i * num_colors + cp] += 2\n",
    "    for i, j in graph.edges():\n",
    "        for c in range(num_colors):\n",
    "            Q[i * num_colors + c, j * num_colors + c] += 1\n",
    "    Q = 0.5 * (Q + Q.T)\n",
    "    linear = np.diag(Q)\n",
    "    quadratic = Q - np.diag(linear)\n",
    "    h = {i: linear[i] for i in range(len(linear))}\n",
    "    J = {(i, j): quadratic[i, j] for i in range(len(linear)) for j in range(i + 1, len(linear)) if quadratic[i, j] != 0}\n",
    "    \n",
    "    pauli_list = []\n",
    "    for (i, j), weight in J.items():\n",
    "        z_p = np.zeros(len(linear), dtype=bool)\n",
    "        x_p = np.zeros(len(linear), dtype=bool)\n",
    "        z_p[i] = True\n",
    "        z_p[j] = True\n",
    "        pauli_list.append((Pauli((z_p, x_p)), weight))\n",
    "    for i, weight in h.items():\n",
    "        z_p = np.zeros(len(linear), dtype=bool)\n",
    "        x_p = np.zeros(len(linear), dtype=bool)\n",
    "        z_p[i] = True\n",
    "        pauli_list.append((Pauli((z_p, x_p)), weight))\n",
    "    hamiltonian = sum([SparsePauliOp.from_list([(pauli.to_label(), weight)]) for pauli, weight in pauli_list])\n",
    "    \n",
    "    return hamiltonian"
   ],
   "outputs": [],
   "execution_count": 26
  },
  {
   "cell_type": "code",
   "metadata": {
    "ExecuteTime": {
     "end_time": "2025-06-23T10:05:39.247198Z",
     "start_time": "2025-06-23T10:05:39.241472Z"
    }
   },
   "source": [
    "def is_valid_coloring(graph, coloring):\n",
    "    \"\"\"Return True if no adjacent vertices share the same color and all nodes are assigned valid colors.\"\"\"\n",
    "    for u, v in graph.edges():\n",
    "        if coloring[u] == -1 or coloring[v] == -1:\n",
    "            return False\n",
    "        if coloring[u] == coloring[v]:\n",
    "            return False\n",
    "    return True\n"
   ],
   "outputs": [],
   "execution_count": 27
  },
  {
   "cell_type": "code",
   "metadata": {
    "ExecuteTime": {
     "end_time": "2025-06-23T10:07:30.180477Z",
     "start_time": "2025-06-23T10:07:30.149178Z"
    }
   },
   "source": [
    "def decode_solution(result, num_colors):\n",
    "    \"\"\"Convert QAOA result to color assignments.\"\"\"\n",
    "    optimal_bitstring = max(result.eigenstate.items(), key=lambda x: x[1])[0]\n",
    "    n_vertices = len(optimal_bitstring) // num_colors\n",
    "    coloring = []\n",
    "    \n",
    "    for i in range(n_vertices):\n",
    "        # Extract color assignment for vertex i\n",
    "        color_bits = optimal_bitstring[i*num_colors : (i+1)*num_colors]\n",
    "        color = color_bits.index('1')  # Find which color is assigned\n",
    "        coloring.append(color)\n",
    "    \n",
    "    return coloring\n"
   ],
   "outputs": [],
   "execution_count": 30
  },
  {
   "cell_type": "code",
   "metadata": {
    "ExecuteTime": {
     "end_time": "2025-06-23T10:18:47.198648Z",
     "start_time": "2025-06-23T10:18:47.183224Z"
    }
   },
   "source": [
    "import numpy as np\n",
    "from scipy.optimize import minimize\n",
    "from qiskit.circuit.library import QAOAAnsatz\n",
    "from qiskit.transpiler import generate_preset_pass_manager\n",
    "from qiskit_ibm_runtime import SamplerV2 as Sampler, EstimatorV2 as Estimator\n",
    "from qiskit.quantum_info import Pauli, SparsePauliOp\n",
    "import time\n",
    "\n",
    "from qiskit_aer import AerSimulator\n",
    "\n",
    "def run_qaoa(graph, cost_hamiltonian, p, max_iter, shots):\n",
    "\n",
    "    # Create QAOA ansatz\n",
    "    quantum_circuit = QAOAAnsatz(cost_operator=cost_hamiltonian, reps=p)\n",
    "    backend = service.least_busy(\n",
    "        operational=True, simulator=False, min_num_qubits=graph.number_of_nodes(),\n",
    "    )\n",
    "    _backend = AerSimulator.from_backend(backend)\n",
    "    logger.info(_backend)\n",
    "\n",
    "    # Transpile circuit and get the mapping\n",
    "    pm = generate_preset_pass_manager(backend=_backend, optimization_level=3, seed_transpiler=42)\n",
    "    isa_circuit = pm.run(quantum_circuit)\n",
    "\n",
    "    # Initialize estimator\n",
    "    estimator = Estimator(_backend)\n",
    "    estimator.options.resilience_level = 0\n",
    "    estimator.options.default_shots = 250\n",
    "\n",
    "    objective_func_vals = [] # Global variable\n",
    "    def cost_func_estimator(params, ansatz, hamiltonian, estimator):\n",
    "        isa_hamiltonian = hamiltonian.apply_layout(ansatz.layout)\n",
    "\n",
    "        pub = (ansatz, isa_hamiltonian, params)\n",
    "        job = estimator.run([pub])\n",
    "\n",
    "        results = job.result()[0]\n",
    "        cost = results.data.evs\n",
    "        objective_func_vals.append(cost)\n",
    "        return cost\n",
    "\n",
    "    # Initialize parameters randomly\n",
    "    num_params = quantum_circuit.num_parameters\n",
    "    initial_params = np.random.uniform(-np.pi/6, np.pi/6, num_params)\n",
    "\n",
    "    optimization_options = {\n",
    "        'maxiter': max_iter,\n",
    "        'catol': 1e-6,\n",
    "        'disp': True\n",
    "    }\n",
    "\n",
    "    result = minimize(\n",
    "        cost_func_estimator,\n",
    "        initial_params,\n",
    "        args=(isa_circuit, cost_hamiltonian, estimator),\n",
    "        method='COBYLA',\n",
    "        options=optimization_options\n",
    "    )\n",
    "\n",
    "    sampler = Sampler(_backend)\n",
    "    optimal_circuit = isa_circuit.assign_parameters(result.x)\n",
    "    optimal_circuit.measure_all()\n",
    "\n",
    "    final_job = sampler.run([(optimal_circuit, None)])\n",
    "    final_result = final_job.result()\n",
    "\n",
    "    real_execution_time = final_result.metadata['execution']['execution_spans'].duration\n",
    "\n",
    "    final_counts = final_result[0].data.meas.get_counts()\n",
    "    best_bitstring = max(final_counts, key=final_counts.get)\n",
    "\n",
    "    return real_execution_time, best_bitstring, final_counts"
   ],
   "outputs": [],
   "execution_count": 46
  },
  {
   "cell_type": "code",
   "metadata": {
    "ExecuteTime": {
     "end_time": "2025-06-23T10:18:47.208624Z",
     "start_time": "2025-06-23T10:18:47.204292Z"
    }
   },
   "source": [
    "def decode_binary_coloring(bitstring, num_vertices, num_colors):\n",
    "    \"\"\"\n",
    "    Decodes a binary-encoded QAOA bitstring into color assignments for each vertex.\n",
    "    Returns:\n",
    "        coloring (list): List of assigned color indices for each vertex.\n",
    "        valid (bool): True if all assignments are valid, False otherwise.\n",
    "    \"\"\"\n",
    "    bits_per_node = int(np.ceil(np.log2(num_colors)))\n",
    "    coloring = []\n",
    "    valid = True\n",
    "\n",
    "    for v in range(num_vertices):\n",
    "        start = v * bits_per_node\n",
    "        end = start + bits_per_node\n",
    "        color_bits = bitstring[start:end]\n",
    "        color_idx = int(color_bits, 2)\n",
    "        if color_idx >= num_colors:\n",
    "            coloring.append(-1)  # Invalid color assignment\n",
    "            valid = False\n",
    "        else:\n",
    "            coloring.append(color_idx)\n",
    "    return coloring, valid\n"
   ],
   "outputs": [],
   "execution_count": 47
  },
  {
   "cell_type": "code",
   "metadata": {
    "ExecuteTime": {
     "end_time": "2025-06-23T10:18:47.216497Z",
     "start_time": "2025-06-23T10:18:47.212120Z"
    }
   },
   "source": [
    "\n",
    "def run_qaoa_with_retry(graph, max_colors, p, max_iter, shots, max_attempts=3):\n",
    "    num_vertices = len(graph.nodes)\n",
    "    _iter = 0\n",
    "    for num_colors in range(2, max_colors + 1):\n",
    "            cost_hamiltonian = create_qubo_hamiltonian(graph, num_colors)\n",
    "            real_execution_time, _best_bitstring, _final_counts  = run_qaoa(\n",
    "                graph=graph, p=p, max_iter=max_iter, shots=shots, cost_hamiltonian=cost_hamiltonian\n",
    "            )\n",
    "\n",
    "            coloring, valid = decode_binary_coloring(_best_bitstring, num_vertices, num_colors)\n",
    "\n",
    "            if valid and is_valid_coloring(graph, coloring):\n",
    "                return num_vertices, num_colors, real_execution_time, coloring, _iter\n",
    "            else:\n",
    "                _iter+=1\n",
    "\n",
    "            # Optionally: logger.info diagnostic info\n",
    "            # logging.error(f\"Attempt with {num_colors} colors failed. Coloring: {coloring}, Valid: {valid}\")\n",
    "\n",
    "    raise ValueError(f\"No valid coloring found with ≤ {max_colors} colors\")\n"
   ],
   "outputs": [],
   "execution_count": 48
  },
  {
   "cell_type": "code",
   "metadata": {
    "ExecuteTime": {
     "end_time": "2025-06-23T10:18:47.225988Z",
     "start_time": "2025-06-23T10:18:47.219872Z"
    }
   },
   "source": [
    "def dsatur_coloring(graph):\n",
    "    coloring = {}\n",
    "    saturation_degrees = {node: 0 for node in graph.nodes()}\n",
    "    available_colors = [True] * len(graph.nodes())\n",
    "    iterations = 0\n",
    "    while len(coloring) < len(graph.nodes()):\n",
    "        iterations += 1\n",
    "        uncolored_nodes = [node for node in graph.nodes() if node not in coloring]\n",
    "        max_saturation = -1\n",
    "        selected_node = None\n",
    "        for node in uncolored_nodes:\n",
    "            if saturation_degrees[node] > max_saturation:\n",
    "                max_saturation = saturation_degrees[node]\n",
    "                selected_node = node\n",
    "            elif saturation_degrees[node] == max_saturation:\n",
    "                if selected_node is None or graph.degree[node] > graph.degree[selected_node]:\n",
    "                    selected_node = node\n",
    "        neighbor_colors = {coloring[neighbor] for neighbor in graph.neighbors(selected_node) if neighbor in coloring}\n",
    "        for color in range(len(available_colors)):\n",
    "            if color not in neighbor_colors:\n",
    "                coloring[selected_node] = color\n",
    "                break\n",
    "        for neighbor in graph.neighbors(selected_node):\n",
    "            if neighbor not in coloring:\n",
    "                saturation_degrees[neighbor] += 1\n",
    "    return coloring, iterations"
   ],
   "outputs": [],
   "execution_count": 49
  },
  {
   "metadata": {
    "ExecuteTime": {
     "end_time": "2025-06-23T10:18:47.234514Z",
     "start_time": "2025-06-23T10:18:47.230922Z"
    }
   },
   "cell_type": "code",
   "source": [
    "def run_dsatur(graph):\n",
    "    start_time = time.time()\n",
    "    _, classical_iter = dsatur_coloring(graph)\n",
    "    classical_time = time.time() - start_time\n",
    "    return classical_time, classical_iter\n"
   ],
   "outputs": [],
   "execution_count": 50
  },
  {
   "cell_type": "code",
   "metadata": {
    "ExecuteTime": {
     "end_time": "2025-06-23T10:18:47.245187Z",
     "start_time": "2025-06-23T10:18:47.239757Z"
    }
   },
   "source": [
    "\n",
    "import json\n",
    "import os\n",
    "from typing import List, Dict, Any, Optional\n",
    "\n",
    "def update_experiment_data(\n",
    "    num_node: int,\n",
    "    data_key: str,\n",
    "    data_value: str,\n",
    "    filename: str = 'experiment_data.json'\n",
    ") -> Dict[str, Any]:\n",
    "\n",
    "    experiment_data = _load_experiment_data(filename)\n",
    "    num_nodes_str = str(num_node)\n",
    "\n",
    "    # Create entry for this number of nodes if it doesn't exist\n",
    "    if num_nodes_str not in experiment_data[\"experiment_data\"]:\n",
    "        experiment_data[\"experiment_data\"][num_nodes_str] = {}\n",
    "\n",
    "    # Update the data\n",
    "    experiment_data[\"experiment_data\"][num_nodes_str][data_key] = data_value\n",
    "\n",
    "    # Save updated data back to JSON file\n",
    "    _save_experiment_data(experiment_data, filename)\n",
    "    return experiment_data\n",
    "\n",
    "\n",
    "def _load_experiment_data(filename: str) -> Dict[str, Any]:\n",
    "    if os.path.exists(filename):\n",
    "        try:\n",
    "            with open(filename, 'r') as f:\n",
    "                experiment_data = json.load(f)\n",
    "        except (json.JSONDecodeError, IOError) as e:\n",
    "            experiment_data = {\"experiment_data\": {}}\n",
    "    else:\n",
    "        experiment_data = {\"experiment_data\": {}}\n",
    "\n",
    "    if \"experiment_data\" not in experiment_data:\n",
    "        experiment_data[\"experiment_data\"] = {}\n",
    "    return experiment_data\n",
    "\n",
    "\n",
    "def _save_experiment_data(experiment_data: Dict[str, Any], filename: str) -> None:\n",
    "    try:\n",
    "        with open(filename, 'w') as f:\n",
    "            json.dump(experiment_data, f, indent=2)\n",
    "    except IOError as e:\n",
    "        error_msg = f\"Error saving to {filename}: {e}\"\n",
    "        raise IOError(error_msg)\n"
   ],
   "outputs": [],
   "execution_count": 51
  },
  {
   "cell_type": "code",
   "metadata": {
    "ExecuteTime": {
     "end_time": "2025-06-23T10:18:47.250857Z",
     "start_time": "2025-06-23T10:18:47.248831Z"
    }
   },
   "source": [
    "# Initialize lists to store the results\n",
    "real_quantum_times = []\n",
    "num_nodes_list = []"
   ],
   "outputs": [],
   "execution_count": 52
  },
  {
   "cell_type": "code",
   "metadata": {
    "ExecuteTime": {
     "end_time": "2025-06-23T10:18:47.257724Z",
     "start_time": "2025-06-23T10:18:47.254553Z"
    }
   },
   "source": [
    "import time\n",
    "import matplotlib.pyplot as plt\n",
    "\n",
    "def plot_coloring(graph, coloring, num_colors):\n",
    "    pos = nx.spring_layout(graph)\n",
    "    cmap = plt.get_cmap('tab20', num_colors)\n",
    "    node_colors = [cmap(color) if color != -1 else (0.8, 0.8, 0.8) for color in coloring]\n",
    "    nx.draw(graph, pos, with_labels=True, node_color=node_colors, node_size=500, font_color='white')\n",
    "    plt.title(f'Graph Coloring with {num_colors} colors')\n",
    "    plt.show()"
   ],
   "outputs": [],
   "execution_count": 53
  },
  {
   "cell_type": "code",
   "metadata": {
    "ExecuteTime": {
     "end_time": "2025-06-23T10:18:47.263474Z",
     "start_time": "2025-06-23T10:18:47.260732Z"
    }
   },
   "source": [
    "def remap_colors(coloring):\n",
    "    unique_colors = sorted(set(coloring) - {-1})\n",
    "    color_map = {color: idx for idx, color in enumerate(unique_colors)}\n",
    "    remapped = [color_map[c] if c != -1 else -1 for c in coloring]\n",
    "    return remapped, len(unique_colors)"
   ],
   "outputs": [],
   "execution_count": 54
  },
  {
   "cell_type": "code",
   "metadata": {
    "ExecuteTime": {
     "end_time": "2025-06-23T10:18:47.269258Z",
     "start_time": "2025-06-23T10:18:47.266487Z"
    }
   },
   "source": [
    "def plot_coloring(graph, coloring, num_colors):\n",
    "    import networkx as nx\n",
    "    pos = nx.spring_layout(graph)\n",
    "    cmap = plt.get_cmap('tab20', num_colors)\n",
    "    node_colors = [cmap(color) if color != -1 else (0.8, 0.8, 0.8) for color in coloring]\n",
    "    nx.draw(graph, pos, with_labels=True, node_color=node_colors, node_size=500, font_color='white')\n",
    "    plt.title(f'Graph Coloring with {num_colors} colors')\n",
    "    plt.show()"
   ],
   "outputs": [],
   "execution_count": 55
  },
  {
   "cell_type": "code",
   "metadata": {
    "ExecuteTime": {
     "end_time": "2025-06-23T10:18:47.276200Z",
     "start_time": "2025-06-23T10:18:47.271949Z"
    }
   },
   "source": [
    "import networkx as nx\n",
    "from collections import deque\n",
    "\n",
    "def edge_bfs_depth(graph, edge):\n",
    "    \"\"\"Compute BFS depth starting from an edge (as a tuple of nodes).\"\"\"\n",
    "    visited_edges = set()\n",
    "    queue = deque([(edge, 0)])\n",
    "    max_depth = 0\n",
    "    while queue:\n",
    "        (u, v), depth = queue.popleft()\n",
    "        if (u, v) in visited_edges or (v, u) in visited_edges:\n",
    "            continue\n",
    "        visited_edges.add((u, v))\n",
    "        max_depth = max(max_depth, depth)\n",
    "        # Explore all edges adjacent to u or v\n",
    "        for neighbor in set(graph.neighbors(u)).union(graph.neighbors(v)):\n",
    "            if neighbor != u and neighbor != v:\n",
    "                for node in (u, v):\n",
    "                    if graph.has_edge(node, neighbor):\n",
    "                        queue.append(((node, neighbor), depth + 1))\n",
    "    return max_depth"
   ],
   "outputs": [],
   "execution_count": 56
  },
  {
   "cell_type": "code",
   "metadata": {
    "ExecuteTime": {
     "end_time": "2025-06-23T10:18:47.281365Z",
     "start_time": "2025-06-23T10:18:47.278591Z"
    }
   },
   "source": [
    "def compute_c_depth(graph):\n",
    "    \"\"\"Compute the covering depth (c-depth) for the graph.\"\"\"\n",
    "    max_bfs_depth = 0\n",
    "    for edge in graph.edges():\n",
    "        depth = edge_bfs_depth(graph, edge)\n",
    "        max_bfs_depth = max(max_bfs_depth, depth)\n",
    "    return max_bfs_depth"
   ],
   "outputs": [],
   "execution_count": 57
  },
  {
   "cell_type": "code",
   "metadata": {
    "ExecuteTime": {
     "end_time": "2025-06-23T10:18:47.287940Z",
     "start_time": "2025-06-23T10:18:47.283815Z"
    }
   },
   "source": [
    "def sweep_qaoa_p_levels(graph, max_colors, max_iter, shots, p_level):\n",
    "\n",
    "    logger.info(f\"\\nRunning QAOA with p={p_level}...\")\n",
    "    start_time = time.perf_counter()\n",
    "    try:\n",
    "\n",
    "        c_depth = compute_c_depth(graph)\n",
    "        p_value = range(max(1, c_depth-1), c_depth + p_level + 1)\n",
    "        print(f\"Graph c-depth: {c_depth}. Sweeping p in {p_value}\")\n",
    "\n",
    "        num_vertices, num_colors, real_execution_time, coloring, found_after = run_qaoa_with_retry(\n",
    "            graph, max_colors=max_colors, p=p_level, max_iter=max_iter, shots=shots\n",
    "        )\n",
    "        end_time = time.perf_counter()\n",
    "        total_time = end_time - start_time\n",
    "\n",
    "        remapped_coloring, actual_colors_used = remap_colors(coloring)\n",
    "\n",
    "        update_experiment_data(num_vertices, \"real_execution_time\", str(real_execution_time))\n",
    "        update_experiment_data(num_vertices, \"found_after\", str(found_after))\n",
    "        update_experiment_data(num_vertices, \"total_time\", str(total_time))\n",
    "        update_experiment_data(num_vertices, \"p_level\", str(p_level))\n",
    "        update_experiment_data(num_vertices, \"no_of_colors_allowed\", str(num_colors))\n",
    "        update_experiment_data(num_vertices, \"no_of_colors_actually_used\", str(actual_colors_used))\n",
    "        update_experiment_data(num_vertices, \"remapped_coloring\", str(remapped_coloring))\n",
    "\n",
    "        # Plot the solution for each p\n",
    "        plot_coloring(graph, remapped_coloring, actual_colors_used)\n",
    "\n",
    "    except ValueError as e:\n",
    "        end_time = time.perf_counter()\n",
    "        total_time = end_time - start_time\n",
    "        logger.info(f\"Failed for p={p_level}: {e} (Time: {total_time:.4f} s)\")\n",
    "\n"
   ],
   "outputs": [],
   "execution_count": 58
  },
  {
   "cell_type": "code",
   "metadata": {
    "ExecuteTime": {
     "end_time": "2025-06-23T10:20:02.478638Z",
     "start_time": "2025-06-23T10:18:47.297220Z"
    }
   },
   "source": [
    "for num_nodes in range(4, 5):\n",
    "    G = generate_graph(num_nodes=num_nodes)\n",
    "    sweep_qaoa_p_levels(G, max_colors=8, max_iter=50, shots=1024, p_level=2)\n"
   ],
   "outputs": [
    {
     "name": "stdout",
     "output_type": "stream",
     "text": [
      "2025-06-23 11:18:47,299 - __main__ - INFO - \n",
      "Running QAOA with p=2...\n",
      "Graph c-depth: 1. Sweeping p in range(1, 4)\n",
      "2025-06-23 11:18:55,659 - __main__ - INFO - AerSimulator('aer_simulator_from(ibm_sherbrooke)'\n",
      "             noise_model=<NoiseModel on ['sx', 'x', 'measure', 'ecr', 'reset', 'id']>)\n",
      "2025-06-23 11:18:55,683 - qiskit.passmanager.base_tasks - INFO - Pass: ContainsInstruction - 0.03695 (ms)\n",
      "2025-06-23 11:18:55,684 - qiskit.passmanager.base_tasks - INFO - Pass: UnitarySynthesis - 0.02909 (ms)\n",
      "2025-06-23 11:18:55,691 - qiskit.passmanager.base_tasks - INFO - Pass: HighLevelSynthesis - 7.21002 (ms)\n",
      "2025-06-23 11:18:55,692 - qiskit.passmanager.base_tasks - INFO - Pass: BasisTranslator - 0.43011 (ms)\n",
      "2025-06-23 11:18:55,693 - qiskit.passmanager.base_tasks - INFO - Pass: ElidePermutations - 0.01693 (ms)\n",
      "2025-06-23 11:18:55,693 - qiskit.passmanager.base_tasks - INFO - Pass: RemoveDiagonalGatesBeforeMeasure - 0.30398 (ms)\n",
      "2025-06-23 11:18:55,694 - qiskit.passmanager.base_tasks - INFO - Pass: RemoveIdentityEquivalent - 0.00525 (ms)\n",
      "2025-06-23 11:18:55,694 - qiskit.passmanager.base_tasks - INFO - Pass: InverseCancellation - 0.26298 (ms)\n",
      "2025-06-23 11:18:55,694 - qiskit.passmanager.base_tasks - INFO - Pass: ContractIdleWiresInControlFlow - 0.00787 (ms)\n",
      "2025-06-23 11:18:55,695 - qiskit.passmanager.base_tasks - INFO - Pass: CommutativeCancellation - 0.62728 (ms)\n",
      "2025-06-23 11:18:55,696 - qiskit.passmanager.base_tasks - INFO - Pass: ConsolidateBlocks - 0.38505 (ms)\n",
      "2025-06-23 11:18:55,696 - qiskit.passmanager.base_tasks - INFO - Pass: Split2QUnitaries - 0.19288 (ms)\n",
      "2025-06-23 11:18:55,697 - qiskit.passmanager.base_tasks - INFO - Pass: SetLayout - 0.01311 (ms)\n",
      "2025-06-23 11:18:55,702 - qiskit.passmanager.base_tasks - INFO - Pass: VF2Layout - 5.32794 (ms)\n",
      "2025-06-23 11:18:55,703 - qiskit.passmanager.base_tasks - INFO - Pass: BarrierBeforeFinalMeasurements - 0.00811 (ms)\n",
      "2025-06-23 11:18:55,716 - qiskit.passmanager.base_tasks - INFO - Pass: SabreLayout - 12.50696 (ms)\n",
      "2025-06-23 11:18:55,717 - qiskit.passmanager.base_tasks - INFO - Pass: CheckMap - 0.03195 (ms)\n",
      "2025-06-23 11:18:56,152 - qiskit.passmanager.base_tasks - INFO - Pass: VF2PostLayout - 434.74102 (ms)\n",
      "2025-06-23 11:18:56,153 - qiskit.passmanager.base_tasks - INFO - Pass: ApplyLayout - 0.79298 (ms)\n",
      "2025-06-23 11:18:56,153 - qiskit.passmanager.base_tasks - INFO - Pass: FilterOpNodes - 0.03886 (ms)\n",
      "2025-06-23 11:18:56,153 - qiskit.passmanager.base_tasks - INFO - Pass: UnitarySynthesis - 0.01097 (ms)\n",
      "2025-06-23 11:18:56,154 - qiskit.passmanager.base_tasks - INFO - Pass: HighLevelSynthesis - 0.72980 (ms)\n",
      "2025-06-23 11:18:56,165 - qiskit.passmanager.base_tasks - INFO - Pass: BasisTranslator - 10.52880 (ms)\n",
      "2025-06-23 11:18:56,165 - qiskit.passmanager.base_tasks - INFO - Pass: CheckGateDirection - 0.00906 (ms)\n",
      "2025-06-23 11:18:56,166 - qiskit.passmanager.base_tasks - INFO - Pass: GateDirection - 0.40388 (ms)\n",
      "2025-06-23 11:18:56,168 - qiskit.passmanager.base_tasks - INFO - Pass: BasisTranslator - 1.67584 (ms)\n",
      "2025-06-23 11:18:56,168 - qiskit.passmanager.base_tasks - INFO - Pass: Depth - 0.26512 (ms)\n",
      "2025-06-23 11:18:56,169 - qiskit.passmanager.base_tasks - INFO - Pass: Size - 0.01097 (ms)\n",
      "2025-06-23 11:18:56,169 - qiskit.passmanager.base_tasks - INFO - Pass: MinimumPoint - 0.01407 (ms)\n",
      "2025-06-23 11:18:56,171 - qiskit.passmanager.base_tasks - INFO - Pass: ConsolidateBlocks - 1.50490 (ms)\n",
      "2025-06-23 11:18:56,173 - qiskit.passmanager.base_tasks - INFO - Pass: UnitarySynthesis - 1.78409 (ms)\n",
      "2025-06-23 11:18:56,173 - qiskit.passmanager.base_tasks - INFO - Pass: RemoveIdentityEquivalent - 0.02718 (ms)\n",
      "2025-06-23 11:18:56,174 - qiskit.passmanager.base_tasks - INFO - Pass: Optimize1qGatesDecomposition - 0.16522 (ms)\n",
      "2025-06-23 11:18:56,174 - qiskit.passmanager.base_tasks - INFO - Pass: CommutativeCancellation - 0.36025 (ms)\n",
      "2025-06-23 11:18:56,174 - qiskit.passmanager.base_tasks - INFO - Pass: ContractIdleWiresInControlFlow - 0.00286 (ms)\n",
      "2025-06-23 11:18:56,175 - qiskit.passmanager.base_tasks - INFO - Pass: GatesInBasis - 0.03910 (ms)\n",
      "2025-06-23 11:18:56,175 - qiskit.passmanager.base_tasks - INFO - Pass: Depth - 0.04196 (ms)\n",
      "2025-06-23 11:18:56,175 - qiskit.passmanager.base_tasks - INFO - Pass: Size - 0.00286 (ms)\n",
      "2025-06-23 11:18:56,293 - qiskit.passmanager.base_tasks - INFO - Pass: MinimumPoint - 117.63525 (ms)\n",
      "2025-06-23 11:18:56,294 - qiskit.passmanager.base_tasks - INFO - Pass: ConsolidateBlocks - 0.30994 (ms)\n",
      "2025-06-23 11:18:56,294 - qiskit.passmanager.base_tasks - INFO - Pass: UnitarySynthesis - 0.72598 (ms)\n",
      "2025-06-23 11:18:56,295 - qiskit.passmanager.base_tasks - INFO - Pass: RemoveIdentityEquivalent - 0.01597 (ms)\n",
      "2025-06-23 11:18:56,295 - qiskit.passmanager.base_tasks - INFO - Pass: Optimize1qGatesDecomposition - 0.11587 (ms)\n",
      "2025-06-23 11:18:56,295 - qiskit.passmanager.base_tasks - INFO - Pass: CommutativeCancellation - 0.11301 (ms)\n",
      "2025-06-23 11:18:56,296 - qiskit.passmanager.base_tasks - INFO - Pass: ContractIdleWiresInControlFlow - 0.00286 (ms)\n",
      "2025-06-23 11:18:56,296 - qiskit.passmanager.base_tasks - INFO - Pass: GatesInBasis - 0.03695 (ms)\n",
      "2025-06-23 11:18:56,296 - qiskit.passmanager.base_tasks - INFO - Pass: Depth - 0.04196 (ms)\n",
      "2025-06-23 11:18:56,296 - qiskit.passmanager.base_tasks - INFO - Pass: Size - 0.00405 (ms)\n",
      "2025-06-23 11:18:56,312 - qiskit.passmanager.base_tasks - INFO - Pass: MinimumPoint - 15.25664 (ms)\n",
      "2025-06-23 11:18:56,312 - qiskit.passmanager.base_tasks - INFO - Pass: ConsolidateBlocks - 0.28229 (ms)\n",
      "2025-06-23 11:18:56,313 - qiskit.passmanager.base_tasks - INFO - Pass: UnitarySynthesis - 0.65398 (ms)\n",
      "2025-06-23 11:18:56,313 - qiskit.passmanager.base_tasks - INFO - Pass: RemoveIdentityEquivalent - 0.01502 (ms)\n",
      "2025-06-23 11:18:56,314 - qiskit.passmanager.base_tasks - INFO - Pass: Optimize1qGatesDecomposition - 0.11396 (ms)\n",
      "2025-06-23 11:18:56,314 - qiskit.passmanager.base_tasks - INFO - Pass: CommutativeCancellation - 0.15378 (ms)\n",
      "2025-06-23 11:18:56,314 - qiskit.passmanager.base_tasks - INFO - Pass: ContractIdleWiresInControlFlow - 0.00381 (ms)\n",
      "2025-06-23 11:18:56,315 - qiskit.passmanager.base_tasks - INFO - Pass: GatesInBasis - 0.09298 (ms)\n",
      "2025-06-23 11:18:56,315 - qiskit.passmanager.base_tasks - INFO - Pass: Depth - 0.04387 (ms)\n",
      "2025-06-23 11:18:56,315 - qiskit.passmanager.base_tasks - INFO - Pass: Size - 0.00405 (ms)\n",
      "2025-06-23 11:18:56,316 - qiskit.passmanager.base_tasks - INFO - Pass: MinimumPoint - 0.00501 (ms)\n",
      "2025-06-23 11:18:56,316 - qiskit.passmanager.base_tasks - INFO - Pass: ContainsInstruction - 0.00572 (ms)\n",
      "2025-06-23 11:18:56,316 - qiskit.passmanager.base_tasks - INFO - Pass: InstructionDurationCheck - 0.10610 (ms)\n"
     ]
    },
    {
     "name": "stderr",
     "output_type": "stream",
     "text": [
      "base_primitive._run:INFO:2025-06-23 11:18:56,323: Submitting job using options {'options': {'default_shots': 250}, 'version': 2, 'support_qiskit': True, 'resilience_level': 0}\n"
     ]
    },
    {
     "name": "stdout",
     "output_type": "stream",
     "text": [
      "2025-06-23 11:18:57,068 - qiskit.passmanager.base_tasks - INFO - Pass: Optimize1qGatesDecomposition - 0.01884 (ms)\n"
     ]
    },
    {
     "name": "stderr",
     "output_type": "stream",
     "text": [
      "/Users/utkarshsharma/PycharmProjects/QAOA_vs_classical/.venv/lib/python3.11/site-packages/qiskit_ibm_runtime/fake_provider/local_service.py:187: UserWarning: The resilience_level option has no effect in local testing mode.\n",
      "  warnings.warn(\"The resilience_level option has no effect in local testing mode.\")\n",
      "base_primitive._run:INFO:2025-06-23 11:18:57,690: Submitting job using options {'options': {'default_shots': 250}, 'version': 2, 'support_qiskit': True, 'resilience_level': 0}\n"
     ]
    },
    {
     "name": "stdout",
     "output_type": "stream",
     "text": [
      "2025-06-23 11:18:58,491 - qiskit.passmanager.base_tasks - INFO - Pass: Optimize1qGatesDecomposition - 0.02098 (ms)\n"
     ]
    },
    {
     "name": "stderr",
     "output_type": "stream",
     "text": [
      "base_primitive._run:INFO:2025-06-23 11:18:58,911: Submitting job using options {'options': {'default_shots': 250}, 'version': 2, 'support_qiskit': True, 'resilience_level': 0}\n"
     ]
    },
    {
     "name": "stdout",
     "output_type": "stream",
     "text": [
      "2025-06-23 11:18:59,680 - qiskit.passmanager.base_tasks - INFO - Pass: Optimize1qGatesDecomposition - 0.02098 (ms)\n"
     ]
    },
    {
     "name": "stderr",
     "output_type": "stream",
     "text": [
      "base_primitive._run:INFO:2025-06-23 11:19:00,252: Submitting job using options {'options': {'default_shots': 250}, 'version': 2, 'support_qiskit': True, 'resilience_level': 0}\n"
     ]
    },
    {
     "name": "stdout",
     "output_type": "stream",
     "text": [
      "2025-06-23 11:19:01,075 - qiskit.passmanager.base_tasks - INFO - Pass: Optimize1qGatesDecomposition - 0.01884 (ms)\n"
     ]
    },
    {
     "name": "stderr",
     "output_type": "stream",
     "text": [
      "base_primitive._run:INFO:2025-06-23 11:19:01,504: Submitting job using options {'options': {'default_shots': 250}, 'version': 2, 'support_qiskit': True, 'resilience_level': 0}\n"
     ]
    },
    {
     "name": "stdout",
     "output_type": "stream",
     "text": [
      "2025-06-23 11:19:02,417 - qiskit.passmanager.base_tasks - INFO - Pass: Optimize1qGatesDecomposition - 0.01907 (ms)\n"
     ]
    },
    {
     "name": "stderr",
     "output_type": "stream",
     "text": [
      "base_primitive._run:INFO:2025-06-23 11:19:02,857: Submitting job using options {'options': {'default_shots': 250}, 'version': 2, 'support_qiskit': True, 'resilience_level': 0}\n"
     ]
    },
    {
     "name": "stdout",
     "output_type": "stream",
     "text": [
      "2025-06-23 11:19:03,664 - qiskit.passmanager.base_tasks - INFO - Pass: Optimize1qGatesDecomposition - 0.01907 (ms)\n"
     ]
    },
    {
     "name": "stderr",
     "output_type": "stream",
     "text": [
      "base_primitive._run:INFO:2025-06-23 11:19:04,221: Submitting job using options {'options': {'default_shots': 250}, 'version': 2, 'support_qiskit': True, 'resilience_level': 0}\n"
     ]
    },
    {
     "name": "stdout",
     "output_type": "stream",
     "text": [
      "2025-06-23 11:19:05,017 - qiskit.passmanager.base_tasks - INFO - Pass: Optimize1qGatesDecomposition - 0.02193 (ms)\n"
     ]
    },
    {
     "name": "stderr",
     "output_type": "stream",
     "text": [
      "base_primitive._run:INFO:2025-06-23 11:19:05,636: Submitting job using options {'options': {'default_shots': 250}, 'version': 2, 'support_qiskit': True, 'resilience_level': 0}\n"
     ]
    },
    {
     "name": "stdout",
     "output_type": "stream",
     "text": [
      "2025-06-23 11:19:06,456 - qiskit.passmanager.base_tasks - INFO - Pass: Optimize1qGatesDecomposition - 0.01884 (ms)\n"
     ]
    },
    {
     "name": "stderr",
     "output_type": "stream",
     "text": [
      "base_primitive._run:INFO:2025-06-23 11:19:06,907: Submitting job using options {'options': {'default_shots': 250}, 'version': 2, 'support_qiskit': True, 'resilience_level': 0}\n"
     ]
    },
    {
     "name": "stdout",
     "output_type": "stream",
     "text": [
      "2025-06-23 11:19:07,808 - qiskit.passmanager.base_tasks - INFO - Pass: Optimize1qGatesDecomposition - 0.01812 (ms)\n"
     ]
    },
    {
     "name": "stderr",
     "output_type": "stream",
     "text": [
      "base_primitive._run:INFO:2025-06-23 11:19:08,251: Submitting job using options {'options': {'default_shots': 250}, 'version': 2, 'support_qiskit': True, 'resilience_level': 0}\n"
     ]
    },
    {
     "name": "stdout",
     "output_type": "stream",
     "text": [
      "2025-06-23 11:19:09,173 - qiskit.passmanager.base_tasks - INFO - Pass: Optimize1qGatesDecomposition - 0.02098 (ms)\n"
     ]
    },
    {
     "name": "stderr",
     "output_type": "stream",
     "text": [
      "base_primitive._run:INFO:2025-06-23 11:19:09,609: Submitting job using options {'options': {'default_shots': 250}, 'version': 2, 'support_qiskit': True, 'resilience_level': 0}\n"
     ]
    },
    {
     "name": "stdout",
     "output_type": "stream",
     "text": [
      "2025-06-23 11:19:10,405 - qiskit.passmanager.base_tasks - INFO - Pass: Optimize1qGatesDecomposition - 0.02003 (ms)\n"
     ]
    },
    {
     "name": "stderr",
     "output_type": "stream",
     "text": [
      "base_primitive._run:INFO:2025-06-23 11:19:11,280: Submitting job using options {'options': {'default_shots': 250}, 'version': 2, 'support_qiskit': True, 'resilience_level': 0}\n"
     ]
    },
    {
     "name": "stdout",
     "output_type": "stream",
     "text": [
      "2025-06-23 11:19:12,273 - qiskit.passmanager.base_tasks - INFO - Pass: Optimize1qGatesDecomposition - 0.02122 (ms)\n"
     ]
    },
    {
     "name": "stderr",
     "output_type": "stream",
     "text": [
      "base_primitive._run:INFO:2025-06-23 11:19:12,740: Submitting job using options {'options': {'default_shots': 250}, 'version': 2, 'support_qiskit': True, 'resilience_level': 0}\n"
     ]
    },
    {
     "name": "stdout",
     "output_type": "stream",
     "text": [
      "2025-06-23 11:19:13,693 - qiskit.passmanager.base_tasks - INFO - Pass: Optimize1qGatesDecomposition - 0.02503 (ms)\n"
     ]
    },
    {
     "name": "stderr",
     "output_type": "stream",
     "text": [
      "base_primitive._run:INFO:2025-06-23 11:19:14,232: Submitting job using options {'options': {'default_shots': 250}, 'version': 2, 'support_qiskit': True, 'resilience_level': 0}\n"
     ]
    },
    {
     "name": "stdout",
     "output_type": "stream",
     "text": [
      "2025-06-23 11:19:15,226 - qiskit.passmanager.base_tasks - INFO - Pass: Optimize1qGatesDecomposition - 0.02313 (ms)\n"
     ]
    },
    {
     "name": "stderr",
     "output_type": "stream",
     "text": [
      "base_primitive._run:INFO:2025-06-23 11:19:15,809: Submitting job using options {'options': {'default_shots': 250}, 'version': 2, 'support_qiskit': True, 'resilience_level': 0}\n"
     ]
    },
    {
     "name": "stdout",
     "output_type": "stream",
     "text": [
      "2025-06-23 11:19:16,666 - qiskit.passmanager.base_tasks - INFO - Pass: Optimize1qGatesDecomposition - 0.03004 (ms)\n"
     ]
    },
    {
     "name": "stderr",
     "output_type": "stream",
     "text": [
      "base_primitive._run:INFO:2025-06-23 11:19:17,318: Submitting job using options {'options': {'default_shots': 250}, 'version': 2, 'support_qiskit': True, 'resilience_level': 0}\n"
     ]
    },
    {
     "name": "stdout",
     "output_type": "stream",
     "text": [
      "2025-06-23 11:19:18,278 - qiskit.passmanager.base_tasks - INFO - Pass: Optimize1qGatesDecomposition - 0.03004 (ms)\n"
     ]
    },
    {
     "name": "stderr",
     "output_type": "stream",
     "text": [
      "base_primitive._run:INFO:2025-06-23 11:19:18,976: Submitting job using options {'options': {'default_shots': 250}, 'version': 2, 'support_qiskit': True, 'resilience_level': 0}\n"
     ]
    },
    {
     "name": "stdout",
     "output_type": "stream",
     "text": [
      "2025-06-23 11:19:20,005 - qiskit.passmanager.base_tasks - INFO - Pass: Optimize1qGatesDecomposition - 0.02408 (ms)\n"
     ]
    },
    {
     "name": "stderr",
     "output_type": "stream",
     "text": [
      "base_primitive._run:INFO:2025-06-23 11:19:20,528: Submitting job using options {'options': {'default_shots': 250}, 'version': 2, 'support_qiskit': True, 'resilience_level': 0}\n"
     ]
    },
    {
     "name": "stdout",
     "output_type": "stream",
     "text": [
      "2025-06-23 11:19:21,534 - qiskit.passmanager.base_tasks - INFO - Pass: Optimize1qGatesDecomposition - 0.04005 (ms)\n"
     ]
    },
    {
     "name": "stderr",
     "output_type": "stream",
     "text": [
      "base_primitive._run:INFO:2025-06-23 11:19:23,943: Submitting job using options {'options': {'default_shots': 250}, 'version': 2, 'support_qiskit': True, 'resilience_level': 0}\n"
     ]
    },
    {
     "name": "stdout",
     "output_type": "stream",
     "text": [
      "2025-06-23 11:19:26,060 - qiskit.passmanager.base_tasks - INFO - Pass: Optimize1qGatesDecomposition - 0.02599 (ms)\n"
     ]
    },
    {
     "name": "stderr",
     "output_type": "stream",
     "text": [
      "base_primitive._run:INFO:2025-06-23 11:19:27,045: Submitting job using options {'options': {'default_shots': 250}, 'version': 2, 'support_qiskit': True, 'resilience_level': 0}\n"
     ]
    },
    {
     "name": "stdout",
     "output_type": "stream",
     "text": [
      "2025-06-23 11:19:28,667 - qiskit.passmanager.base_tasks - INFO - Pass: Optimize1qGatesDecomposition - 0.06700 (ms)\n"
     ]
    },
    {
     "name": "stderr",
     "output_type": "stream",
     "text": [
      "base_primitive._run:INFO:2025-06-23 11:19:29,653: Submitting job using options {'options': {'default_shots': 250}, 'version': 2, 'support_qiskit': True, 'resilience_level': 0}\n"
     ]
    },
    {
     "name": "stdout",
     "output_type": "stream",
     "text": [
      "2025-06-23 11:19:31,425 - qiskit.passmanager.base_tasks - INFO - Pass: Optimize1qGatesDecomposition - 0.03695 (ms)\n"
     ]
    },
    {
     "name": "stderr",
     "output_type": "stream",
     "text": [
      "base_primitive._run:INFO:2025-06-23 11:19:32,007: Submitting job using options {'options': {'default_shots': 250}, 'version': 2, 'support_qiskit': True, 'resilience_level': 0}\n"
     ]
    },
    {
     "name": "stdout",
     "output_type": "stream",
     "text": [
      "2025-06-23 11:19:33,079 - qiskit.passmanager.base_tasks - INFO - Pass: Optimize1qGatesDecomposition - 0.02098 (ms)\n"
     ]
    },
    {
     "name": "stderr",
     "output_type": "stream",
     "text": [
      "base_primitive._run:INFO:2025-06-23 11:19:33,643: Submitting job using options {'options': {'default_shots': 250}, 'version': 2, 'support_qiskit': True, 'resilience_level': 0}\n"
     ]
    },
    {
     "name": "stdout",
     "output_type": "stream",
     "text": [
      "2025-06-23 11:19:34,688 - qiskit.passmanager.base_tasks - INFO - Pass: Optimize1qGatesDecomposition - 0.03004 (ms)\n"
     ]
    },
    {
     "name": "stderr",
     "output_type": "stream",
     "text": [
      "base_primitive._run:INFO:2025-06-23 11:19:35,433: Submitting job using options {'options': {'default_shots': 250}, 'version': 2, 'support_qiskit': True, 'resilience_level': 0}\n"
     ]
    },
    {
     "name": "stdout",
     "output_type": "stream",
     "text": [
      "2025-06-23 11:19:36,572 - qiskit.passmanager.base_tasks - INFO - Pass: Optimize1qGatesDecomposition - 0.03195 (ms)\n"
     ]
    },
    {
     "name": "stderr",
     "output_type": "stream",
     "text": [
      "base_primitive._run:INFO:2025-06-23 11:19:37,337: Submitting job using options {'options': {'default_shots': 250}, 'version': 2, 'support_qiskit': True, 'resilience_level': 0}\n"
     ]
    },
    {
     "name": "stdout",
     "output_type": "stream",
     "text": [
      "2025-06-23 11:19:39,390 - qiskit.passmanager.base_tasks - INFO - Pass: Optimize1qGatesDecomposition - 0.05507 (ms)\n"
     ]
    },
    {
     "name": "stderr",
     "output_type": "stream",
     "text": [
      "base_primitive._run:INFO:2025-06-23 11:19:40,378: Submitting job using options {'options': {'default_shots': 250}, 'version': 2, 'support_qiskit': True, 'resilience_level': 0}\n"
     ]
    },
    {
     "name": "stdout",
     "output_type": "stream",
     "text": [
      "2025-06-23 11:19:42,066 - qiskit.passmanager.base_tasks - INFO - Pass: Optimize1qGatesDecomposition - 0.23389 (ms)\n"
     ]
    },
    {
     "name": "stderr",
     "output_type": "stream",
     "text": [
      "base_primitive._run:INFO:2025-06-23 11:19:42,757: Submitting job using options {'options': {'default_shots': 250}, 'version': 2, 'support_qiskit': True, 'resilience_level': 0}\n"
     ]
    },
    {
     "name": "stdout",
     "output_type": "stream",
     "text": [
      "2025-06-23 11:19:43,710 - qiskit.passmanager.base_tasks - INFO - Pass: Optimize1qGatesDecomposition - 0.02313 (ms)\n"
     ]
    },
    {
     "name": "stderr",
     "output_type": "stream",
     "text": [
      "base_primitive._run:INFO:2025-06-23 11:19:44,368: Submitting job using options {'options': {'default_shots': 250}, 'version': 2, 'support_qiskit': True, 'resilience_level': 0}\n"
     ]
    },
    {
     "name": "stdout",
     "output_type": "stream",
     "text": [
      "2025-06-23 11:19:45,228 - qiskit.passmanager.base_tasks - INFO - Pass: Optimize1qGatesDecomposition - 0.02193 (ms)\n"
     ]
    },
    {
     "name": "stderr",
     "output_type": "stream",
     "text": [
      "base_primitive._run:INFO:2025-06-23 11:19:45,693: Submitting job using options {'options': {'default_shots': 250}, 'version': 2, 'support_qiskit': True, 'resilience_level': 0}\n"
     ]
    },
    {
     "name": "stdout",
     "output_type": "stream",
     "text": [
      "2025-06-23 11:19:46,643 - qiskit.passmanager.base_tasks - INFO - Pass: Optimize1qGatesDecomposition - 0.02408 (ms)\n"
     ]
    },
    {
     "name": "stderr",
     "output_type": "stream",
     "text": [
      "base_primitive._run:INFO:2025-06-23 11:19:47,095: Submitting job using options {'options': {'default_shots': 250}, 'version': 2, 'support_qiskit': True, 'resilience_level': 0}\n"
     ]
    },
    {
     "name": "stdout",
     "output_type": "stream",
     "text": [
      "2025-06-23 11:19:47,913 - qiskit.passmanager.base_tasks - INFO - Pass: Optimize1qGatesDecomposition - 0.01812 (ms)\n"
     ]
    },
    {
     "name": "stderr",
     "output_type": "stream",
     "text": [
      "base_primitive._run:INFO:2025-06-23 11:19:48,500: Submitting job using options {'options': {'default_shots': 250}, 'version': 2, 'support_qiskit': True, 'resilience_level': 0}\n"
     ]
    },
    {
     "name": "stdout",
     "output_type": "stream",
     "text": [
      "2025-06-23 11:19:49,341 - qiskit.passmanager.base_tasks - INFO - Pass: Optimize1qGatesDecomposition - 0.02694 (ms)\n"
     ]
    },
    {
     "name": "stderr",
     "output_type": "stream",
     "text": [
      "base_primitive._run:INFO:2025-06-23 11:19:49,973: Submitting job using options {'options': {'default_shots': 250}, 'version': 2, 'support_qiskit': True, 'resilience_level': 0}\n"
     ]
    },
    {
     "name": "stdout",
     "output_type": "stream",
     "text": [
      "2025-06-23 11:19:50,781 - qiskit.passmanager.base_tasks - INFO - Pass: Optimize1qGatesDecomposition - 0.01884 (ms)\n"
     ]
    },
    {
     "name": "stderr",
     "output_type": "stream",
     "text": [
      "base_primitive._run:INFO:2025-06-23 11:19:51,405: Submitting job using options {'options': {'default_shots': 250}, 'version': 2, 'support_qiskit': True, 'resilience_level': 0}\n"
     ]
    },
    {
     "name": "stdout",
     "output_type": "stream",
     "text": [
      "2025-06-23 11:19:52,234 - qiskit.passmanager.base_tasks - INFO - Pass: Optimize1qGatesDecomposition - 0.01907 (ms)\n"
     ]
    },
    {
     "name": "stderr",
     "output_type": "stream",
     "text": [
      "base_primitive._run:INFO:2025-06-23 11:19:52,696: Submitting job using options {'options': {'default_shots': 250}, 'version': 2, 'support_qiskit': True, 'resilience_level': 0}\n"
     ]
    },
    {
     "name": "stdout",
     "output_type": "stream",
     "text": [
      "2025-06-23 11:19:53,501 - qiskit.passmanager.base_tasks - INFO - Pass: Optimize1qGatesDecomposition - 0.01836 (ms)\n"
     ]
    },
    {
     "name": "stderr",
     "output_type": "stream",
     "text": [
      "base_primitive._run:INFO:2025-06-23 11:19:54,238: Submitting job using options {'options': {'default_shots': 250}, 'version': 2, 'support_qiskit': True, 'resilience_level': 0}\n"
     ]
    },
    {
     "name": "stdout",
     "output_type": "stream",
     "text": [
      "2025-06-23 11:19:55,052 - qiskit.passmanager.base_tasks - INFO - Pass: Optimize1qGatesDecomposition - 0.02217 (ms)\n"
     ]
    },
    {
     "name": "stderr",
     "output_type": "stream",
     "text": [
      "base_primitive._run:INFO:2025-06-23 11:19:55,498: Submitting job using options {'options': {'default_shots': 250}, 'version': 2, 'support_qiskit': True, 'resilience_level': 0}\n"
     ]
    },
    {
     "name": "stdout",
     "output_type": "stream",
     "text": [
      "2025-06-23 11:19:56,398 - qiskit.passmanager.base_tasks - INFO - Pass: Optimize1qGatesDecomposition - 0.02193 (ms)\n"
     ]
    },
    {
     "name": "stderr",
     "output_type": "stream",
     "text": [
      "base_primitive._run:INFO:2025-06-23 11:19:57,033: Submitting job using options {'options': {'default_shots': 250}, 'version': 2, 'support_qiskit': True, 'resilience_level': 0}\n"
     ]
    },
    {
     "name": "stdout",
     "output_type": "stream",
     "text": [
      "2025-06-23 11:19:57,884 - qiskit.passmanager.base_tasks - INFO - Pass: Optimize1qGatesDecomposition - 0.02027 (ms)\n"
     ]
    },
    {
     "name": "stderr",
     "output_type": "stream",
     "text": [
      "base_primitive._run:INFO:2025-06-23 11:19:58,326: Submitting job using options {'options': {'default_shots': 250}, 'version': 2, 'support_qiskit': True, 'resilience_level': 0}\n"
     ]
    },
    {
     "name": "stdout",
     "output_type": "stream",
     "text": [
      "2025-06-23 11:19:59,123 - qiskit.passmanager.base_tasks - INFO - Pass: Optimize1qGatesDecomposition - 0.01884 (ms)\n"
     ]
    },
    {
     "name": "stderr",
     "output_type": "stream",
     "text": [
      "base_primitive._run:INFO:2025-06-23 11:19:59,722: Submitting job using options {'options': {'default_shots': 250}, 'version': 2, 'support_qiskit': True, 'resilience_level': 0}\n"
     ]
    },
    {
     "name": "stdout",
     "output_type": "stream",
     "text": [
      "2025-06-23 11:20:00,663 - qiskit.passmanager.base_tasks - INFO - Pass: Optimize1qGatesDecomposition - 0.02813 (ms)\n"
     ]
    },
    {
     "name": "stderr",
     "output_type": "stream",
     "text": [
      "base_primitive._run:INFO:2025-06-23 11:20:01,138: Submitting job using options {'options': {}, 'version': 2, 'support_qiskit': True}\n"
     ]
    },
    {
     "name": "stdout",
     "output_type": "stream",
     "text": [
      "\n",
      "   Normal return from subroutine COBYLA\n",
      "\n",
      "   NFVALS =   39   F =-3.223108E+00    MAXCV = 0.000000E+00\n",
      "   X = 5.074674E-01  -1.733312E-01  -3.464201E-01   1.281633E-01\n",
      "2025-06-23 11:20:02,475 - qiskit_aer.backends.aerbackend - WARNING - Simulation failed and returned the following error message:\n",
      "ERROR:  [Experiment 0] a circuit requires more memory than max_memory_mb.\n",
      "2025-06-23 11:20:02,476 - __main__ - INFO - Failed for p=2: could not broadcast input array from shape (0,16) into shape (1024,16) (Time: 75.1742 s)\n"
     ]
    }
   ],
   "execution_count": 59
  },
  {
   "cell_type": "code",
   "metadata": {
    "ExecuteTime": {
     "end_time": "2025-06-23T10:20:02.586879Z",
     "start_time": "2025-06-23T10:20:02.581534Z"
    }
   },
   "source": [],
   "outputs": [],
   "execution_count": null
  }
 ],
 "metadata": {
  "kernelspec": {
   "display_name": "Python 3",
   "language": "python",
   "name": "python3"
  },
  "language_info": {
   "codemirror_mode": {
    "name": "ipython",
    "version": 3
   },
   "file_extension": ".py",
   "mimetype": "text/x-python",
   "name": "python",
   "nbconvert_exporter": "python",
   "pygments_lexer": "ipython3",
   "version": "3.11.9"
  }
 },
 "nbformat": 4,
 "nbformat_minor": 2
}
