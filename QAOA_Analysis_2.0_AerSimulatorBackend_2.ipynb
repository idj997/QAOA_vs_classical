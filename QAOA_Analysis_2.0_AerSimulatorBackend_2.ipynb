{
 "cells": [
  {
   "cell_type": "code",
   "metadata": {
    "ExecuteTime": {
     "end_time": "2025-06-25T01:38:39.137490Z",
     "start_time": "2025-06-25T01:38:37.387446Z"
    }
   },
   "source": [
    "import networkx as nx\n",
    "import matplotlib.pyplot as plt\n",
    "from networkx.algorithms import coloring\n",
    "from qiskit.quantum_info import SparsePauliOp, Pauli\n",
    "from qiskit.circuit.library import QAOAAnsatz\n",
    "import time\n",
    "from qiskit_ibm_runtime import QiskitRuntimeService, SamplerV2 as Sampler\n",
    "import time\n",
    "import logging\n",
    "import sys\n",
    "\n",
    "# Configure logging for Jupyter\n",
    "logging.basicConfig(\n",
    "    level=logging.INFO,\n",
    "    format='%(asctime)s - %(name)s - %(levelname)s - %(message)s',\n",
    "    handlers=[\n",
    "        logging.StreamHandler(sys.stdout)  # Output to notebook cell\n",
    "    ]\n",
    ")\n",
    "\n",
    "logger = logging.getLogger(__name__)\n",
    "logging.getLogger('qiskit').setLevel(logging.WARNING)\n"
   ],
   "outputs": [],
   "execution_count": 1
  },
  {
   "metadata": {
    "ExecuteTime": {
     "end_time": "2025-06-25T01:38:39.151426Z",
     "start_time": "2025-06-25T01:38:39.149410Z"
    }
   },
   "cell_type": "code",
   "source": [
    "node_start = 6\n",
    "node_end = 7\n",
    "max_color_possible = 6\n",
    "do_simulate = False"
   ],
   "outputs": [],
   "execution_count": 2
  },
  {
   "cell_type": "code",
   "metadata": {
    "ExecuteTime": {
     "end_time": "2025-06-25T01:38:39.160729Z",
     "start_time": "2025-06-25T01:38:39.156883Z"
    }
   },
   "source": [
    "\n",
    "QiskitRuntimeService.delete_account()\n",
    "#\n",
    "QiskitRuntimeService.save_account(channel='ibm_quantum', instance='ibm-q/open/main', token='272973ed26c7d9f4176885fcf7efbd22a5bc8acd2b7464053fa0989a9926c13fa8ee7dad9fb51ba784ba7ead0e6f02cb51c91de2a07326d312bf35a8cc5f84f3', overwrite=True)\n",
    "\n",
    "# QiskitRuntimeService.save_account(token=\"tEH4qCQyK2sfiXgHyL4vOxku8LUcqSLa0lwg_0zzKS8O\", instance=\"crn:v1:bluemix:public:quantum-computing:us-east:a/0d5f2945f5c44fd6a69d8a9dd034808c:2e832f3b-b7a7-466c-b735-53a9ed77d94b::\", overwrite=True)"
   ],
   "outputs": [],
   "execution_count": 3
  },
  {
   "cell_type": "code",
   "metadata": {
    "ExecuteTime": {
     "end_time": "2025-06-25T01:38:48.168145Z",
     "start_time": "2025-06-25T01:38:39.177617Z"
    }
   },
   "source": [
    "service = QiskitRuntimeService()\n",
    "#\n",
    "for backend in service.backends(simulator=False, operational=True):\n",
    "    logger.info(f\"{backend.name} – {backend.configuration().num_qubits} qubits\")"
   ],
   "outputs": [
    {
     "name": "stderr",
     "output_type": "stream",
     "text": [
      "/var/folders/j_/6x8b_dk9253_tf1dd1vvw84r0000gn/T/ipykernel_9152/3343055937.py:1: DeprecationWarning: The \"ibm_quantum\" channel option is deprecated and will be sunset on 1 July. After this date, \"ibm_cloud\", \"ibm_quantum_platform\", and \"local\" will be the only valid channels. Open Plan users should migrate now.  All other users should review the migration guide (https://quantum.cloud.ibm.com/docs/migration-guides/classic-iqp-to-cloud-iqp)to learn when to migrate.\n",
      "  service = QiskitRuntimeService()\n"
     ]
    },
    {
     "name": "stdout",
     "output_type": "stream",
     "text": [
      "2025-06-25 02:38:48,163 - __main__ - INFO - ibm_brisbane – 127 qubits\n",
      "2025-06-25 02:38:48,165 - __main__ - INFO - ibm_sherbrooke – 127 qubits\n"
     ]
    }
   ],
   "execution_count": 4
  },
  {
   "cell_type": "code",
   "metadata": {
    "ExecuteTime": {
     "end_time": "2025-06-25T01:38:48.199666Z",
     "start_time": "2025-06-25T01:38:48.196681Z"
    }
   },
   "source": [
    "def generate_graph(num_nodes, edge_prob=0.5, seed=32):\n",
    "    return nx.erdos_renyi_graph(num_nodes, edge_prob, seed=seed)"
   ],
   "outputs": [],
   "execution_count": 5
  },
  {
   "cell_type": "code",
   "metadata": {
    "ExecuteTime": {
     "end_time": "2025-06-25T01:38:48.215113Z",
     "start_time": "2025-06-25T01:38:48.209687Z"
    }
   },
   "source": [
    "import numpy as np\n",
    "\n",
    "# QUBO conversion and Hamiltonian construction\n",
    "def create_qubo_hamiltonian(graph, num_colors):\n",
    "    num_nodes = graph.number_of_nodes()\n",
    "    Q = np.zeros((num_nodes * num_colors, num_nodes * num_colors))\n",
    "    for i in range(num_nodes):\n",
    "        for c in range(num_colors):\n",
    "            Q[i * num_colors + c, i * num_colors + c] -= 1\n",
    "            for cp in range(c + 1, num_colors):\n",
    "                Q[i * num_colors + c, i * num_colors + cp] += 2\n",
    "    for i, j in graph.edges():\n",
    "        for c in range(num_colors):\n",
    "            Q[i * num_colors + c, j * num_colors + c] += 1\n",
    "    Q = 0.5 * (Q + Q.T)\n",
    "    linear = np.diag(Q)\n",
    "    quadratic = Q - np.diag(linear)\n",
    "    h = {i: linear[i] for i in range(len(linear))}\n",
    "    J = {(i, j): quadratic[i, j] for i in range(len(linear)) for j in range(i + 1, len(linear)) if quadratic[i, j] != 0}\n",
    "    \n",
    "    pauli_list = []\n",
    "    for (i, j), weight in J.items():\n",
    "        z_p = np.zeros(len(linear), dtype=bool)\n",
    "        x_p = np.zeros(len(linear), dtype=bool)\n",
    "        z_p[i] = True\n",
    "        z_p[j] = True\n",
    "        pauli_list.append((Pauli((z_p, x_p)), weight))\n",
    "    for i, weight in h.items():\n",
    "        z_p = np.zeros(len(linear), dtype=bool)\n",
    "        x_p = np.zeros(len(linear), dtype=bool)\n",
    "        z_p[i] = True\n",
    "        pauli_list.append((Pauli((z_p, x_p)), weight))\n",
    "    hamiltonian = sum([SparsePauliOp.from_list([(pauli.to_label(), weight)]) for pauli, weight in pauli_list])\n",
    "    \n",
    "    return hamiltonian"
   ],
   "outputs": [],
   "execution_count": 6
  },
  {
   "cell_type": "code",
   "metadata": {
    "ExecuteTime": {
     "end_time": "2025-06-25T01:38:48.221138Z",
     "start_time": "2025-06-25T01:38:48.218732Z"
    }
   },
   "source": [
    "def is_valid_coloring(graph, coloring):\n",
    "    \"\"\"Return True if no adjacent vertices share the same color and all nodes are assigned valid colors.\"\"\"\n",
    "    for u, v in graph.edges():\n",
    "        if coloring[u] == coloring[v]:\n",
    "            return False\n",
    "\n",
    "    if len(set(coloring)) > max_color_possible:\n",
    "        return False\n",
    "\n",
    "    return True\n"
   ],
   "outputs": [],
   "execution_count": 7
  },
  {
   "metadata": {
    "ExecuteTime": {
     "end_time": "2025-06-25T01:38:48.229165Z",
     "start_time": "2025-06-25T01:38:48.225508Z"
    }
   },
   "cell_type": "code",
   "source": [
    "def extract_relevant_bits(full_counts, layout, num_logical_qubits):\n",
    "    \"\"\"Extract only the bits corresponding to logical qubits from full measurement results\"\"\"\n",
    "    extracted_counts = {}\n",
    "\n",
    "    for bitstring, count in full_counts.items():\n",
    "        # Extract only the bits we care about based on the layout\n",
    "        relevant_bits = \"\"\n",
    "        for i in range(num_logical_qubits):\n",
    "            # Get the physical qubit index for logical qubit i\n",
    "            physical_qubit = layout.initial_layout[i]\n",
    "            # Extract the bit at that position (bitstrings are reversed in Qiskit)\n",
    "            bit_index = len(bitstring) - 1 - physical_qubit._index\n",
    "            relevant_bits += bitstring[bit_index]\n",
    "\n",
    "        # Accumulate counts for the same relevant bitstring\n",
    "        if relevant_bits in extracted_counts:\n",
    "            extracted_counts[relevant_bits] += count\n",
    "        else:\n",
    "            extracted_counts[relevant_bits] = count\n",
    "\n",
    "    return extracted_counts"
   ],
   "outputs": [],
   "execution_count": 8
  },
  {
   "cell_type": "code",
   "metadata": {
    "ExecuteTime": {
     "end_time": "2025-06-25T01:38:48.384860Z",
     "start_time": "2025-06-25T01:38:48.232528Z"
    }
   },
   "source": [
    "import numpy as np\n",
    "from scipy.optimize import minimize\n",
    "from qiskit.circuit.library import QAOAAnsatz\n",
    "from qiskit.transpiler import generate_preset_pass_manager\n",
    "from qiskit_ibm_runtime import SamplerV2 as Sampler, EstimatorV2 as Estimator\n",
    "from qiskit.quantum_info import Pauli, SparsePauliOp\n",
    "from qiskit_aer.primitives import SamplerV2 as aersampler\n",
    "import time\n",
    "\n",
    "from qiskit_aer import AerSimulator\n",
    "\n",
    "def run_qaoa(graph, cost_hamiltonian, p, max_iter, shots):\n",
    "\n",
    "    # Create QAOA ansatz\n",
    "    quantum_circuit = QAOAAnsatz(cost_operator=cost_hamiltonian, reps=p)\n",
    "    if do_simulate:\n",
    "        backend_for_simulator = service.least_busy(\n",
    "            operational=True, simulator=False, min_num_qubits=graph.number_of_nodes(),\n",
    "        )\n",
    "        _backend = AerSimulator.from_backend(backend_for_simulator)\n",
    "    else:\n",
    "        _backend = service.least_busy(\n",
    "            operational=True, simulator=False, min_num_qubits=graph.number_of_nodes(),\n",
    "        )\n",
    "\n",
    "    logger.info(_backend)\n",
    "\n",
    "    # Transpile circuit and get the mapping\n",
    "    pm = generate_preset_pass_manager(backend=_backend, optimization_level=3, seed_transpiler=42)\n",
    "    isa_circuit = pm.run(quantum_circuit)\n",
    "    layout = isa_circuit.layout\n",
    "    num_logical_qubits = quantum_circuit.num_qubits\n",
    "\n",
    "    # Initialize estimator\n",
    "    estimator = Estimator(_backend)\n",
    "    estimator.options.resilience_level = 0\n",
    "    estimator.options.default_shots = 500\n",
    "\n",
    "    objective_func_vals = [] # Global variable\n",
    "    def cost_func_estimator(params, ansatz, hamiltonian, _estimator):\n",
    "        isa_hamiltonian = hamiltonian.apply_layout(ansatz.layout)\n",
    "\n",
    "        pub = (ansatz, isa_hamiltonian, params)\n",
    "        job = _estimator.run([pub])\n",
    "\n",
    "        results = job.result()[0]\n",
    "        cost = results.data.evs\n",
    "        objective_func_vals.append(cost)\n",
    "        return cost\n",
    "\n",
    "    # Initialize parameters randomly\n",
    "    num_params = quantum_circuit.num_parameters\n",
    "    initial_params = np.random.uniform(-np.pi/6, np.pi/6, num_params)\n",
    "\n",
    "    optimization_options = {\n",
    "        'maxiter': max_iter,\n",
    "        'catol': 1e-6,\n",
    "        'disp': True\n",
    "    }\n",
    "\n",
    "    result = minimize(\n",
    "        cost_func_estimator,\n",
    "        initial_params,\n",
    "        args=(isa_circuit, cost_hamiltonian, estimator),\n",
    "        method='COBYLA',\n",
    "        options=optimization_options\n",
    "    )\n",
    "\n",
    "    sampler = Sampler(_backend)\n",
    "    optimal_circuit = isa_circuit.assign_parameters(result.x)\n",
    "    optimal_circuit.measure_active()\n",
    "\n",
    "    final_job = sampler.run([(optimal_circuit, None)])\n",
    "    final_result = final_job.result()\n",
    "\n",
    "    full_counts = final_result[0].data.meas.get_counts()\n",
    "    final_counts = extract_relevant_bits(full_counts, layout, num_logical_qubits)\n",
    "\n",
    "    best_bitstring = max(final_counts, key=final_counts.get)\n",
    "\n",
    "    if not do_simulate:\n",
    "        real_execution_time = final_result.metadata['execution']['execution_spans'].duration\n",
    "        return real_execution_time, best_bitstring, final_counts\n",
    "    else:\n",
    "        return 0, best_bitstring, final_counts\n"
   ],
   "outputs": [],
   "execution_count": 9
  },
  {
   "cell_type": "code",
   "metadata": {
    "ExecuteTime": {
     "end_time": "2025-06-25T01:38:48.390323Z",
     "start_time": "2025-06-25T01:38:48.388083Z"
    }
   },
   "source": [
    "def decode_binary_coloring(bitstring, num_vertices, num_colors):\n",
    "    \"\"\"\n",
    "    Decodes a binary-encoded QAOA bitstring into color assignments for each vertex.\n",
    "    Returns:\n",
    "        coloring (list): List of assigned color indices for each vertex.\n",
    "        valid (bool): True if all assignments are valid, False otherwise.\n",
    "    \"\"\"\n",
    "    bits_per_node = int(len(bitstring)/num_vertices)\n",
    "    coloring = []\n",
    "    valid = True\n",
    "\n",
    "    for v in range(num_vertices):\n",
    "        start = v * bits_per_node\n",
    "        end = start + bits_per_node\n",
    "        color_bits = bitstring[start:end]\n",
    "        color_idx = int(color_bits, 2)\n",
    "        coloring.append(color_idx)\n",
    "    return coloring, valid\n"
   ],
   "outputs": [],
   "execution_count": 10
  },
  {
   "cell_type": "code",
   "metadata": {
    "ExecuteTime": {
     "end_time": "2025-06-25T01:38:48.395161Z",
     "start_time": "2025-06-25T01:38:48.392917Z"
    }
   },
   "source": [
    "\n",
    "def run_qaoa_with_retry(graph, max_colors, p, max_iter, shots):\n",
    "    num_vertices = len(graph.nodes)\n",
    "    _iter = 0\n",
    "    for num_colors in range(3, max_colors + 1):\n",
    "\n",
    "        logger.info(f\"\\n +++++++++++++++++++ Node: {num_vertices}, Color: +++++++++++++++++++  {num_colors}\")\n",
    "\n",
    "        cost_hamiltonian = create_qubo_hamiltonian(graph, num_colors)\n",
    "        real_execution_time, _best_bitstring, _final_counts  = run_qaoa(\n",
    "            graph=graph, p=p, max_iter=max_iter, shots=shots, cost_hamiltonian=cost_hamiltonian\n",
    "        )\n",
    "        print(f\"best bitstring is ----- {_best_bitstring}\")\n",
    "        _coloring, valid = decode_binary_coloring(_best_bitstring, num_vertices, num_colors)\n",
    "        print(f\"best coloring is ----- {_coloring}\")\n",
    "        if valid and is_valid_coloring(graph, _coloring):\n",
    "            return num_vertices, num_colors, real_execution_time, _coloring, _iter\n",
    "        else:\n",
    "            _iter+=1\n",
    "\n",
    "        # Optionally: logger.info diagnostic info\n",
    "        # logging.error(f\"Attempt with {num_colors} colors failed. Coloring: {_coloring}, Valid: {valid}\")\n",
    "\n",
    "    raise ValueError(f\"No valid coloring found with ≤ {max_colors} colors\")\n"
   ],
   "outputs": [],
   "execution_count": 11
  },
  {
   "cell_type": "code",
   "metadata": {
    "ExecuteTime": {
     "end_time": "2025-06-25T01:38:48.400432Z",
     "start_time": "2025-06-25T01:38:48.398733Z"
    }
   },
   "source": [
    "# def dsatur_coloring(graph):\n",
    "#     coloring = {}\n",
    "#     saturation_degrees = {node: 0 for node in graph.nodes()}\n",
    "#     available_colors = [True] * len(graph.nodes())\n",
    "#     iterations = 0\n",
    "#     while len(coloring) < len(graph.nodes()):\n",
    "#         iterations += 1\n",
    "#         uncolored_nodes = [node for node in graph.nodes() if node not in coloring]\n",
    "#         max_saturation = -1\n",
    "#         selected_node = None\n",
    "#         for node in uncolored_nodes:\n",
    "#             if saturation_degrees[node] > max_saturation:\n",
    "#                 max_saturation = saturation_degrees[node]\n",
    "#                 selected_node = node\n",
    "#             elif saturation_degrees[node] == max_saturation:\n",
    "#                 if selected_node is None or graph.degree[node] > graph.degree[selected_node]:\n",
    "#                     selected_node = node\n",
    "#         neighbor_colors = {coloring[neighbor] for neighbor in graph.neighbors(selected_node) if neighbor in coloring}\n",
    "#         for color in range(len(available_colors)):\n",
    "#             if color not in neighbor_colors:\n",
    "#                 coloring[selected_node] = color\n",
    "#                 break\n",
    "#         for neighbor in graph.neighbors(selected_node):\n",
    "#             if neighbor not in coloring:\n",
    "#                 saturation_degrees[neighbor] += 1\n",
    "#     return coloring, iterations"
   ],
   "outputs": [],
   "execution_count": 12
  },
  {
   "cell_type": "code",
   "metadata": {
    "ExecuteTime": {
     "end_time": "2025-06-25T01:38:48.407315Z",
     "start_time": "2025-06-25T01:38:48.405802Z"
    }
   },
   "source": [
    "# def run_dsatur(graph):\n",
    "#     start_time = time.time()\n",
    "#     _, classical_iter = dsatur_coloring(graph)\n",
    "#     classical_time = time.time() - start_time\n",
    "#     return classical_time, classical_iter\n"
   ],
   "outputs": [],
   "execution_count": 13
  },
  {
   "cell_type": "code",
   "metadata": {
    "ExecuteTime": {
     "end_time": "2025-06-25T01:38:48.414644Z",
     "start_time": "2025-06-25T01:38:48.411461Z"
    }
   },
   "source": [
    "\n",
    "import json\n",
    "import os\n",
    "from typing import List, Dict, Any, Optional\n",
    "\n",
    "def update_experiment_data(\n",
    "    num_node: int,\n",
    "    data_key: str,\n",
    "    data_value: str,\n",
    "    filename: str = 'experiment_data.json'\n",
    ") -> Dict[str, Any]:\n",
    "\n",
    "    experiment_data = _load_experiment_data(filename)\n",
    "    num_nodes_str = str(num_node)\n",
    "\n",
    "    # Create entry for this number of nodes if it doesn't exist\n",
    "    if num_nodes_str not in experiment_data[\"experiment_data\"]:\n",
    "        experiment_data[\"experiment_data\"][num_nodes_str] = {}\n",
    "\n",
    "    # Update the data\n",
    "    experiment_data[\"experiment_data\"][num_nodes_str][data_key] = data_value\n",
    "\n",
    "    # Save updated data back to JSON file\n",
    "    _save_experiment_data(experiment_data, filename)\n",
    "    return experiment_data\n",
    "\n",
    "\n",
    "def _load_experiment_data(filename: str) -> Dict[str, Any]:\n",
    "    if os.path.exists(filename):\n",
    "        try:\n",
    "            with open(filename, 'r') as f:\n",
    "                experiment_data = json.load(f)\n",
    "        except (json.JSONDecodeError, IOError) as e:\n",
    "            experiment_data = {\"experiment_data\": {}}\n",
    "    else:\n",
    "        experiment_data = {\"experiment_data\": {}}\n",
    "\n",
    "    if \"experiment_data\" not in experiment_data:\n",
    "        experiment_data[\"experiment_data\"] = {}\n",
    "    return experiment_data\n",
    "\n",
    "\n",
    "def _save_experiment_data(experiment_data: Dict[str, Any], filename: str) -> None:\n",
    "    try:\n",
    "        with open(filename, 'w') as f:\n",
    "            json.dump(experiment_data, f, indent=2)\n",
    "    except IOError as e:\n",
    "        error_msg = f\"Error saving to {filename}: {e}\"\n",
    "        raise IOError(error_msg)\n"
   ],
   "outputs": [],
   "execution_count": 14
  },
  {
   "cell_type": "code",
   "metadata": {
    "ExecuteTime": {
     "end_time": "2025-06-25T01:38:48.427766Z",
     "start_time": "2025-06-25T01:38:48.426294Z"
    }
   },
   "source": [
    "# Initialize lists to store the results\n",
    "real_quantum_times = []\n",
    "num_nodes_list = []"
   ],
   "outputs": [],
   "execution_count": 15
  },
  {
   "cell_type": "code",
   "metadata": {
    "ExecuteTime": {
     "end_time": "2025-06-25T01:38:48.434194Z",
     "start_time": "2025-06-25T01:38:48.431927Z"
    }
   },
   "source": [
    "import time\n",
    "import matplotlib.pyplot as plt\n",
    "\n",
    "def plot_coloring(graph, coloring, num_colors):\n",
    "    pos = nx.spring_layout(graph)\n",
    "    cmap = plt.get_cmap('tab20', num_colors)\n",
    "    node_colors = [cmap(color) if color != -1 else (0.8, 0.8, 0.8) for color in coloring]\n",
    "    nx.draw(graph, pos, with_labels=True, node_color=node_colors, node_size=500, font_color='white')\n",
    "    plt.title(f'Graph Coloring with {num_colors} colors')\n",
    "    plt.show()"
   ],
   "outputs": [],
   "execution_count": 16
  },
  {
   "cell_type": "code",
   "metadata": {
    "ExecuteTime": {
     "end_time": "2025-06-25T01:38:48.439312Z",
     "start_time": "2025-06-25T01:38:48.437409Z"
    }
   },
   "source": [
    "def remap_colors(coloring):\n",
    "    unique_colors = sorted(set(coloring) - {-1})\n",
    "    color_map = {color: idx for idx, color in enumerate(unique_colors)}\n",
    "    remapped = [color_map[c] if c != -1 else -1 for c in coloring]\n",
    "    return remapped, len(unique_colors)"
   ],
   "outputs": [],
   "execution_count": 17
  },
  {
   "cell_type": "code",
   "metadata": {
    "ExecuteTime": {
     "end_time": "2025-06-25T01:38:48.444259Z",
     "start_time": "2025-06-25T01:38:48.442014Z"
    }
   },
   "source": [
    "def plot_coloring(graph, coloring, num_colors):\n",
    "    import networkx as nx\n",
    "    pos = nx.spring_layout(graph)\n",
    "    cmap = plt.get_cmap('tab20', num_colors)\n",
    "    node_colors = [cmap(color) if color != -1 else (0.8, 0.8, 0.8) for color in coloring]\n",
    "    nx.draw(graph, pos, with_labels=True, node_color=node_colors, node_size=500, font_color='white')\n",
    "    plt.title(f'Graph Coloring with {num_colors} colors')\n",
    "    plt.show()"
   ],
   "outputs": [],
   "execution_count": 18
  },
  {
   "cell_type": "code",
   "metadata": {
    "ExecuteTime": {
     "end_time": "2025-06-25T01:38:48.449784Z",
     "start_time": "2025-06-25T01:38:48.447274Z"
    }
   },
   "source": [
    "import networkx as nx\n",
    "from collections import deque\n",
    "\n",
    "def edge_bfs_depth(graph, edge):\n",
    "    \"\"\"Compute BFS depth starting from an edge (as a tuple of nodes).\"\"\"\n",
    "    visited_edges = set()\n",
    "    queue = deque([(edge, 0)])\n",
    "    max_depth = 0\n",
    "    while queue:\n",
    "        (u, v), depth = queue.popleft()\n",
    "        if (u, v) in visited_edges or (v, u) in visited_edges:\n",
    "            continue\n",
    "        visited_edges.add((u, v))\n",
    "        max_depth = max(max_depth, depth)\n",
    "        # Explore all edges adjacent to u or v\n",
    "        for neighbor in set(graph.neighbors(u)).union(graph.neighbors(v)):\n",
    "            if neighbor != u and neighbor != v:\n",
    "                for node in (u, v):\n",
    "                    if graph.has_edge(node, neighbor):\n",
    "                        queue.append(((node, neighbor), depth + 1))\n",
    "    return max_depth"
   ],
   "outputs": [],
   "execution_count": 19
  },
  {
   "cell_type": "code",
   "metadata": {
    "ExecuteTime": {
     "end_time": "2025-06-25T01:38:48.454155Z",
     "start_time": "2025-06-25T01:38:48.452599Z"
    }
   },
   "source": [
    "def compute_c_depth(graph):\n",
    "    \"\"\"Compute the covering depth (c-depth) for the graph.\"\"\"\n",
    "    max_bfs_depth = 0\n",
    "    for edge in graph.edges():\n",
    "        depth = edge_bfs_depth(graph, edge)\n",
    "        max_bfs_depth = max(max_bfs_depth, depth)\n",
    "    return max_bfs_depth"
   ],
   "outputs": [],
   "execution_count": 20
  },
  {
   "cell_type": "code",
   "metadata": {
    "ExecuteTime": {
     "end_time": "2025-06-25T01:38:48.460035Z",
     "start_time": "2025-06-25T01:38:48.457177Z"
    }
   },
   "source": [
    "def sweep_qaoa_p_levels(graph, max_colors, max_iter, shots):\n",
    "\n",
    "\n",
    "    start_time = time.perf_counter()\n",
    "    try:\n",
    "        p_level = 5\n",
    "        logger.info(f\"\\nRunning QAOA with p={p_level}, Node: {graph.number_of_nodes()}, Color: {shots}\")\n",
    "\n",
    "        num_vertices, num_colors, real_execution_time, _coloring, found_after = run_qaoa_with_retry(\n",
    "            graph, max_colors=max_colors, p=p_level, max_iter=max_iter, shots=shots\n",
    "        )\n",
    "\n",
    "        end_time = time.perf_counter()\n",
    "        total_time = end_time - start_time\n",
    "\n",
    "        remapped_coloring, actual_colors_used = remap_colors(_coloring)\n",
    "\n",
    "        update_experiment_data(num_vertices, \"real_execution_time\", str(real_execution_time))\n",
    "        update_experiment_data(num_vertices, \"found_after\", str(found_after))\n",
    "        update_experiment_data(num_vertices, \"total_time\", str(total_time))\n",
    "        update_experiment_data(num_vertices, \"p_level\", str(p_level))\n",
    "        update_experiment_data(num_vertices, \"no_of_colors_allowed\", str(num_colors))\n",
    "        update_experiment_data(num_vertices, \"no_of_colors_actually_used\", str(actual_colors_used))\n",
    "        update_experiment_data(num_vertices, \"remapped_coloring\", str(remapped_coloring))\n",
    "\n",
    "        # Plot the solution for each p\n",
    "        plot_coloring(graph, remapped_coloring, actual_colors_used)\n",
    "\n",
    "    except ValueError as e:\n",
    "        end_time = time.perf_counter()\n",
    "        total_time = end_time - start_time\n",
    "        logger.info(f\"Failed for p={p_level}: {e} (Time: {total_time:.4f} s)\")\n",
    "\n"
   ],
   "outputs": [],
   "execution_count": 21
  },
  {
   "cell_type": "code",
   "metadata": {
    "ExecuteTime": {
     "end_time": "2025-06-25T01:59:23.791209Z",
     "start_time": "2025-06-25T01:38:48.466214Z"
    }
   },
   "source": [
    "for num_nodes in range(node_start, node_end):\n",
    "    G = generate_graph(num_nodes=num_nodes, seed=32)\n",
    "    nx.draw(G, with_labels=True)\n",
    "    plt.show()\n",
    "    sweep_qaoa_p_levels(G, max_colors=max_color_possible, max_iter=100, shots=1024)\n"
   ],
   "outputs": [
    {
     "data": {
      "text/plain": [
       "<Figure size 640x480 with 1 Axes>"
      ],
      "image/png": "[encoded data removed]"
     },
     "metadata": {},
     "output_type": "display_data"
    },
    {
     "name": "stdout",
     "output_type": "stream",
     "text": [
      "2025-06-25 02:38:48,512 - __main__ - INFO - \n",
      "Running QAOA with p=5, Node: 6, Color: 1024\n",
      "2025-06-25 02:38:48,512 - __main__ - INFO - \n",
      " +++++++++++++++++++ Node: 6, Color: +++++++++++++++++++  3\n",
      "2025-06-25 02:38:50,752 - __main__ - INFO - <IBMBackend('ibm_brisbane')>\n"
     ]
    },
    {
     "name": "stderr",
     "output_type": "stream",
     "text": [
      "base_primitive._run:INFO:2025-06-25 02:38:54,257: Submitting job using options {'options': {'default_shots': 500}, 'version': 2, 'support_qiskit': True, 'resilience_level': 0}\n",
      "/Users/utkarshsharma/PycharmProjects/QAOA_vs_classical/.venv/lib/python3.11/site-packages/qiskit_ibm_runtime/qiskit_runtime_service.py:1129: UserWarning: IBM Quantum Platform is moving, and this version will be sunset on July 1. To get started on the new platform, read the migration guide at https://docs.quantum.ibm.com/migration-guides/classic-iqp-to-cloud-iqp\n",
      "  warnings.warn(warning_message)\n",
      "base_primitive._run:INFO:2025-06-25 02:39:07,256: Submitting job using options {'options': {'default_shots': 500}, 'version': 2, 'support_qiskit': True, 'resilience_level': 0}\n",
      "base_primitive._run:INFO:2025-06-25 02:39:20,570: Submitting job using options {'options': {'default_shots': 500}, 'version': 2, 'support_qiskit': True, 'resilience_level': 0}\n",
      "base_primitive._run:INFO:2025-06-25 02:39:33,574: Submitting job using options {'options': {'default_shots': 500}, 'version': 2, 'support_qiskit': True, 'resilience_level': 0}\n",
      "base_primitive._run:INFO:2025-06-25 02:39:48,142: Submitting job using options {'options': {'default_shots': 500}, 'version': 2, 'support_qiskit': True, 'resilience_level': 0}\n",
      "base_primitive._run:INFO:2025-06-25 02:40:01,226: Submitting job using options {'options': {'default_shots': 500}, 'version': 2, 'support_qiskit': True, 'resilience_level': 0}\n",
      "base_primitive._run:INFO:2025-06-25 02:40:14,116: Submitting job using options {'options': {'default_shots': 500}, 'version': 2, 'support_qiskit': True, 'resilience_level': 0}\n",
      "base_primitive._run:INFO:2025-06-25 02:40:26,047: Submitting job using options {'options': {'default_shots': 500}, 'version': 2, 'support_qiskit': True, 'resilience_level': 0}\n",
      "base_primitive._run:INFO:2025-06-25 02:40:39,019: Submitting job using options {'options': {'default_shots': 500}, 'version': 2, 'support_qiskit': True, 'resilience_level': 0}\n",
      "base_primitive._run:INFO:2025-06-25 02:40:52,931: Submitting job using options {'options': {'default_shots': 500}, 'version': 2, 'support_qiskit': True, 'resilience_level': 0}\n",
      "base_primitive._run:INFO:2025-06-25 02:41:05,835: Submitting job using options {'options': {'default_shots': 500}, 'version': 2, 'support_qiskit': True, 'resilience_level': 0}\n",
      "base_primitive._run:INFO:2025-06-25 02:41:18,536: Submitting job using options {'options': {'default_shots': 500}, 'version': 2, 'support_qiskit': True, 'resilience_level': 0}\n",
      "base_primitive._run:INFO:2025-06-25 02:41:32,360: Submitting job using options {'options': {'default_shots': 500}, 'version': 2, 'support_qiskit': True, 'resilience_level': 0}\n",
      "base_primitive._run:INFO:2025-06-25 02:41:46,177: Submitting job using options {'options': {'default_shots': 500}, 'version': 2, 'support_qiskit': True, 'resilience_level': 0}\n",
      "base_primitive._run:INFO:2025-06-25 02:41:58,020: Submitting job using options {'options': {'default_shots': 500}, 'version': 2, 'support_qiskit': True, 'resilience_level': 0}\n",
      "base_primitive._run:INFO:2025-06-25 02:42:11,272: Submitting job using options {'options': {'default_shots': 500}, 'version': 2, 'support_qiskit': True, 'resilience_level': 0}\n",
      "base_primitive._run:INFO:2025-06-25 02:42:23,356: Submitting job using options {'options': {'default_shots': 500}, 'version': 2, 'support_qiskit': True, 'resilience_level': 0}\n",
      "base_primitive._run:INFO:2025-06-25 02:42:35,801: Submitting job using options {'options': {'default_shots': 500}, 'version': 2, 'support_qiskit': True, 'resilience_level': 0}\n",
      "base_primitive._run:INFO:2025-06-25 02:42:48,855: Submitting job using options {'options': {'default_shots': 500}, 'version': 2, 'support_qiskit': True, 'resilience_level': 0}\n",
      "base_primitive._run:INFO:2025-06-25 02:43:01,962: Submitting job using options {'options': {'default_shots': 500}, 'version': 2, 'support_qiskit': True, 'resilience_level': 0}\n",
      "base_primitive._run:INFO:2025-06-25 02:43:14,593: Submitting job using options {'options': {'default_shots': 500}, 'version': 2, 'support_qiskit': True, 'resilience_level': 0}\n",
      "base_primitive._run:INFO:2025-06-25 02:43:26,741: Submitting job using options {'options': {'default_shots': 500}, 'version': 2, 'support_qiskit': True, 'resilience_level': 0}\n",
      "base_primitive._run:INFO:2025-06-25 02:43:39,336: Submitting job using options {'options': {'default_shots': 500}, 'version': 2, 'support_qiskit': True, 'resilience_level': 0}\n",
      "base_primitive._run:INFO:2025-06-25 02:43:52,161: Submitting job using options {'options': {'default_shots': 500}, 'version': 2, 'support_qiskit': True, 'resilience_level': 0}\n",
      "base_primitive._run:INFO:2025-06-25 02:44:03,912: Submitting job using options {'options': {'default_shots': 500}, 'version': 2, 'support_qiskit': True, 'resilience_level': 0}\n",
      "base_primitive._run:INFO:2025-06-25 02:44:16,179: Submitting job using options {'options': {'default_shots': 500}, 'version': 2, 'support_qiskit': True, 'resilience_level': 0}\n",
      "base_primitive._run:INFO:2025-06-25 02:44:28,905: Submitting job using options {'options': {'default_shots': 500}, 'version': 2, 'support_qiskit': True, 'resilience_level': 0}\n",
      "base_primitive._run:INFO:2025-06-25 02:44:41,187: Submitting job using options {'options': {'default_shots': 500}, 'version': 2, 'support_qiskit': True, 'resilience_level': 0}\n",
      "base_primitive._run:INFO:2025-06-25 02:44:56,051: Submitting job using options {'options': {'default_shots': 500}, 'version': 2, 'support_qiskit': True, 'resilience_level': 0}\n",
      "base_primitive._run:INFO:2025-06-25 02:45:09,741: Submitting job using options {'options': {'default_shots': 500}, 'version': 2, 'support_qiskit': True, 'resilience_level': 0}\n",
      "base_primitive._run:INFO:2025-06-25 02:45:21,448: Submitting job using options {'options': {'default_shots': 500}, 'version': 2, 'support_qiskit': True, 'resilience_level': 0}\n",
      "base_primitive._run:INFO:2025-06-25 02:45:34,742: Submitting job using options {'options': {'default_shots': 500}, 'version': 2, 'support_qiskit': True, 'resilience_level': 0}\n",
      "base_primitive._run:INFO:2025-06-25 02:45:47,646: Submitting job using options {'options': {'default_shots': 500}, 'version': 2, 'support_qiskit': True, 'resilience_level': 0}\n",
      "base_primitive._run:INFO:2025-06-25 02:45:59,699: Submitting job using options {'options': {'default_shots': 500}, 'version': 2, 'support_qiskit': True, 'resilience_level': 0}\n",
      "base_primitive._run:INFO:2025-06-25 02:46:40,703: Submitting job using options {'options': {'default_shots': 500}, 'version': 2, 'support_qiskit': True, 'resilience_level': 0}\n",
      "base_primitive._run:INFO:2025-06-25 02:46:52,980: Submitting job using options {'options': {'default_shots': 500}, 'version': 2, 'support_qiskit': True, 'resilience_level': 0}\n",
      "base_primitive._run:INFO:2025-06-25 02:47:04,994: Submitting job using options {'options': {'default_shots': 500}, 'version': 2, 'support_qiskit': True, 'resilience_level': 0}\n",
      "base_primitive._run:INFO:2025-06-25 02:47:17,659: Submitting job using options {'options': {'default_shots': 500}, 'version': 2, 'support_qiskit': True, 'resilience_level': 0}\n",
      "base_primitive._run:INFO:2025-06-25 02:47:29,791: Submitting job using options {'options': {'default_shots': 500}, 'version': 2, 'support_qiskit': True, 'resilience_level': 0}\n",
      "base_primitive._run:INFO:2025-06-25 02:47:41,475: Submitting job using options {'options': {'default_shots': 500}, 'version': 2, 'support_qiskit': True, 'resilience_level': 0}\n",
      "base_primitive._run:INFO:2025-06-25 02:47:53,471: Submitting job using options {'options': {'default_shots': 500}, 'version': 2, 'support_qiskit': True, 'resilience_level': 0}\n",
      "base_primitive._run:INFO:2025-06-25 02:48:05,166: Submitting job using options {'options': {'default_shots': 500}, 'version': 2, 'support_qiskit': True, 'resilience_level': 0}\n",
      "base_primitive._run:INFO:2025-06-25 02:48:32,024: Submitting job using options {'options': {'default_shots': 500}, 'version': 2, 'support_qiskit': True, 'resilience_level': 0}\n",
      "base_primitive._run:INFO:2025-06-25 02:48:43,885: Submitting job using options {'options': {'default_shots': 500}, 'version': 2, 'support_qiskit': True, 'resilience_level': 0}\n",
      "base_primitive._run:INFO:2025-06-25 02:48:58,005: Submitting job using options {'options': {'default_shots': 500}, 'version': 2, 'support_qiskit': True, 'resilience_level': 0}\n",
      "base_primitive._run:INFO:2025-06-25 02:49:10,295: Submitting job using options {'options': {'default_shots': 500}, 'version': 2, 'support_qiskit': True, 'resilience_level': 0}\n",
      "base_primitive._run:INFO:2025-06-25 02:49:22,379: Submitting job using options {'options': {'default_shots': 500}, 'version': 2, 'support_qiskit': True, 'resilience_level': 0}\n",
      "base_primitive._run:INFO:2025-06-25 02:49:33,953: Submitting job using options {'options': {'default_shots': 500}, 'version': 2, 'support_qiskit': True, 'resilience_level': 0}\n",
      "base_primitive._run:INFO:2025-06-25 02:49:45,831: Submitting job using options {'options': {'default_shots': 500}, 'version': 2, 'support_qiskit': True, 'resilience_level': 0}\n",
      "base_primitive._run:INFO:2025-06-25 02:49:59,041: Submitting job using options {'options': {'default_shots': 500}, 'version': 2, 'support_qiskit': True, 'resilience_level': 0}\n",
      "base_primitive._run:INFO:2025-06-25 02:50:11,323: Submitting job using options {'options': {'default_shots': 500}, 'version': 2, 'support_qiskit': True, 'resilience_level': 0}\n",
      "base_primitive._run:INFO:2025-06-25 02:50:24,031: Submitting job using options {'options': {'default_shots': 500}, 'version': 2, 'support_qiskit': True, 'resilience_level': 0}\n",
      "base_primitive._run:INFO:2025-06-25 02:50:35,912: Submitting job using options {'options': {'default_shots': 500}, 'version': 2, 'support_qiskit': True, 'resilience_level': 0}\n",
      "base_primitive._run:INFO:2025-06-25 02:50:47,514: Submitting job using options {'options': {'default_shots': 500}, 'version': 2, 'support_qiskit': True, 'resilience_level': 0}\n",
      "base_primitive._run:INFO:2025-06-25 02:50:59,187: Submitting job using options {'options': {'default_shots': 500}, 'version': 2, 'support_qiskit': True, 'resilience_level': 0}\n",
      "base_primitive._run:INFO:2025-06-25 02:51:11,134: Submitting job using options {'options': {'default_shots': 500}, 'version': 2, 'support_qiskit': True, 'resilience_level': 0}\n",
      "base_primitive._run:INFO:2025-06-25 02:51:23,815: Submitting job using options {'options': {'default_shots': 500}, 'version': 2, 'support_qiskit': True, 'resilience_level': 0}\n",
      "base_primitive._run:INFO:2025-06-25 02:51:38,581: Submitting job using options {'options': {'default_shots': 500}, 'version': 2, 'support_qiskit': True, 'resilience_level': 0}\n",
      "base_primitive._run:INFO:2025-06-25 02:51:51,132: Submitting job using options {'options': {'default_shots': 500}, 'version': 2, 'support_qiskit': True, 'resilience_level': 0}\n",
      "base_primitive._run:INFO:2025-06-25 02:52:03,866: Submitting job using options {'options': {'default_shots': 500}, 'version': 2, 'support_qiskit': True, 'resilience_level': 0}\n",
      "base_primitive._run:INFO:2025-06-25 02:52:15,647: Submitting job using options {'options': {'default_shots': 500}, 'version': 2, 'support_qiskit': True, 'resilience_level': 0}\n",
      "base_primitive._run:INFO:2025-06-25 02:52:40,581: Submitting job using options {'options': {'default_shots': 500}, 'version': 2, 'support_qiskit': True, 'resilience_level': 0}\n",
      "base_primitive._run:INFO:2025-06-25 02:52:53,015: Submitting job using options {'options': {'default_shots': 500}, 'version': 2, 'support_qiskit': True, 'resilience_level': 0}\n",
      "base_primitive._run:INFO:2025-06-25 02:53:04,986: Submitting job using options {'options': {'default_shots': 500}, 'version': 2, 'support_qiskit': True, 'resilience_level': 0}\n",
      "base_primitive._run:INFO:2025-06-25 02:53:16,810: Submitting job using options {'options': {'default_shots': 500}, 'version': 2, 'support_qiskit': True, 'resilience_level': 0}\n",
      "base_primitive._run:INFO:2025-06-25 02:53:43,706: Submitting job using options {'options': {'default_shots': 500}, 'version': 2, 'support_qiskit': True, 'resilience_level': 0}\n",
      "base_primitive._run:INFO:2025-06-25 02:53:56,476: Submitting job using options {'options': {'default_shots': 500}, 'version': 2, 'support_qiskit': True, 'resilience_level': 0}\n",
      "base_primitive._run:INFO:2025-06-25 02:54:27,808: Submitting job using options {'options': {'default_shots': 500}, 'version': 2, 'support_qiskit': True, 'resilience_level': 0}\n",
      "base_primitive._run:INFO:2025-06-25 02:54:44,207: Submitting job using options {'options': {'default_shots': 500}, 'version': 2, 'support_qiskit': True, 'resilience_level': 0}\n",
      "base_primitive._run:INFO:2025-06-25 02:54:55,965: Submitting job using options {'options': {'default_shots': 500}, 'version': 2, 'support_qiskit': True, 'resilience_level': 0}\n",
      "base_primitive._run:INFO:2025-06-25 02:55:09,381: Submitting job using options {'options': {'default_shots': 500}, 'version': 2, 'support_qiskit': True, 'resilience_level': 0}\n",
      "base_primitive._run:INFO:2025-06-25 02:55:24,854: Submitting job using options {'options': {'default_shots': 500}, 'version': 2, 'support_qiskit': True, 'resilience_level': 0}\n",
      "base_primitive._run:INFO:2025-06-25 02:55:40,206: Submitting job using options {'options': {'default_shots': 500}, 'version': 2, 'support_qiskit': True, 'resilience_level': 0}\n",
      "base_primitive._run:INFO:2025-06-25 02:55:53,001: Submitting job using options {'options': {'default_shots': 500}, 'version': 2, 'support_qiskit': True, 'resilience_level': 0}\n",
      "base_primitive._run:INFO:2025-06-25 02:56:05,087: Submitting job using options {'options': {'default_shots': 500}, 'version': 2, 'support_qiskit': True, 'resilience_level': 0}\n",
      "base_primitive._run:INFO:2025-06-25 02:56:18,911: Submitting job using options {'options': {'default_shots': 500}, 'version': 2, 'support_qiskit': True, 'resilience_level': 0}\n",
      "base_primitive._run:INFO:2025-06-25 02:56:32,309: Submitting job using options {'options': {'default_shots': 500}, 'version': 2, 'support_qiskit': True, 'resilience_level': 0}\n",
      "base_primitive._run:INFO:2025-06-25 02:56:44,512: Submitting job using options {'options': {'default_shots': 500}, 'version': 2, 'support_qiskit': True, 'resilience_level': 0}\n",
      "base_primitive._run:INFO:2025-06-25 02:56:57,004: Submitting job using options {'options': {'default_shots': 500}, 'version': 2, 'support_qiskit': True, 'resilience_level': 0}\n",
      "base_primitive._run:INFO:2025-06-25 02:57:08,988: Submitting job using options {'options': {'default_shots': 500}, 'version': 2, 'support_qiskit': True, 'resilience_level': 0}\n",
      "base_primitive._run:INFO:2025-06-25 02:57:20,471: Submitting job using options {'options': {'default_shots': 500}, 'version': 2, 'support_qiskit': True, 'resilience_level': 0}\n",
      "base_primitive._run:INFO:2025-06-25 02:57:32,318: Submitting job using options {'options': {'default_shots': 500}, 'version': 2, 'support_qiskit': True, 'resilience_level': 0}\n",
      "base_primitive._run:INFO:2025-06-25 02:57:44,416: Submitting job using options {'options': {'default_shots': 500}, 'version': 2, 'support_qiskit': True, 'resilience_level': 0}\n",
      "base_primitive._run:INFO:2025-06-25 02:57:57,336: Submitting job using options {'options': {'default_shots': 500}, 'version': 2, 'support_qiskit': True, 'resilience_level': 0}\n",
      "base_primitive._run:INFO:2025-06-25 02:58:10,221: Submitting job using options {'options': {'default_shots': 500}, 'version': 2, 'support_qiskit': True, 'resilience_level': 0}\n",
      "base_primitive._run:INFO:2025-06-25 02:58:23,121: Submitting job using options {'options': {'default_shots': 500}, 'version': 2, 'support_qiskit': True, 'resilience_level': 0}\n",
      "base_primitive._run:INFO:2025-06-25 02:58:35,310: Submitting job using options {'options': {'default_shots': 500}, 'version': 2, 'support_qiskit': True, 'resilience_level': 0}\n",
      "base_primitive._run:INFO:2025-06-25 02:58:48,006: Submitting job using options {'options': {'default_shots': 500}, 'version': 2, 'support_qiskit': True, 'resilience_level': 0}\n",
      "base_primitive._run:INFO:2025-06-25 02:59:00,191: Submitting job using options {'options': {'default_shots': 500}, 'version': 2, 'support_qiskit': True, 'resilience_level': 0}\n",
      "base_primitive._run:INFO:2025-06-25 02:59:12,403: Submitting job using options {'options': {}, 'version': 2, 'support_qiskit': True}\n"
     ]
    },
    {
     "name": "stdout",
     "output_type": "stream",
     "text": [
      "\n",
      "   Normal return from subroutine COBYLA\n",
      "\n",
      "   NFVALS =   89   F = 3.800000E-02    MAXCV = 0.000000E+00\n",
      "   X = 5.567062E-01   3.675042E-01   3.888245E-01   3.400704E-01  -3.542193E-01\n",
      "       3.897278E-01  -4.283384E-01   1.330911E-01   4.825247E-01  -1.422998E-01\n",
      "best bitstring is ----- 010110101111010100\n",
      "best coloring is ----- [2, 6, 5, 7, 2, 4]\n"
     ]
    },
    {
     "data": {
      "text/plain": [
       "<Figure size 640x480 with 1 Axes>"
      ],
      "image/png": "[encoded data removed]"
     },
     "metadata": {},
     "output_type": "display_data"
    }
   ],
   "execution_count": 22
  },
  {
   "cell_type": "code",
   "metadata": {
    "ExecuteTime": {
     "end_time": "2025-06-25T01:59:23.816193Z",
     "start_time": "2025-06-25T01:59:23.813956Z"
    }
   },
   "source": [],
   "outputs": [],
   "execution_count": null
  }
 ],
 "metadata": {
  "kernelspec": {
   "display_name": ".venv",
   "language": "python",
   "name": "python3"
  },
  "language_info": {
   "codemirror_mode": {
    "name": "ipython",
    "version": 3
   },
   "file_extension": ".py",
   "mimetype": "text/x-python",
   "name": "python",
   "nbconvert_exporter": "python",
   "pygments_lexer": "ipython3",
   "version": "3.12.6"
  }
 },
 "nbformat": 4,
 "nbformat_minor": 2
}
