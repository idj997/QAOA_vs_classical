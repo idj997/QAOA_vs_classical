{
 "cells": [
  {
   "cell_type": "code",
   "metadata": {
    "ExecuteTime": {
     "end_time": "2025-06-20T09:08:04.806575Z",
     "start_time": "2025-06-20T09:08:04.750937Z"
    }
   },
   "source": [
    "import networkx as nx\n",
    "import matplotlib.pyplot as plt\n",
    "from qiskit.quantum_info import SparsePauliOp, Pauli\n",
    "from qiskit.circuit.library import QAOAAnsatz\n",
    "import time\n",
    "from qiskit_ibm_runtime import QiskitRuntimeService, SamplerV2 as Sampler"
   ],
   "outputs": [],
   "execution_count": 17
  },
  {
   "metadata": {
    "ExecuteTime": {
     "end_time": "2025-06-20T09:08:04.890465Z",
     "start_time": "2025-06-20T09:08:04.818936Z"
    }
   },
   "cell_type": "code",
   "source": [
    "QiskitRuntimeService.delete_account()\n",
    "#\n",
    "QiskitRuntimeService.save_account(channel='ibm_quantum', instance='ibm-q/open/main', token='f812b20b65e661d9f78d44e11b1078feb0efc222ab12cdf8d1aea3e2f0f8afb6410cc670110338907c2e71685445319d89cd5258adc567a1e439be10a05eb460', overwrite=True)\n",
    "\n",
    "# QiskitRuntimeService.save_account(token=\"0aDpWunMlDZRivTJVWW3KpsXTdgqE1vzfPB8_ODD4Phx\", instance=\"crn:v1:bluemix:public:quantum-computing:us-east:a/0d5f2945f5c44fd6a69d8a9dd034808c:2e832f3b-b7a7-466c-b735-53a9ed77d94b::\", overwrite=True)"
   ],
   "outputs": [],
   "execution_count": 18
  },
  {
   "metadata": {
    "ExecuteTime": {
     "end_time": "2025-06-20T09:08:15.853026Z",
     "start_time": "2025-06-20T09:08:04.903153Z"
    }
   },
   "cell_type": "code",
   "source": [
    "service = QiskitRuntimeService()\n",
    "\n",
    "for backend in service.backends(simulator=False, operational=True):\n",
    "    print(f\"{backend.name} – {backend.configuration().num_qubits} qubits\")"
   ],
   "outputs": [
    {
     "name": "stderr",
     "output_type": "stream",
     "text": [
      "/var/folders/j_/6x8b_dk9253_tf1dd1vvw84r0000gn/T/ipykernel_18741/1411517592.py:1: DeprecationWarning: The \"ibm_quantum\" channel option is deprecated and will be sunset on 1 July. After this date, \"ibm_cloud\", \"ibm_quantum_platform\", and \"local\" will be the only valid channels. Open Plan users should migrate now.  All other users should review the migration guide (https://quantum.cloud.ibm.com/docs/migration-guides/classic-iqp-to-cloud-iqp)to learn when to migrate.\n",
      "  service = QiskitRuntimeService()\n"
     ]
    },
    {
     "name": "stdout",
     "output_type": "stream",
     "text": [
      "ibm_brisbane – 127 qubits\n",
      "ibm_sherbrooke – 127 qubits\n"
     ]
    }
   ],
   "execution_count": 19
  },
  {
   "cell_type": "code",
   "metadata": {
    "ExecuteTime": {
     "end_time": "2025-06-20T09:08:15.878066Z",
     "start_time": "2025-06-20T09:08:15.873746Z"
    }
   },
   "source": [
    "def generate_graph(num_nodes, edge_prob=0.5):\n",
    "    return nx.erdos_renyi_graph(num_nodes, edge_prob)"
   ],
   "outputs": [],
   "execution_count": 20
  },
  {
   "cell_type": "code",
   "metadata": {
    "ExecuteTime": {
     "end_time": "2025-06-20T09:08:15.891795Z",
     "start_time": "2025-06-20T09:08:15.884898Z"
    }
   },
   "source": [
    "import numpy as np\n",
    "\n",
    "# QUBO conversion and Hamiltonian construction\n",
    "def create_qubo_hamiltonian(graph, num_colors=3):\n",
    "    num_nodes = graph.number_of_nodes()\n",
    "    Q = np.zeros((num_nodes * num_colors, num_nodes * num_colors))\n",
    "    for i in range(num_nodes):\n",
    "        for c in range(num_colors):\n",
    "            Q[i * num_colors + c, i * num_colors + c] -= 1\n",
    "            for cp in range(c + 1, num_colors):\n",
    "                Q[i * num_colors + c, i * num_colors + cp] += 2\n",
    "    for i, j in graph.edges():\n",
    "        for c in range(num_colors):\n",
    "            Q[i * num_colors + c, j * num_colors + c] += 1\n",
    "    Q = 0.5 * (Q + Q.T)\n",
    "    linear = np.diag(Q)\n",
    "    quadratic = Q - np.diag(linear)\n",
    "    h = {i: linear[i] for i in range(len(linear))}\n",
    "    J = {(i, j): quadratic[i, j] for i in range(len(linear)) for j in range(i + 1, len(linear)) if quadratic[i, j] != 0}\n",
    "\n",
    "    pauli_list = []\n",
    "    for (i, j), weight in J.items():\n",
    "        z_p = np.zeros(len(linear), dtype=bool)\n",
    "        x_p = np.zeros(len(linear), dtype=bool)\n",
    "        z_p[i] = True\n",
    "        z_p[j] = True\n",
    "        pauli_list.append((Pauli((z_p, x_p)), weight))\n",
    "    for i, weight in h.items():\n",
    "        z_p = np.zeros(len(linear), dtype=bool)\n",
    "        x_p = np.zeros(len(linear), dtype=bool)\n",
    "        z_p[i] = True\n",
    "        pauli_list.append((Pauli((z_p, x_p)), weight))\n",
    "    hamiltonian = sum([SparsePauliOp.from_list([(pauli.to_label(), weight)]) for pauli, weight in pauli_list])\n",
    "\n",
    "    return hamiltonian"
   ],
   "outputs": [],
   "execution_count": 21
  },
  {
   "metadata": {
    "ExecuteTime": {
     "end_time": "2025-06-20T09:08:15.901172Z",
     "start_time": "2025-06-20T09:08:15.897512Z"
    }
   },
   "cell_type": "code",
   "source": [
    "initial_gamma = np.pi\n",
    "initial_beta = np.pi/2\n",
    "init_params = [initial_gamma, initial_beta, initial_gamma, initial_beta]"
   ],
   "outputs": [],
   "execution_count": 22
  },
  {
   "cell_type": "code",
   "metadata": {
    "ExecuteTime": {
     "end_time": "2025-06-20T09:08:15.906539Z",
     "start_time": "2025-06-20T09:08:15.904712Z"
    }
   },
   "source": [
    "# import numpy as np\n",
    "# from qiskit.transpiler import generate_preset_pass_manager\n",
    "# from qiskit_ibm_runtime import QiskitRuntimeService, SamplerV2 as Sampler\n",
    "#\n",
    "# def run_qaoa(graph, p=3, max_iter=500, shots=1024):\n",
    "#\n",
    "#     global evaluation_count, iteration_count,qaoa_exec_time,simulation_time\n",
    "#     evaluation_count = 0\n",
    "#     iteration_count = 0\n",
    "#     qaoa_exec_time = 0\n",
    "#     simulation_time = 0\n",
    "#\n",
    "#     cost_hamiltonian = create_qubo_hamiltonian(graph)\n",
    "#\n",
    "#     quantum_circuit = QAOAAnsatz(cost_operator=cost_hamiltonian, reps=1)\n",
    "#     quantum_circuit.measure_all()\n",
    "#\n",
    "#     service_refresh = QiskitRuntimeService()\n",
    "#     backend_refresh = service_refresh.backend(\"ibm_sherbrooke\")\n",
    "#\n",
    "#     # n_qubits = graph.number_of_nodes()\n",
    "#     # backend = service.least_busy(\n",
    "#     #     operational=True, simulator=False, min_num_qubits=n_qubits\n",
    "#     # )\n",
    "#\n",
    "#     pm = generate_preset_pass_manager(backend=backend_refresh, optimization_level=1)\n",
    "#     isa_circuit = pm.run(quantum_circuit)\n",
    "#\n",
    "#     sampler = Sampler(backend_refresh)\n",
    "#     job = sampler.run([(isa_circuit, init_params)])\n",
    "#     job_result = job.result()\n",
    "#     estimated_time = job.usage_estimation\n",
    "#     real_execution_time_in_sec = job_result.metadata['execution']['execution_spans'].duration # duration in sec\n",
    "#     # pub_result = job_result[0]\n",
    "#     # print(f\" > First ten results: {pub_result.data.meas.get_bitstrings()[:10]}\")\n",
    "#\n",
    "#     return real_execution_time_in_sec, estimated_time\n"
   ],
   "outputs": [],
   "execution_count": 23
  },
  {
   "metadata": {
    "ExecuteTime": {
     "end_time": "2025-06-20T09:08:15.915930Z",
     "start_time": "2025-06-20T09:08:15.910329Z"
    }
   },
   "cell_type": "code",
   "source": [
    "import numpy as np\n",
    "from scipy.optimize import minimize\n",
    "from qiskit.circuit.library import QAOAAnsatz\n",
    "from qiskit.transpiler import generate_preset_pass_manager\n",
    "from qiskit_ibm_runtime import QiskitRuntimeService, SamplerV2 as Sampler, EstimatorV2 as Estimator\n",
    "from qiskit.quantum_info import Pauli, SparsePauliOp\n",
    "import time\n",
    "\n",
    "def run_qaoa(graph, p=1, max_iter=30, shots=512, num_colors=3):\n",
    "\n",
    "    global evaluation_count, iteration_count, qaoa_exec_time, simulation_time\n",
    "    evaluation_count = 0\n",
    "    iteration_count = 0\n",
    "    qaoa_exec_time = 0\n",
    "    simulation_time = 0\n",
    "\n",
    "    start_time = time.time()\n",
    "\n",
    "    # Create cost Hamiltonian for graph coloring\n",
    "    cost_hamiltonian = create_qubo_hamiltonian(graph, num_colors)\n",
    "\n",
    "    # Create QAOA ansatz\n",
    "    quantum_circuit = QAOAAnsatz(cost_operator=cost_hamiltonian, reps=p)\n",
    "    _backend = service.least_busy(\n",
    "        operational=True, simulator=False, min_num_qubits=graph.number_of_nodes(),\n",
    "    )\n",
    "    print(_backend)\n",
    "\n",
    "    # Transpile circuit and get the mapping\n",
    "    pm = generate_preset_pass_manager(backend=_backend, optimization_level=3, seed_transpiler=42)\n",
    "    isa_circuit = pm.run(quantum_circuit)\n",
    "\n",
    "    # Initialize estimator\n",
    "    estimator = Estimator(_backend)\n",
    "    estimator.options.resilience_level = 0\n",
    "    estimator.options.default_shots = 250\n",
    "\n",
    "    objective_func_vals = [] # Global variable\n",
    "    def cost_func_estimator(params, ansatz, hamiltonian, estimator):\n",
    "        isa_hamiltonian = hamiltonian.apply_layout(ansatz.layout)\n",
    "\n",
    "        pub = (ansatz, isa_hamiltonian, params)\n",
    "        job = estimator.run([pub])\n",
    "\n",
    "        results = job.result()[0]\n",
    "        cost = results.data.evs\n",
    "        objective_func_vals.append(cost)\n",
    "        return cost\n",
    "\n",
    "    # Initialize parameters randomly\n",
    "    num_params = quantum_circuit.num_parameters\n",
    "    initial_params = np.random.uniform(-np.pi/6, np.pi/6, num_params)\n",
    "\n",
    "    # Efficient optimization with strict limits\n",
    "    optimization_options = {\n",
    "        'maxiter': max_iter,\n",
    "        'catol': 1e-2,          # Relaxed convergence\n",
    "        'disp': False           # Reduce output\n",
    "    }\n",
    "    # Run classical optimization\n",
    "    result = minimize(\n",
    "        cost_func_estimator,\n",
    "        initial_params,\n",
    "        args=(isa_circuit, cost_hamiltonian, estimator),\n",
    "        method='COBYLA',\n",
    "        options=optimization_options\n",
    "    )\n",
    "\n",
    "    # For final measurement, use Sampler\n",
    "    sampler = Sampler(_backend)\n",
    "    optimal_circuit = isa_circuit.assign_parameters(result.x)\n",
    "    optimal_circuit.measure_all()\n",
    "\n",
    "    final_job = sampler.run([(optimal_circuit, None)])\n",
    "    final_result = final_job.result()\n",
    "\n",
    "    # Extract execution time from the final job\n",
    "    real_execution_time = final_result.metadata['execution']['execution_spans'].duration\n",
    "    # Get the best coloring from final measurements\n",
    "    # final_counts = final_result[0].data.meas.get_counts()\n",
    "    # best_bitstring = max(final_counts, key=final_counts.get)\n",
    "\n",
    "    return real_execution_time"
   ],
   "outputs": [],
   "execution_count": 24
  },
  {
   "cell_type": "code",
   "metadata": {
    "ExecuteTime": {
     "end_time": "2025-06-20T09:08:15.925097Z",
     "start_time": "2025-06-20T09:08:15.918343Z"
    }
   },
   "source": [
    "def dsatur_coloring(graph):\n",
    "    coloring = {}\n",
    "    saturation_degrees = {node: 0 for node in graph.nodes()}\n",
    "    available_colors = [True] * len(graph.nodes())\n",
    "    iterations = 0\n",
    "    while len(coloring) < len(graph.nodes()):\n",
    "        iterations += 1\n",
    "        uncolored_nodes = [node for node in graph.nodes() if node not in coloring]\n",
    "        max_saturation = -1\n",
    "        selected_node = None\n",
    "        for node in uncolored_nodes:\n",
    "            if saturation_degrees[node] > max_saturation:\n",
    "                max_saturation = saturation_degrees[node]\n",
    "                selected_node = node\n",
    "            elif saturation_degrees[node] == max_saturation:\n",
    "                if selected_node is None or graph.degree[node] > graph.degree[selected_node]:\n",
    "                    selected_node = node\n",
    "        neighbor_colors = {coloring[neighbor] for neighbor in graph.neighbors(selected_node) if neighbor in coloring}\n",
    "        for color in range(len(available_colors)):\n",
    "            if color not in neighbor_colors:\n",
    "                coloring[selected_node] = color\n",
    "                break\n",
    "        for neighbor in graph.neighbors(selected_node):\n",
    "            if neighbor not in coloring:\n",
    "                saturation_degrees[neighbor] += 1\n",
    "    return coloring, iterations"
   ],
   "outputs": [],
   "execution_count": 25
  },
  {
   "cell_type": "code",
   "metadata": {
    "ExecuteTime": {
     "end_time": "2025-06-20T09:08:15.934436Z",
     "start_time": "2025-06-20T09:08:15.932130Z"
    }
   },
   "source": [
    "def run_dsatur(graph):\n",
    "    start_time = time.time()\n",
    "    _, classical_iter = dsatur_coloring(graph)\n",
    "    classical_time = time.time() - start_time\n",
    "    return classical_time, classical_iter"
   ],
   "outputs": [],
   "execution_count": 26
  },
  {
   "cell_type": "code",
   "metadata": {
    "ExecuteTime": {
     "end_time": "2025-06-20T09:08:15.943574Z",
     "start_time": "2025-06-20T09:08:15.941207Z"
    }
   },
   "source": [
    "# Initialize lists to store the results\n",
    "real_quantum_times = []\n",
    "num_nodes_list = []"
   ],
   "outputs": [],
   "execution_count": 27
  },
  {
   "cell_type": "code",
   "metadata": {
    "jupyter": {
     "is_executing": true
    },
    "ExecuteTime": {
     "start_time": "2025-06-20T09:08:15.950963Z"
    }
   },
   "source": [
    "import logging\n",
    "\n",
    "# Configure logging\n",
    "logging.basicConfig(filename='graph_coloring_results.log', level=logging.INFO,\n",
    "                    format='%(asctime)s - %(message)s', filemode='w')  # 'w' to overwrite each time\n",
    "\n",
    "for num_nodes in range(7, 11):\n",
    "    G = generate_graph(num_nodes)\n",
    "    real_execution_time_in_sec = run_qaoa(G)\n",
    "\n",
    "    # Collect results\n",
    "    num_nodes_list.append(num_nodes)\n",
    "    real_quantum_times.append(real_execution_time_in_sec)\n"
   ],
   "outputs": [
    {
     "name": "stdout",
     "output_type": "stream",
     "text": [
      "<IBMBackend('ibm_brisbane')>\n"
     ]
    },
    {
     "name": "stderr",
     "output_type": "stream",
     "text": [
      "base_primitive._run:INFO:2025-06-20 10:08:25,143: Submitting job using options {'options': {'default_shots': 250}, 'version': 2, 'support_qiskit': True, 'resilience_level': 0}\n",
      "base_primitive._run:INFO:2025-06-20 10:12:02,400: Submitting job using options {'options': {'default_shots': 250}, 'version': 2, 'support_qiskit': True, 'resilience_level': 0}\n",
      "base_primitive._run:INFO:2025-06-20 10:14:13,453: Submitting job using options {'options': {'default_shots': 250}, 'version': 2, 'support_qiskit': True, 'resilience_level': 0}\n",
      "base_primitive._run:INFO:2025-06-20 10:15:03,625: Submitting job using options {'options': {'default_shots': 250}, 'version': 2, 'support_qiskit': True, 'resilience_level': 0}\n"
     ]
    }
   ],
   "execution_count": null
  },
  {
   "metadata": {
    "ExecuteTime": {
     "end_time": "2025-06-20T08:05:52.467622Z",
     "start_time": "2025-06-20T08:05:52.452230Z"
    }
   },
   "cell_type": "code",
   "source": [
    "# import logging\n",
    "# import threading\n",
    "# from concurrent.futures import ThreadPoolExecutor, as_completed\n",
    "#\n",
    "# # Configure logging\n",
    "# logging.basicConfig(filename='graph_coloring_results.log', level=logging.INFO,\n",
    "#                     format='%(asctime)s - %(message)s', filemode='w')  # 'w' to overwrite each time\n",
    "#\n",
    "# # Thread-safe result collection\n",
    "# results_lock = threading.Lock()\n",
    "#\n",
    "# def run_qaoa_for_node(num_nodes):\n",
    "#     \"\"\"Run QAOA for a single node count\"\"\"\n",
    "#     try:\n",
    "#         print(f\"Starting QAOA for {num_nodes} nodes...\")\n",
    "#         logging.info(f\"Starting QAOA for {num_nodes} nodes\")\n",
    "#\n",
    "#         G = generate_graph(num_nodes)\n",
    "#         print(f\"Generated graph for {num_nodes} nodes\")\n",
    "#\n",
    "#         real_execution_time_in_sec, estimated_time = run_qaoa(G)\n",
    "#         print(f\"QAOA completed for {num_nodes} nodes: {estimated_time:.2f}s\")\n",
    "#\n",
    "#         # Thread-safe result collection\n",
    "#         with results_lock:\n",
    "#             num_nodes_list.append(num_nodes)\n",
    "#             real_quantum_times.append(real_execution_time_in_sec)\n",
    "#             estimated_quantum_times.append(estimated_time)\n",
    "#\n",
    "#         logging.info(f\"Completed {num_nodes} nodes: {estimated_time:.2f}s\")\n",
    "#         return True\n",
    "#\n",
    "#     except Exception as e:\n",
    "#         error_msg = f\"Failed {num_nodes} nodes: {type(e).__name__}: {str(e)}\"\n",
    "#         print(error_msg)\n",
    "#         logging.error(error_msg)\n",
    "#         import traceback\n",
    "#         traceback.print_exc()  # Print full stack trace\n",
    "#         logging.error(f\"Full traceback for {num_nodes} nodes: {traceback.format_exc()}\")\n",
    "#         return False\n",
    "#\n",
    "# # Parallel execution with minimal changes\n",
    "# node_range = range(3, 5)  # Update range as needed\n",
    "# max_workers = 1  # Adjust based on your account limits\n",
    "#\n",
    "# print(f\"Starting parallel QAOA for nodes: {list(node_range)}\")\n",
    "# print(f\"Using {max_workers} parallel workers\")\n",
    "#\n",
    "# with ThreadPoolExecutor(max_workers=max_workers) as executor:\n",
    "#     # Submit all tasks\n",
    "#     futures = {executor.submit(run_qaoa_for_node, num_nodes): num_nodes for num_nodes in node_range}\n",
    "#\n",
    "#     # Wait for completion and log progress\n",
    "#     for future in as_completed(futures):\n",
    "#         num_nodes = futures[future]\n",
    "#         try:\n",
    "#             success = future.result()\n",
    "#             if success:\n",
    "#                 print(f\"✓ Node {num_nodes} completed successfully\")\n",
    "#             else:\n",
    "#                 print(f\"✗ Node {num_nodes} failed (check logs for details)\")\n",
    "#         except Exception as e:\n",
    "#             error_msg = f\"✗ Node {num_nodes} exception: {type(e).__name__}: {str(e)}\"\n",
    "#             print(error_msg)\n",
    "#             logging.error(error_msg)\n",
    "#\n",
    "# print(f\"Parallel execution complete. Results collected: {len(num_nodes_list)} out of {len(node_range)}\")"
   ],
   "outputs": [],
   "execution_count": 13
  },
  {
   "metadata": {
    "ExecuteTime": {
     "end_time": "2025-06-20T08:05:52.607175Z",
     "start_time": "2025-06-20T08:05:52.593853Z"
    }
   },
   "cell_type": "code",
   "source": [
    "import json\n",
    "\n",
    "experiment_data = {\"experiment_data\": {}}\n",
    "\n",
    "for i in range(len(num_nodes_list)):\n",
    "    num_nodes = str(num_nodes_list[i])\n",
    "\n",
    "    if num_nodes not in experiment_data[\"experiment_data\"]:\n",
    "        experiment_data[\"experiment_data\"][num_nodes] = {}\n",
    "\n",
    "    if num_nodes in experiment_data[\"experiment_data\"]:\n",
    "        experiment_data[\"experiment_data\"][num_nodes][\"real_quantum_times\"]=real_quantum_times[i]\n",
    "\n",
    "# Save to JSON file\n",
    "with open('experiment_data.json', 'w') as f:\n",
    "    json.dump(experiment_data, f, indent=2)\n",
    "\n",
    "print(\"Data organized and saved to experiment_data.json\")"
   ],
   "outputs": [
    {
     "name": "stdout",
     "output_type": "stream",
     "text": [
      "Data organized and saved to experiment_data.json\n"
     ]
    }
   ],
   "execution_count": 14
  },
  {
   "cell_type": "code",
   "metadata": {
    "ExecuteTime": {
     "end_time": "2025-06-20T09:05:03.926066Z",
     "start_time": "2025-06-20T09:05:03.731410Z"
    }
   },
   "source": [
    "# Plot the results\n",
    "plt.figure(figsize=(14, 7))\n",
    "\n",
    "# Plot execution times\n",
    "plt.subplot(1, 1, 1)\n",
    "# plt.plot(num_nodes_list, estimated_quantum_times, label='Quantum (QAOA)', marker='o')\n",
    "plt.plot(num_nodes_list, real_quantum_times, label='Classical (DSATUR)', marker='o')\n",
    "plt.xlabel('Number of Nodes')\n",
    "plt.ylabel('Execution Time (seconds)')\n",
    "plt.title('Execution Time vs. Number of Nodes')\n",
    "plt.legend()\n",
    "\n",
    "plt.tight_layout()\n",
    "plt.show()"
   ],
   "outputs": [
    {
     "data": {
      "text/plain": [
       "<Figure size 1400x700 with 1 Axes>"
      ],
      "image/png": "[encoded data removed]"
     },
     "metadata": {},
     "output_type": "display_data"
    }
   ],
   "execution_count": 16
  },
  {
   "cell_type": "code",
   "metadata": {
    "ExecuteTime": {
     "end_time": "2025-06-20T08:05:53.034714Z",
     "start_time": "2025-06-20T01:48:59.314891Z"
    }
   },
   "source": [],
   "outputs": [],
   "execution_count": null
  }
 ],
 "metadata": {
  "kernelspec": {
   "display_name": "Python 3",
   "language": "python",
   "name": "python3"
  },
  "language_info": {
   "codemirror_mode": {
    "name": "ipython",
    "version": 3
   },
   "file_extension": ".py",
   "mimetype": "text/x-python",
   "name": "python",
   "nbconvert_exporter": "python",
   "pygments_lexer": "ipython3",
   "version": "3.11.9"
  }
 },
 "nbformat": 4,
 "nbformat_minor": 2
}
