{
 "cells": [
  {
   "cell_type": "code",
   "execution_count": 1,
   "metadata": {},
   "outputs": [],
   "source": [
    "from qiskit_ibm_runtime import QiskitRuntimeService\n",
    "import numpy as np\n",
    "import networkx as nx\n",
    "import matplotlib.pyplot as plt\n",
    "from qiskit import QuantumCircuit\n",
    "from qiskit_aer.primitives import Sampler\n",
    "from qiskit_algorithms import QAOA\n",
    "from qiskit_algorithms.optimizers import COBYLA\n",
    "from qiskit_aer import AerSimulator\n",
    "from qiskit.quantum_info import SparsePauliOp, Pauli\n",
    "from qiskit.transpiler.preset_passmanagers import generate_preset_pass_manager\n",
    "from qiskit_ibm_runtime import EstimatorV2 as Estimator\n",
    "from qiskit_ibm_runtime import EstimatorOptions,Session\n",
    "import time"
   ]
  },
  {
   "cell_type": "code",
   "execution_count": 2,
   "metadata": {},
   "outputs": [],
   "source": [
    "# Load saved credentials\n",
    "service = QiskitRuntimeService()"
   ]
  },
  {
   "cell_type": "code",
   "execution_count": 3,
   "metadata": {},
   "outputs": [],
   "source": [
    "def generate_graph(num_nodes, edge_prob=0.5):\n",
    "    return nx.erdos_renyi_graph(num_nodes, edge_prob)"
   ]
  },
  {
   "cell_type": "code",
   "execution_count": null,
   "metadata": {},
   "outputs": [],
   "source": [
    "# QUBO conversion and Hamiltonian construction\n",
    "def create_qubo_hamiltonian(graph, num_colors):\n",
    "    num_nodes = graph.number_of_nodes()\n",
    "    Q = np.zeros((num_nodes * num_colors, num_nodes * num_colors))\n",
    "    for i in range(num_nodes):\n",
    "        for c in range(num_colors):\n",
    "            Q[i * num_colors + c, i * num_colors + c] -= 1\n",
    "            for cp in range(c + 1, num_colors):\n",
    "                Q[i * num_colors + c, i * num_colors + cp] += 2\n",
    "    for i, j in graph.edges():\n",
    "        for c in range(num_colors):\n",
    "            Q[i * num_colors + c, j * num_colors + c] += 1\n",
    "    Q = 0.5 * (Q + Q.T)\n",
    "    linear = np.diag(Q)\n",
    "    quadratic = Q - np.diag(linear)\n",
    "    h = {i: linear[i] for i in range(len(linear))}\n",
    "    J = {(i, j): quadratic[i, j] for i in range(len(linear)) for j in range(i + 1, len(linear)) if quadratic[i, j] != 0}\n",
    "    \n",
    "    pauli_list = []\n",
    "    for (i, j), weight in J.items():\n",
    "        z_p = np.zeros(len(linear), dtype=bool)\n",
    "        x_p = np.zeros(len(linear), dtype=bool)\n",
    "        z_p[i] = True\n",
    "        z_p[j] = True\n",
    "        pauli_list.append((Pauli((z_p, x_p)), weight))\n",
    "    for i, weight in h.items():\n",
    "        z_p = np.zeros(len(linear), dtype=bool)\n",
    "        x_p = np.zeros(len(linear), dtype=bool)\n",
    "        z_p[i] = True\n",
    "        pauli_list.append((Pauli((z_p, x_p)), weight))\n",
    "    hamiltonian = sum([SparsePauliOp.from_list([(pauli.to_label(), weight)]) for pauli, weight in pauli_list])\n",
    "    \n",
    "    return hamiltonian"
   ]
  },
  {
   "cell_type": "code",
   "execution_count": 5,
   "metadata": {},
   "outputs": [],
   "source": [
    "# Callback to count evaluations and iterations\n",
    "evaluation_count = 0\n",
    "iteration_count = 0\n",
    "\n",
    "def optimizer_callback(eval_count):\n",
    "    global evaluation_count, iteration_count\n",
    "    evaluation_count = eval_count\n",
    "    iteration_count += 1"
   ]
  },
  {
   "cell_type": "code",
   "execution_count": 6,
   "metadata": {},
   "outputs": [],
   "source": [
    "from collections import defaultdict\n",
    "\n",
    "qaoa_total_sample_time_per_node = defaultdict(float)\n"
   ]
  },
  {
   "cell_type": "code",
   "execution_count": 7,
   "metadata": {},
   "outputs": [],
   "source": [
    "# Callback to count evaluations and iterations\n",
    "evaluation_count = 0\n",
    "iteration_count = 0\n",
    "qaoa_exec_time = 0\n",
    "qaoa_times1=[]\n",
    "iteration_times =[]\n",
    "simulation_time = 0\n",
    "optimiser_result = []\n",
    "def optimizer_callback(eval_count,paramters,mean,metadata):\n",
    "    global evaluation_count, iteration_count,qaoa_exec_time,simulation_time\n",
    "    iteration_times.append((metadata['simulator_metadata']['sample_measure_time']))\n",
    "    qaoa_exec_time+=(metadata['simulator_metadata']['sample_measure_time'])\n",
    "    iteration_count += 1\n",
    "    simulation_time+=(metadata['simulator_metadata']['time_taken'])\n",
    "    # print(f\"Metadata: {metadata}\")"
   ]
  },
  {
   "cell_type": "code",
   "execution_count": 8,
   "metadata": {},
   "outputs": [],
   "source": [
    "def is_valid_coloring(graph, coloring):\n",
    "    \"\"\"Return True if no adjacent vertices share the same color and all nodes are assigned valid colors.\"\"\"\n",
    "    for u, v in graph.edges():\n",
    "        if coloring[u] == -1 or coloring[v] == -1:\n",
    "            return False\n",
    "        if coloring[u] == coloring[v]:\n",
    "            return False\n",
    "    return True\n"
   ]
  },
  {
   "cell_type": "code",
   "execution_count": 9,
   "metadata": {},
   "outputs": [],
   "source": [
    "def decode_solution(result, num_colors):\n",
    "    \"\"\"Convert QAOA result to color assignments.\"\"\"\n",
    "    optimal_bitstring = max(result.eigenstate.items(), key=lambda x: x[1])[0]\n",
    "    n_vertices = len(optimal_bitstring) // num_colors\n",
    "    coloring = []\n",
    "    \n",
    "    for i in range(n_vertices):\n",
    "        # Extract color assignment for vertex i\n",
    "        color_bits = optimal_bitstring[i*num_colors : (i+1)*num_colors]\n",
    "        color = color_bits.index('1')  # Find which color is assigned\n",
    "        coloring.append(color)\n",
    "    \n",
    "    return coloring\n"
   ]
  },
  {
   "cell_type": "code",
   "execution_count": 46,
   "metadata": {},
   "outputs": [],
   "source": [
    "def run_qaoa(graph,hamiltonian, p=3, max_iter=500, shots=1024):\n",
    "    global evaluation_count, iteration_count,qaoa_exec_time,simulation_time\n",
    "    evaluation_count = 0\n",
    "    iteration_count = 0\n",
    "    qaoa_exec_time = 0\n",
    "    simulation_time = 0 \n",
    "\n",
    "    optimizer = COBYLA(maxiter=max_iter, tol=1e-6, disp=True)\n",
    "    \n",
    "    base_sampler = Sampler(backend_options={\"method\": \"automatic\", \"device\": \"CPU\"},\n",
    "        run_options={\"shots\": 1024, \"seed\": 42})\n",
    "    \n",
    "    qaoa = QAOA(optimizer=optimizer, reps=p, sampler=base_sampler, callback=optimizer_callback)\n",
    "    \n",
    "    # Measure the time for the QAOA execution\n",
    "    result = qaoa.compute_minimum_eigenvalue(hamiltonian)\n",
    "    # Extract optimal solution\n",
    "    optimal_state_int = max(result.eigenstate.items(), key=lambda x: x[1])[0]\n",
    "    num_qubits = hamiltonian.num_qubits\n",
    "    \n",
    "    # Convert integer to bitstring\n",
    "    bitstring = bin(optimal_state_int)[2:].zfill(num_qubits)[::-1]\n",
    "    optimal_solution = np.array([int(bit) for bit in bitstring])\n",
    "\n",
    "    \n",
    "    return qaoa_exec_time,evaluation_count, iteration_count, result, hamiltonian, qaoa,simulation_time,optimal_solution  # Create QAOA instance"
   ]
  },
  {
   "cell_type": "code",
   "execution_count": 11,
   "metadata": {},
   "outputs": [],
   "source": [
    "def decode_binary_coloring(bitstring, num_vertices, num_colors):\n",
    "    \"\"\"\n",
    "    Decodes a binary-encoded QAOA bitstring into color assignments for each vertex.\n",
    "    Returns:\n",
    "        coloring (list): List of assigned color indices for each vertex.\n",
    "        valid (bool): True if all assignments are valid, False otherwise.\n",
    "    \"\"\"\n",
    "    bits_per_node = int(np.ceil(np.log2(num_colors)))\n",
    "    coloring = []\n",
    "    valid = True\n",
    "\n",
    "    for v in range(num_vertices):\n",
    "        start = v * bits_per_node\n",
    "        end = start + bits_per_node\n",
    "        color_bits = bitstring[start:end]\n",
    "        color_idx = int(color_bits, 2)\n",
    "        if color_idx >= num_colors:\n",
    "            coloring.append(-1)  # Invalid color assignment\n",
    "            valid = False\n",
    "        else:\n",
    "            coloring.append(color_idx)\n",
    "    return coloring, valid\n"
   ]
  },
  {
   "cell_type": "code",
   "execution_count": null,
   "metadata": {},
   "outputs": [],
   "source": [
    "def run_qaoa_with_retry(graph, max_colors=10, p=3, max_iter=500, shots=1024):\n",
    "    num_vertices = len(graph.nodes)\n",
    "    iter = 0\n",
    "    for num_colors in range(2, max_colors + 1):\n",
    "        # Create Hamiltonian with current color count\n",
    "        hamiltonian = create_qubo_hamiltonian(graph, num_colors)\n",
    "        \n",
    "        # Run QAOA\n",
    "        qaoa_time, eval_count, iter_count, result, hamiltonian, qaoa, sim_time, optimal_result = run_qaoa(\n",
    "            graph,hamiltonian, p, max_iter, shots\n",
    "        )\n",
    "        \n",
    "        # Get the most probable measurement bitstring (as string, little-endian)\n",
    "        optimal_state_int = max(result.eigenstate.items(), key=lambda x: x[1])[0]\n",
    "        bits_per_node = int(np.ceil(np.log2(num_colors)))\n",
    "        total_bits = num_vertices * bits_per_node\n",
    "        bitstring = bin(optimal_state_int)[2:].zfill(total_bits)[::-1]\n",
    "        print(f\"bitsting for num node {num_vertices} is {bitstring}\")\n",
    "        \n",
    "        # Decode coloring and check validity\n",
    "        coloring, valid = decode_binary_coloring(bitstring, num_vertices, num_colors)\n",
    "        \n",
    "        # Check for graph coloring conflicts and invalid assignments\n",
    "        if valid and is_valid_coloring(graph, coloring):\n",
    "            print(iter)\n",
    "            return num_colors, coloring, result, iter\n",
    "        else:\n",
    "            iter+=1\n",
    "        \n",
    "        # Optionally: print diagnostic info\n",
    "        # print(f\"Attempt with {num_colors} colors failed. Coloring: {coloring}, Valid: {valid}\")\n",
    "    \n",
    "    raise ValueError(f\"No valid coloring found with ≤ {max_colors} colors\")\n"
   ]
  },
  {
   "cell_type": "code",
   "execution_count": 37,
   "metadata": {},
   "outputs": [],
   "source": [
    "def dsatur_coloring(graph):\n",
    "    coloring = {}\n",
    "    saturation_degrees = {node: 0 for node in graph.nodes()}\n",
    "    available_colors = [True] * len(graph.nodes())\n",
    "    iterations = 0\n",
    "    while len(coloring) < len(graph.nodes()):\n",
    "        iterations += 1\n",
    "        uncolored_nodes = [node for node in graph.nodes() if node not in coloring]\n",
    "        max_saturation = -1\n",
    "        selected_node = None\n",
    "        for node in uncolored_nodes:\n",
    "            if saturation_degrees[node] > max_saturation:\n",
    "                max_saturation = saturation_degrees[node]\n",
    "                selected_node = node\n",
    "            elif saturation_degrees[node] == max_saturation:\n",
    "                if selected_node is None or graph.degree[node] > graph.degree[selected_node]:\n",
    "                    selected_node = node\n",
    "        neighbor_colors = {coloring[neighbor] for neighbor in graph.neighbors(selected_node) if neighbor in coloring}\n",
    "        for color in range(len(available_colors)):\n",
    "            if color not in neighbor_colors:\n",
    "                coloring[selected_node] = color\n",
    "                break\n",
    "        for neighbor in graph.neighbors(selected_node):\n",
    "            if neighbor not in coloring:\n",
    "                saturation_degrees[neighbor] += 1\n",
    "    return coloring, iterations"
   ]
  },
  {
   "cell_type": "code",
   "execution_count": 14,
   "metadata": {},
   "outputs": [],
   "source": [
    "def run_dsatur(graph):\n",
    "    start_time = time.time()\n",
    "    _, classical_iter = dsatur_coloring(graph)\n",
    "    classical_time = time.time() - start_time\n",
    "    return classical_time, classical_iter"
   ]
  },
  {
   "cell_type": "code",
   "execution_count": 15,
   "metadata": {},
   "outputs": [],
   "source": [
    "# Initialize lists to store the results\n",
    "num_nodes_list = []\n",
    "qaoa_times = []\n",
    "qaoa_iterations = []\n",
    "qaoa_evaluations = []\n",
    "classical_times = []\n",
    "classical_iterations = []\n",
    "results = []\n",
    "hamiltonians = []\n",
    "simulation_times = []"
   ]
  },
  {
   "cell_type": "code",
   "execution_count": 16,
   "metadata": {},
   "outputs": [
    {
     "name": "stdout",
     "output_type": "stream",
     "text": [
      "optimal_solution is [0 1 1 0 0 0 1 0 0] for number of nodes 3\n",
      "optimal_solution is [0 0 1 1 0 0 0 0 1 0 1 0] for number of nodes 4\n",
      "optimal_solution is [0 1 0 1 0 0 1 0 1 0 0 1 0 1 0] for number of nodes 5\n"
     ]
    }
   ],
   "source": [
    "import logging\n",
    "\n",
    "# Configure logging\n",
    "logging.basicConfig(filename='graph_coloring_results.log', level=logging.INFO,\n",
    "                    format='%(asctime)s - %(message)s', filemode='w')  # 'w' to overwrite each time\n",
    "\n",
    "# Run experiments and log\n",
    "# for num_nodes in range(3, 10): \n",
    "#     G = generate_graph(num_nodes)\n",
    "#     pos = nx.spring_layout(G)\n",
    "#     qaoa_time, qaoa_eval, qaoa_iter = run_qaoa(G)\n",
    "#     # classical_time, classical_iter = run_dsatur(G)\n",
    "    \n",
    "#     # Collect results\n",
    "#     num_nodes_list.append(num_nodes)\n",
    "#     qaoa_iterations.append(qaoa_iter)\n",
    "#     qaoa_evaluations.append(qaoa_eval)\n",
    "    # classical_times.append(classical_time)\n",
    "    # classical_iterations.append(classical_iter)\n",
    "\n",
    "    # Generate and run algorithms on graphs with increasing sizes\n",
    "for num_nodes in range(3, 6): \n",
    "    G = generate_graph(num_nodes)\n",
    "    qaoa_exec_time, qaoa_eval, qaoa_iter, result, hamiltonian, qaoa,simulation_time,optimal_solution = run_qaoa(G)\n",
    "    \n",
    "    # Collect results\n",
    "    num_nodes_list.append(num_nodes)\n",
    "    qaoa_times.append(qaoa_exec_time)\n",
    "    qaoa_iterations.append(qaoa_iter)\n",
    "    qaoa_evaluations.append(qaoa_eval)\n",
    "    results.append(result)\n",
    "    hamiltonians.append(hamiltonian)\n",
    "    simulation_times.append(simulation_time)\n",
    "    \n",
    "    # Log results\n",
    "    logging.info(f\"Nodes: {num_nodes}  \"\n",
    "                 f\"QAOA sim Time - Time: {qaoa_exec_time}seconds, Iter: {qaoa_iterations}  \"\n",
    "                 f\"QAOA results: {result}\")\n",
    "    print(f\"optimal_solution is {optimal_solution} for number of nodes {num_nodes}\")\n",
    "\n",
    "\n"
   ]
  },
  {
   "cell_type": "code",
   "execution_count": 17,
   "metadata": {},
   "outputs": [],
   "source": [
    "# # Plot the results\n",
    "# plt.figure(figsize=(14, 7))\n",
    "\n",
    "# # Plot execution times\n",
    "# plt.subplot(1, 3, 1)\n",
    "# plt.plot(num_nodes_list, qaoa_times, label='Quantum (QAOA)', marker='o')\n",
    "# # plt.plot(num_nodes_list, classical_times, label='Classical (DSATUR)', marker='o')\n",
    "# plt.xlabel('Number of Nodes')\n",
    "# plt.ylabel('Execution Time (seconds)')\n",
    "# plt.title('Execution Time vs. Number of Nodes')\n",
    "# plt.legend()\n",
    "\n",
    "# # Plot number of iterations\n",
    "# plt.subplot(1, 3, 2)\n",
    "# plt.plot(num_nodes_list, qaoa_iterations, label='Quantum (QAOA)', marker='o')\n",
    "# plt.plot(num_nodes_list, classical_iterations, label='Classical (DSATUR)', marker='o')\n",
    "# plt.xlabel('Number of Nodes')\n",
    "# plt.ylabel('Number of Iterations')\n",
    "# plt.title('Number of Iterations vs. Number of Nodes')\n",
    "# plt.legend()\n",
    "\n",
    "# # Plot evaluation counts\n",
    "# plt.subplot(1, 3, 3)\n",
    "# plt.plot(num_nodes_list, qaoa_evaluations, label='Quantum (QAOA)', marker='o')\n",
    "# plt.xlabel('Number of Nodes')\n",
    "# plt.ylabel('Number of Evaluations')\n",
    "# plt.title('Number of Evaluations vs. Number of Nodes')\n",
    "# plt.legend()\n",
    "\n",
    "# plt.tight_layout()\n",
    "# plt.show()"
   ]
  },
  {
   "cell_type": "code",
   "execution_count": 18,
   "metadata": {},
   "outputs": [],
   "source": [
    "import time\n",
    "import matplotlib.pyplot as plt\n",
    "import networkx as nx\n",
    "\n",
    "def plot_coloring(graph, coloring, num_colors):\n",
    "    pos = nx.spring_layout(graph)\n",
    "    # Use the modern colormap API for matplotlib\n",
    "    cmap = plt.get_cmap('tab20', num_colors)\n",
    "    node_colors = [cmap(color) if color != -1 else (0.8, 0.8, 0.8) for color in coloring]  # Gray for invalid\n",
    "    nx.draw(graph, pos, with_labels=True, node_color=node_colors, node_size=500, font_color='white')\n",
    "    plt.title(f'Graph Coloring with {num_colors} colors')\n",
    "    plt.show()"
   ]
  },
  {
   "cell_type": "code",
   "execution_count": 19,
   "metadata": {},
   "outputs": [],
   "source": [
    "def remap_colors(coloring):\n",
    "    \"\"\"Remap color indices to contiguous integers starting from 0.\"\"\"\n",
    "    unique_colors = sorted(set(coloring) - {-1})\n",
    "    color_map = {color: idx for idx, color in enumerate(unique_colors)}\n",
    "    remapped = [color_map[c] if c != -1 else -1 for c in coloring]\n",
    "    return remapped, len(unique_colors)"
   ]
  },
  {
   "cell_type": "code",
   "execution_count": 20,
   "metadata": {},
   "outputs": [],
   "source": [
    "def plot_coloring(graph, coloring, num_colors):\n",
    "    import networkx as nx\n",
    "    pos = nx.spring_layout(graph)\n",
    "    cmap = plt.get_cmap('tab20', num_colors)\n",
    "    node_colors = [cmap(color) if color != -1 else (0.8, 0.8, 0.8) for color in coloring]\n",
    "    nx.draw(graph, pos, with_labels=True, node_color=node_colors, node_size=500, font_color='white')\n",
    "    plt.title(f'Graph Coloring with {num_colors} colors')\n",
    "    plt.show()"
   ]
  },
  {
   "cell_type": "code",
   "execution_count": 21,
   "metadata": {},
   "outputs": [],
   "source": [
    "import networkx as nx\n",
    "from collections import deque\n",
    "\n",
    "def edge_bfs_depth(graph, edge):\n",
    "    \"\"\"Compute BFS depth starting from an edge (as a tuple of nodes).\"\"\"\n",
    "    visited_edges = set()\n",
    "    queue = deque([(edge, 0)])\n",
    "    max_depth = 0\n",
    "    while queue:\n",
    "        (u, v), depth = queue.popleft()\n",
    "        if (u, v) in visited_edges or (v, u) in visited_edges:\n",
    "            continue\n",
    "        visited_edges.add((u, v))\n",
    "        max_depth = max(max_depth, depth)\n",
    "        # Explore all edges adjacent to u or v\n",
    "        for neighbor in set(graph.neighbors(u)).union(graph.neighbors(v)):\n",
    "            if neighbor != u and neighbor != v:\n",
    "                for node in (u, v):\n",
    "                    if graph.has_edge(node, neighbor):\n",
    "                        queue.append(((node, neighbor), depth + 1))\n",
    "    return max_depth"
   ]
  },
  {
   "cell_type": "code",
   "execution_count": 22,
   "metadata": {},
   "outputs": [],
   "source": [
    "def compute_c_depth(graph):\n",
    "    \"\"\"Compute the covering depth (c-depth) for the graph.\"\"\"\n",
    "    max_bfs_depth = 0\n",
    "    for edge in graph.edges():\n",
    "        depth = edge_bfs_depth(graph, edge)\n",
    "        max_bfs_depth = max(max_bfs_depth, depth)\n",
    "    return max_bfs_depth"
   ]
  },
  {
   "cell_type": "code",
   "execution_count": null,
   "metadata": {},
   "outputs": [],
   "source": [
    "import json\n",
    "def sweep_qaoa_p_levels(graph, max_colors=10, max_iter=500, shots=1024, p_max_extra=2):\n",
    "    results = []\n",
    "\n",
    "    logging.basicConfig(\n",
    "    level=logging.INFO,\n",
    "    filename='qaoa_results.log',\n",
    "    filemode='a',  # append mode\n",
    "    format='%(asctime)s - %(levelname)s - %(message)s'\n",
    "    )\n",
    "\n",
    "    # # Automatically determine p-level based on c-depth\n",
    "    # c_depth = compute_c_depth(graph)\n",
    "    # # Optionally, sweep a small range around c-depth\n",
    "    # p_values = list(range(max(1, c_depth-1), c_depth + p_max_extra + 1))\n",
    "    # print(f\"Graph c-depth: {c_depth}. Sweeping p in {p_values}\")\n",
    "\n",
    "    # for p in p_values:\n",
    "    p=3\n",
    "    print(f\"\\nRunning QAOA with p={p}...\")\n",
    "    start_time = time.perf_counter()\n",
    "    # try:\n",
    "    num_colors, coloring, result,iter = run_qaoa_with_retry(\n",
    "        graph, max_colors=max_colors, p=p, max_iter=max_iter, shots=shots\n",
    "    )\n",
    "    end_time = time.perf_counter()\n",
    "    total_time = end_time - start_time\n",
    "\n",
    "    remapped_coloring, actual_colors_used = remap_colors(coloring)\n",
    "\n",
    "    print(f\"Total time: {total_time:.4f} s\")\n",
    "    print(f\"p-level: {p}\")\n",
    "    print(f\"Number of colors allowed: {num_colors}\")\n",
    "    print(f\"Number of colors actually used: {actual_colors_used}\")\n",
    "    print(f\"Number of iterations: {iter}\")\n",
    "    print(f\"Coloring (remapped): {remapped_coloring}\")\n",
    "\n",
    "    results.append({\n",
    "        'p': p,\n",
    "        'num_colors_allowed': num_colors,\n",
    "        'num_colors_used': actual_colors_used,\n",
    "        'coloring': remapped_coloring,\n",
    "        'runtime': total_time,\n",
    "        'result': result,\n",
    "        'iterations': iter\n",
    "    })\n",
    "\n",
    "    # Plot the solution for each p\n",
    "    plot_coloring(graph, remapped_coloring, actual_colors_used)\n",
    "\n",
    "    # except ValueError as e:\n",
    "    #     end_time = time.perf_counter()\n",
    "    #     total_time = end_time - start_time\n",
    "    #     print(f\"Failed for p={p}: {e} (Time: {total_time:.4f} s)\")\n",
    "    #     results.append({\n",
    "    #         'p': p,\n",
    "    #         'error': str(e),\n",
    "    #         'runtime': total_time\n",
    "    #     })\n",
    "    logging.info(\"QAOA run result: %s\", json.dumps(results, default=str))\n",
    "    return results\n"
   ]
  },
  {
   "cell_type": "code",
   "execution_count": 45,
   "metadata": {},
   "outputs": [
    {
     "name": "stdout",
     "output_type": "stream",
     "text": [
      "\n",
      "Running QAOA with p=3...\n",
      "bitsting for num node 3 is 00110001\n",
      "0\n",
      "Total time: 1.6011 s\n",
      "p-level: 3\n",
      "Number of colors allowed: 2\n",
      "Number of colors actually used: 2\n",
      "Number of iterations: 0\n",
      "Coloring (remapped): [0, 0, 1]\n"
     ]
    },
    {
     "data": {
      "image/png": "[encoded data removed]",
      "text/plain": [
       "<Figure size 640x480 with 1 Axes>"
      ]
     },
     "metadata": {},
     "output_type": "display_data"
    },
    {
     "name": "stdout",
     "output_type": "stream",
     "text": [
      "\n",
      "Running QAOA with p=3...\n",
      "bitsting for num node 4 is 0010101\n",
      "bitsting for num node 4 is 0100100101\n",
      "1\n",
      "Total time: 9.5869 s\n",
      "p-level: 3\n",
      "Number of colors allowed: 3\n",
      "Number of colors actually used: 3\n",
      "Number of iterations: 1\n",
      "Coloring (remapped): [1, 0, 2, 1]\n"
     ]
    },
    {
     "data": {
      "image/png": "[encoded data removed]",
      "text/plain": [
       "<Figure size 640x480 with 1 Axes>"
      ]
     },
     "metadata": {},
     "output_type": "display_data"
    },
    {
     "name": "stdout",
     "output_type": "stream",
     "text": [
      "\n",
      "Running QAOA with p=3...\n",
      "bitsting for num node 5 is 00100111011\n",
      "bitsting for num node 5 is 10101110010111\n",
      "bitsting for num node 5 is 111001100001\n",
      "2\n",
      "Total time: 20.3515 s\n",
      "p-level: 3\n",
      "Number of colors allowed: 4\n",
      "Number of colors actually used: 4\n",
      "Number of iterations: 2\n",
      "Coloring (remapped): [3, 2, 1, 2, 0]\n"
     ]
    },
    {
     "data": {
      "image/png": "[encoded data removed]",
      "text/plain": [
       "<Figure size 640x480 with 1 Axes>"
      ]
     },
     "metadata": {},
     "output_type": "display_data"
    },
    {
     "name": "stdout",
     "output_type": "stream",
     "text": [
      "\n",
      "Running QAOA with p=3...\n",
      "bitsting for num node 6 is 01010010000100101\n",
      "bitsting for num node 6 is 011110010100111001\n",
      "bitsting for num node 6 is 101011010001101\n",
      "bitsting for num node 6 is 100000101010101001\n",
      "bitsting for num node 6 is 001100100010100011\n",
      "bitsting for num node 6 is 010010000110100111\n",
      "bitsting for num node 6 is 001110011010101001\n",
      "6\n",
      "Total time: 77.9535 s\n",
      "p-level: 3\n",
      "Number of colors allowed: 8\n",
      "Number of colors actually used: 5\n",
      "Number of iterations: 6\n",
      "Coloring (remapped): [0, 4, 2, 1, 3, 0]\n"
     ]
    },
    {
     "data": {
      "image/png": "[encoded data removed]",
      "text/plain": [
       "<Figure size 640x480 with 1 Axes>"
      ]
     },
     "metadata": {},
     "output_type": "display_data"
    },
    {
     "name": "stdout",
     "output_type": "stream",
     "text": [
      "\n",
      "Running QAOA with p=3...\n",
      "bitsting for num node 7 is 010001100100010100001\n",
      "bitsting for num node 7 is 010111101001001110001\n",
      "bitsting for num node 7 is 1101010111001011111\n",
      "bitsting for num node 7 is 110011110111000100001\n",
      "bitsting for num node 7 is 110100010110000000101\n",
      "bitsting for num node 7 is 010100001000111011001\n",
      "bitsting for num node 7 is 000100111010101000010\n"
     ]
    },
    {
     "ename": "ValueError",
     "evalue": "No valid coloring found with ≤ 8 colors",
     "output_type": "error",
     "traceback": [
      "\u001b[1;31m---------------------------------------------------------------------------\u001b[0m",
      "\u001b[1;31mValueError\u001b[0m                                Traceback (most recent call last)",
      "Cell \u001b[1;32mIn[45], line 3\u001b[0m\n\u001b[0;32m      1\u001b[0m \u001b[38;5;28;01mfor\u001b[39;00m num_nodes \u001b[38;5;129;01min\u001b[39;00m \u001b[38;5;28mrange\u001b[39m(\u001b[38;5;241m3\u001b[39m, \u001b[38;5;241m8\u001b[39m):\n\u001b[0;32m      2\u001b[0m     G \u001b[38;5;241m=\u001b[39m generate_graph(num_nodes\u001b[38;5;241m=\u001b[39mnum_nodes)\n\u001b[1;32m----> 3\u001b[0m     results \u001b[38;5;241m=\u001b[39m \u001b[43msweep_qaoa_p_levels\u001b[49m\u001b[43m(\u001b[49m\u001b[43mG\u001b[49m\u001b[43m,\u001b[49m\u001b[43m \u001b[49m\u001b[43mmax_colors\u001b[49m\u001b[38;5;241;43m=\u001b[39;49m\u001b[38;5;241;43m8\u001b[39;49m\u001b[43m,\u001b[49m\u001b[43m \u001b[49m\u001b[43mmax_iter\u001b[49m\u001b[38;5;241;43m=\u001b[39;49m\u001b[38;5;241;43m500\u001b[39;49m\u001b[43m,\u001b[49m\u001b[43m \u001b[49m\u001b[43mshots\u001b[49m\u001b[38;5;241;43m=\u001b[39;49m\u001b[38;5;241;43m1024\u001b[39;49m\u001b[43m)\u001b[49m\n",
      "Cell \u001b[1;32mIn[44], line 23\u001b[0m, in \u001b[0;36msweep_qaoa_p_levels\u001b[1;34m(graph, max_colors, max_iter, shots, p_max_extra)\u001b[0m\n\u001b[0;32m     21\u001b[0m start_time \u001b[38;5;241m=\u001b[39m time\u001b[38;5;241m.\u001b[39mperf_counter()\n\u001b[0;32m     22\u001b[0m \u001b[38;5;66;03m# try:\u001b[39;00m\n\u001b[1;32m---> 23\u001b[0m num_colors, coloring, result,\u001b[38;5;28miter\u001b[39m \u001b[38;5;241m=\u001b[39m \u001b[43mrun_qaoa_with_retry\u001b[49m\u001b[43m(\u001b[49m\n\u001b[0;32m     24\u001b[0m \u001b[43m    \u001b[49m\u001b[43mgraph\u001b[49m\u001b[43m,\u001b[49m\u001b[43m \u001b[49m\u001b[43mmax_colors\u001b[49m\u001b[38;5;241;43m=\u001b[39;49m\u001b[43mmax_colors\u001b[49m\u001b[43m,\u001b[49m\u001b[43m \u001b[49m\u001b[43mp\u001b[49m\u001b[38;5;241;43m=\u001b[39;49m\u001b[43mp\u001b[49m\u001b[43m,\u001b[49m\u001b[43m \u001b[49m\u001b[43mmax_iter\u001b[49m\u001b[38;5;241;43m=\u001b[39;49m\u001b[43mmax_iter\u001b[49m\u001b[43m,\u001b[49m\u001b[43m \u001b[49m\u001b[43mshots\u001b[49m\u001b[38;5;241;43m=\u001b[39;49m\u001b[43mshots\u001b[49m\n\u001b[0;32m     25\u001b[0m \u001b[43m\u001b[49m\u001b[43m)\u001b[49m\n\u001b[0;32m     26\u001b[0m end_time \u001b[38;5;241m=\u001b[39m time\u001b[38;5;241m.\u001b[39mperf_counter()\n\u001b[0;32m     27\u001b[0m total_time \u001b[38;5;241m=\u001b[39m end_time \u001b[38;5;241m-\u001b[39m start_time\n",
      "Cell \u001b[1;32mIn[36], line 33\u001b[0m, in \u001b[0;36mrun_qaoa_with_retry\u001b[1;34m(graph, max_colors, p, max_iter, shots)\u001b[0m\n\u001b[0;32m     28\u001b[0m         \u001b[38;5;28miter\u001b[39m\u001b[38;5;241m+\u001b[39m\u001b[38;5;241m=\u001b[39m\u001b[38;5;241m1\u001b[39m\n\u001b[0;32m     30\u001b[0m     \u001b[38;5;66;03m# Optionally: print diagnostic info\u001b[39;00m\n\u001b[0;32m     31\u001b[0m     \u001b[38;5;66;03m# print(f\"Attempt with {num_colors} colors failed. Coloring: {coloring}, Valid: {valid}\")\u001b[39;00m\n\u001b[1;32m---> 33\u001b[0m \u001b[38;5;28;01mraise\u001b[39;00m \u001b[38;5;167;01mValueError\u001b[39;00m(\u001b[38;5;124mf\u001b[39m\u001b[38;5;124m\"\u001b[39m\u001b[38;5;124mNo valid coloring found with ≤ \u001b[39m\u001b[38;5;132;01m{\u001b[39;00mmax_colors\u001b[38;5;132;01m}\u001b[39;00m\u001b[38;5;124m colors\u001b[39m\u001b[38;5;124m\"\u001b[39m)\n",
      "\u001b[1;31mValueError\u001b[0m: No valid coloring found with ≤ 8 colors"
     ]
    }
   ],
   "source": [
    "for num_nodes in range(3, 8):\n",
    "    G = generate_graph(num_nodes=num_nodes)\n",
    "    results = sweep_qaoa_p_levels(G, max_colors=8, max_iter=500, shots=1024)\n"
   ]
  },
  {
   "cell_type": "code",
   "execution_count": null,
   "metadata": {},
   "outputs": [],
   "source": []
  }
 ],
 "metadata": {
  "kernelspec": {
   "display_name": "Python 3",
   "language": "python",
   "name": "python3"
  },
  "language_info": {
   "codemirror_mode": {
    "name": "ipython",
    "version": 3
   },
   "file_extension": ".py",
   "mimetype": "text/x-python",
   "name": "python",
   "nbconvert_exporter": "python",
   "pygments_lexer": "ipython3",
   "version": "3.11.9"
  }
 },
 "nbformat": 4,
 "nbformat_minor": 2
}
