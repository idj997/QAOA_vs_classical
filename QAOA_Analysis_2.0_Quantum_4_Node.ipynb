{
 "cells": [
  {
   "cell_type": "code",
   "execution_count": 1,
   "metadata": {
    "ExecuteTime": {
     "end_time": "2025-06-24T17:23:51.589495Z",
     "start_time": "2025-06-24T17:23:50.515622Z"
    }
   },
   "outputs": [],
   "source": [
    "import networkx as nx\n",
    "import matplotlib.pyplot as plt\n",
    "from networkx.algorithms import coloring\n",
    "from qiskit.quantum_info import SparsePauliOp, Pauli\n",
    "from qiskit.circuit.library import QAOAAnsatz\n",
    "import time\n",
    "from qiskit_ibm_runtime import QiskitRuntimeService, SamplerV2 as Sampler\n",
    "import time\n",
    "import logging\n",
    "import sys\n",
    "\n",
    "# Configure logging for Jupyter\n",
    "logging.basicConfig(\n",
    "    level=logging.INFO,\n",
    "    format='%(asctime)s - %(name)s - %(levelname)s - %(message)s',\n",
    "    handlers=[\n",
    "        logging.StreamHandler(sys.stdout)  # Output to notebook cell\n",
    "    ]\n",
    ")\n",
    "\n",
    "logger = logging.getLogger(__name__)\n",
    "logging.getLogger('qiskit').setLevel(logging.WARNING)\n"
   ]
  },
  {
   "cell_type": "code",
   "execution_count": 2,
   "metadata": {
    "ExecuteTime": {
     "end_time": "2025-06-24T17:23:51.597003Z",
     "start_time": "2025-06-24T17:23:51.595204Z"
    }
   },
   "outputs": [],
   "source": [
    "node_start = 4\n",
    "node_end = 5\n",
    "max_color_possible = 4\n",
    "do_simulate = True"
   ]
  },
  {
   "cell_type": "code",
   "execution_count": 5,
   "metadata": {
    "ExecuteTime": {
     "end_time": "2025-06-24T17:23:51.604735Z",
     "start_time": "2025-06-24T17:23:51.602273Z"
    }
   },
   "outputs": [],
   "source": [
    "\n",
    "QiskitRuntimeService.delete_account()\n",
    "\n",
    "# ApiKey-17505cb0-9189-4bdf-ab3c-330f60208560\n",
    "# ApiKey-2660474b-eb15-4696-8635-664488aa5482\n",
    "# crn:v1:bluemix:public:quantum-computing:us-east:a/d5ba3c21e3704d638c6d787499a21bee:45134296-8d27-4c51-8648-515d9a10bc46::\n",
    "# QiskitRuntimeService.save_account(channel='ibm_quantum', instance='ibm-q/open/main', token='ncm57C12QlDOn8kGFMvHnkHHRms-rhDoKxGWv7O7BPSg', overwrite=True)\n",
    "\n",
    "QiskitRuntimeService.save_account(\n",
    "    channel=\"ibm_cloud\",\n",
    "    token=\"2660474b-eb15-4696-8635-664488aa5482\",\n",
    "    overwrite=True\n",
    ")"
   ]
  },
  {
   "cell_type": "code",
   "execution_count": 4,
   "metadata": {},
   "outputs": [
    {
     "ename": "InvalidAccountError",
     "evalue": "'Unable to retrieve instances.'",
     "output_type": "error",
     "traceback": [
      "\u001b[31m---------------------------------------------------------------------------\u001b[39m",
      "\u001b[31mApiException\u001b[39m                              Traceback (most recent call last)",
      "\u001b[36mFile \u001b[39m\u001b[32mc:\\Users\\ishwa\\OneDrive\\Documents\\QAOA_vs_classical\\.venv\\Lib\\site-packages\\qiskit_ibm_runtime\\accounts\\account.py:364\u001b[39m, in \u001b[36mCloudAccount.list_instances\u001b[39m\u001b[34m(self)\u001b[39m\n\u001b[32m    363\u001b[39m \u001b[38;5;28;01mtry\u001b[39;00m:\n\u001b[32m--> \u001b[39m\u001b[32m364\u001b[39m     result = \u001b[43mclient\u001b[49m\u001b[43m.\u001b[49m\u001b[43msearch\u001b[49m\u001b[43m(\u001b[49m\n\u001b[32m    365\u001b[39m \u001b[43m        \u001b[49m\u001b[43mquery\u001b[49m\u001b[43m=\u001b[49m\u001b[33;43m\"\u001b[39;49m\u001b[33;43mservice_name:quantum-computing\u001b[39;49m\u001b[33;43m\"\u001b[39;49m\u001b[43m,\u001b[49m\n\u001b[32m    366\u001b[39m \u001b[43m        \u001b[49m\u001b[43mfields\u001b[49m\u001b[43m=\u001b[49m\u001b[43m[\u001b[49m\u001b[33;43m\"\u001b[39;49m\u001b[33;43mcrn\u001b[39;49m\u001b[33;43m\"\u001b[39;49m\u001b[43m,\u001b[49m\u001b[43m \u001b[49m\u001b[33;43m\"\u001b[39;49m\u001b[33;43mservice_plan_unique_id\u001b[39;49m\u001b[33;43m\"\u001b[39;49m\u001b[43m,\u001b[49m\u001b[43m \u001b[49m\u001b[33;43m\"\u001b[39;49m\u001b[33;43mname\u001b[39;49m\u001b[33;43m\"\u001b[39;49m\u001b[43m,\u001b[49m\u001b[43m \u001b[49m\u001b[33;43m\"\u001b[39;49m\u001b[33;43mdoc\u001b[39;49m\u001b[33;43m\"\u001b[39;49m\u001b[43m]\u001b[49m\u001b[43m,\u001b[49m\n\u001b[32m    367\u001b[39m \u001b[43m        \u001b[49m\u001b[43msearch_cursor\u001b[49m\u001b[43m=\u001b[49m\u001b[43msearch_cursor\u001b[49m\u001b[43m,\u001b[49m\n\u001b[32m    368\u001b[39m \u001b[43m        \u001b[49m\u001b[43mlimit\u001b[49m\u001b[43m=\u001b[49m\u001b[32;43m100\u001b[39;49m\u001b[43m,\u001b[49m\n\u001b[32m    369\u001b[39m \u001b[43m    \u001b[49m\u001b[43m)\u001b[49m.get_result()\n\u001b[32m    370\u001b[39m \u001b[38;5;28;01mexcept\u001b[39;00m:\n",
      "\u001b[36mFile \u001b[39m\u001b[32mc:\\Users\\ishwa\\OneDrive\\Documents\\QAOA_vs_classical\\.venv\\Lib\\site-packages\\ibm_platform_services\\global_search_v2.py:236\u001b[39m, in \u001b[36mGlobalSearchV2.search\u001b[39m\u001b[34m(self, query, fields, search_cursor, x_request_id, x_correlation_id, account_id, limit, timeout, sort, is_deleted, is_reclaimed, is_public, impersonate_user, can_tag, is_project_resource, **kwargs)\u001b[39m\n\u001b[32m    235\u001b[39m url = \u001b[33m'\u001b[39m\u001b[33m/v3/resources/search\u001b[39m\u001b[33m'\u001b[39m\n\u001b[32m--> \u001b[39m\u001b[32m236\u001b[39m request = \u001b[38;5;28;43mself\u001b[39;49m\u001b[43m.\u001b[49m\u001b[43mprepare_request\u001b[49m\u001b[43m(\u001b[49m\n\u001b[32m    237\u001b[39m \u001b[43m    \u001b[49m\u001b[43mmethod\u001b[49m\u001b[43m=\u001b[49m\u001b[33;43m'\u001b[39;49m\u001b[33;43mPOST\u001b[39;49m\u001b[33;43m'\u001b[39;49m\u001b[43m,\u001b[49m\n\u001b[32m    238\u001b[39m \u001b[43m    \u001b[49m\u001b[43murl\u001b[49m\u001b[43m=\u001b[49m\u001b[43murl\u001b[49m\u001b[43m,\u001b[49m\n\u001b[32m    239\u001b[39m \u001b[43m    \u001b[49m\u001b[43mheaders\u001b[49m\u001b[43m=\u001b[49m\u001b[43mheaders\u001b[49m\u001b[43m,\u001b[49m\n\u001b[32m    240\u001b[39m \u001b[43m    \u001b[49m\u001b[43mparams\u001b[49m\u001b[43m=\u001b[49m\u001b[43mparams\u001b[49m\u001b[43m,\u001b[49m\n\u001b[32m    241\u001b[39m \u001b[43m    \u001b[49m\u001b[43mdata\u001b[49m\u001b[43m=\u001b[49m\u001b[43mdata\u001b[49m\u001b[43m,\u001b[49m\n\u001b[32m    242\u001b[39m \u001b[43m\u001b[49m\u001b[43m)\u001b[49m\n\u001b[32m    244\u001b[39m response = \u001b[38;5;28mself\u001b[39m.send(request, **kwargs)\n",
      "\u001b[36mFile \u001b[39m\u001b[32mc:\\Users\\ishwa\\OneDrive\\Documents\\QAOA_vs_classical\\.venv\\Lib\\site-packages\\ibm_cloud_sdk_core\\base_service.py:441\u001b[39m, in \u001b[36mBaseService.prepare_request\u001b[39m\u001b[34m(self, method, url, headers, params, data, files, **kwargs)\u001b[39m\n\u001b[32m    439\u001b[39m request[\u001b[33m'\u001b[39m\u001b[33mdata\u001b[39m\u001b[33m'\u001b[39m] = data\n\u001b[32m--> \u001b[39m\u001b[32m441\u001b[39m \u001b[38;5;28;43mself\u001b[39;49m\u001b[43m.\u001b[49m\u001b[43mauthenticator\u001b[49m\u001b[43m.\u001b[49m\u001b[43mauthenticate\u001b[49m\u001b[43m(\u001b[49m\u001b[43mrequest\u001b[49m\u001b[43m)\u001b[49m\n\u001b[32m    443\u001b[39m \u001b[38;5;66;03m# Compress the request body if applicable\u001b[39;00m\n",
      "\u001b[36mFile \u001b[39m\u001b[32mc:\\Users\\ishwa\\OneDrive\\Documents\\QAOA_vs_classical\\.venv\\Lib\\site-packages\\ibm_cloud_sdk_core\\authenticators\\iam_request_based_authenticator.py:64\u001b[39m, in \u001b[36mIAMRequestBasedAuthenticator.authenticate\u001b[39m\u001b[34m(self, req)\u001b[39m\n\u001b[32m     63\u001b[39m headers = req.get(\u001b[33m'\u001b[39m\u001b[33mheaders\u001b[39m\u001b[33m'\u001b[39m)\n\u001b[32m---> \u001b[39m\u001b[32m64\u001b[39m bearer_token = \u001b[38;5;28;43mself\u001b[39;49m\u001b[43m.\u001b[49m\u001b[43mtoken_manager\u001b[49m\u001b[43m.\u001b[49m\u001b[43mget_token\u001b[49m\u001b[43m(\u001b[49m\u001b[43m)\u001b[49m\n\u001b[32m     65\u001b[39m headers[\u001b[33m'\u001b[39m\u001b[33mAuthorization\u001b[39m\u001b[33m'\u001b[39m] = \u001b[33m'\u001b[39m\u001b[33mBearer \u001b[39m\u001b[38;5;132;01m{0}\u001b[39;00m\u001b[33m'\u001b[39m.format(bearer_token)\n",
      "\u001b[36mFile \u001b[39m\u001b[32mc:\\Users\\ishwa\\OneDrive\\Documents\\QAOA_vs_classical\\.venv\\Lib\\site-packages\\ibm_cloud_sdk_core\\token_managers\\token_manager.py:82\u001b[39m, in \u001b[36mTokenManager.get_token\u001b[39m\u001b[34m(self)\u001b[39m\n\u001b[32m     81\u001b[39m     logger.debug(\u001b[33m'\u001b[39m\u001b[33mPerforming synchronous token fetch\u001b[39m\u001b[33m'\u001b[39m)\n\u001b[32m---> \u001b[39m\u001b[32m82\u001b[39m     \u001b[38;5;28;43mself\u001b[39;49m\u001b[43m.\u001b[49m\u001b[43mpaced_request_token\u001b[49m\u001b[43m(\u001b[49m\u001b[43m)\u001b[49m\n\u001b[32m     84\u001b[39m \u001b[38;5;28;01mif\u001b[39;00m \u001b[38;5;28mself\u001b[39m._token_needs_refresh():\n",
      "\u001b[36mFile \u001b[39m\u001b[32mc:\\Users\\ishwa\\OneDrive\\Documents\\QAOA_vs_classical\\.venv\\Lib\\site-packages\\ibm_cloud_sdk_core\\token_managers\\token_manager.py:141\u001b[39m, in \u001b[36mTokenManager.paced_request_token\u001b[39m\u001b[34m(self)\u001b[39m\n\u001b[32m    140\u001b[39m \u001b[38;5;28;01mif\u001b[39;00m \u001b[38;5;129;01mnot\u001b[39;00m request_active:\n\u001b[32m--> \u001b[39m\u001b[32m141\u001b[39m     token_response = \u001b[38;5;28;43mself\u001b[39;49m\u001b[43m.\u001b[49m\u001b[43mrequest_token\u001b[49m\u001b[43m(\u001b[49m\u001b[43m)\u001b[49m\n\u001b[32m    142\u001b[39m     \u001b[38;5;28mself\u001b[39m._save_token_info(token_response)\n",
      "\u001b[36mFile \u001b[39m\u001b[32mc:\\Users\\ishwa\\OneDrive\\Documents\\QAOA_vs_classical\\.venv\\Lib\\site-packages\\ibm_cloud_sdk_core\\token_managers\\iam_request_based_token_manager.py:127\u001b[39m, in \u001b[36mIAMRequestBasedTokenManager.request_token\u001b[39m\u001b[34m(self)\u001b[39m\n\u001b[32m    126\u001b[39m logger.debug(\u001b[33m'\u001b[39m\u001b[33mInvoking IAM get_token operation: \u001b[39m\u001b[38;5;132;01m%s\u001b[39;00m\u001b[33m'\u001b[39m, request_url)\n\u001b[32m--> \u001b[39m\u001b[32m127\u001b[39m response = \u001b[38;5;28;43mself\u001b[39;49m\u001b[43m.\u001b[49m\u001b[43m_request\u001b[49m\u001b[43m(\u001b[49m\n\u001b[32m    128\u001b[39m \u001b[43m    \u001b[49m\u001b[43mmethod\u001b[49m\u001b[43m=\u001b[49m\u001b[33;43m'\u001b[39;49m\u001b[33;43mPOST\u001b[39;49m\u001b[33;43m'\u001b[39;49m\u001b[43m,\u001b[49m\n\u001b[32m    129\u001b[39m \u001b[43m    \u001b[49m\u001b[43murl\u001b[49m\u001b[43m=\u001b[49m\u001b[43mrequest_url\u001b[49m\u001b[43m,\u001b[49m\n\u001b[32m    130\u001b[39m \u001b[43m    \u001b[49m\u001b[43mheaders\u001b[49m\u001b[43m=\u001b[49m\u001b[43mrequest_headers\u001b[49m\u001b[43m,\u001b[49m\n\u001b[32m    131\u001b[39m \u001b[43m    \u001b[49m\u001b[43mdata\u001b[49m\u001b[43m=\u001b[49m\u001b[43mdata\u001b[49m\u001b[43m,\u001b[49m\n\u001b[32m    132\u001b[39m \u001b[43m    \u001b[49m\u001b[43mauth_tuple\u001b[49m\u001b[43m=\u001b[49m\u001b[43mauth_tuple\u001b[49m\u001b[43m,\u001b[49m\n\u001b[32m    133\u001b[39m \u001b[43m    \u001b[49m\u001b[43mproxies\u001b[49m\u001b[43m=\u001b[49m\u001b[38;5;28;43mself\u001b[39;49m\u001b[43m.\u001b[49m\u001b[43mproxies\u001b[49m\u001b[43m,\u001b[49m\n\u001b[32m    134\u001b[39m \u001b[43m\u001b[49m\u001b[43m)\u001b[49m\n\u001b[32m    135\u001b[39m logger.debug(\u001b[33m'\u001b[39m\u001b[33mReturned from IAM get_token operation\u001b[39m\u001b[33m'\u001b[39m)\n",
      "\u001b[36mFile \u001b[39m\u001b[32mc:\\Users\\ishwa\\OneDrive\\Documents\\QAOA_vs_classical\\.venv\\Lib\\site-packages\\ibm_cloud_sdk_core\\token_managers\\jwt_token_manager.py:91\u001b[39m, in \u001b[36mJWTTokenManager._request\u001b[39m\u001b[34m(self, method, url, headers, params, data, auth_tuple, **kwargs)\u001b[39m\n\u001b[32m     89\u001b[39m     \u001b[38;5;28;01mreturn\u001b[39;00m response.json()\n\u001b[32m---> \u001b[39m\u001b[32m91\u001b[39m \u001b[38;5;28;01mraise\u001b[39;00m ApiException(response.status_code, http_response=response)\n",
      "\u001b[31mApiException\u001b[39m: Error: Provided API key could not be found., Status code: 400",
      "\nDuring handling of the above exception, another exception occurred:\n",
      "\u001b[31mInvalidAccountError\u001b[39m                       Traceback (most recent call last)",
      "\u001b[36mCell\u001b[39m\u001b[36m \u001b[39m\u001b[32mIn[4]\u001b[39m\u001b[32m, line 4\u001b[39m\n\u001b[32m      1\u001b[39m \u001b[38;5;28;01mfrom\u001b[39;00m\u001b[38;5;250m \u001b[39m\u001b[34;01mqiskit_ibm_runtime\u001b[39;00m\u001b[38;5;250m \u001b[39m\u001b[38;5;28;01mimport\u001b[39;00m QiskitRuntimeService\n\u001b[32m      3\u001b[39m \u001b[38;5;66;03m# Load saved account (make sure you've done QiskitRuntimeService.save_account() before)\u001b[39;00m\n\u001b[32m----> \u001b[39m\u001b[32m4\u001b[39m service = \u001b[43mQiskitRuntimeService\u001b[49m\u001b[43m(\u001b[49m\u001b[43mchannel\u001b[49m\u001b[43m=\u001b[49m\u001b[33;43m\"\u001b[39;49m\u001b[33;43mibm_cloud\u001b[39;49m\u001b[33;43m\"\u001b[39;49m\u001b[43m,\u001b[49m\u001b[43mtoken\u001b[49m\u001b[43m=\u001b[49m\u001b[33;43m\"\u001b[39;49m\u001b[33;43m2660474b-eb15-4696-8635-664488aa5482\u001b[39;49m\u001b[33;43m\"\u001b[39;49m\u001b[43m)\u001b[49m\n",
      "\u001b[36mFile \u001b[39m\u001b[32mc:\\Users\\ishwa\\OneDrive\\Documents\\QAOA_vs_classical\\.venv\\Lib\\site-packages\\qiskit_ibm_runtime\\qiskit_runtime_service.py:200\u001b[39m, in \u001b[36mQiskitRuntimeService.__init__\u001b[39m\u001b[34m(self, channel, token, url, filename, name, instance, proxies, verify, private_endpoint, url_resolver, region, plans_preference)\u001b[39m\n\u001b[32m    198\u001b[39m \u001b[38;5;28;01melse\u001b[39;00m:\n\u001b[32m    199\u001b[39m     \u001b[38;5;28mself\u001b[39m._api_clients = {}\n\u001b[32m--> \u001b[39m\u001b[32m200\u001b[39m     instance_backends = \u001b[38;5;28;43mself\u001b[39;49m\u001b[43m.\u001b[49m\u001b[43m_resolve_cloud_instances\u001b[49m\u001b[43m(\u001b[49m\u001b[43minstance\u001b[49m\u001b[43m)\u001b[49m\n\u001b[32m    201\u001b[39m     \u001b[38;5;28;01mfor\u001b[39;00m inst, _ \u001b[38;5;129;01min\u001b[39;00m instance_backends:\n\u001b[32m    202\u001b[39m         \u001b[38;5;28mself\u001b[39m._get_or_create_cloud_client(inst)\n",
      "\u001b[36mFile \u001b[39m\u001b[32mc:\\Users\\ishwa\\OneDrive\\Documents\\QAOA_vs_classical\\.venv\\Lib\\site-packages\\qiskit_ibm_runtime\\qiskit_runtime_service.py:742\u001b[39m, in \u001b[36mQiskitRuntimeService._resolve_cloud_instances\u001b[39m\u001b[34m(self, instance)\u001b[39m\n\u001b[32m    740\u001b[39m     \u001b[38;5;28;01mreturn\u001b[39;00m [(default_crn, \u001b[38;5;28mself\u001b[39m._discover_backends_from_instance(default_crn))]\n\u001b[32m    741\u001b[39m \u001b[38;5;28;01mif\u001b[39;00m \u001b[38;5;129;01mnot\u001b[39;00m \u001b[38;5;28mself\u001b[39m._all_instances:\n\u001b[32m--> \u001b[39m\u001b[32m742\u001b[39m     \u001b[38;5;28mself\u001b[39m._all_instances = \u001b[38;5;28;43mself\u001b[39;49m\u001b[43m.\u001b[49m\u001b[43m_account\u001b[49m\u001b[43m.\u001b[49m\u001b[43mlist_instances\u001b[49m\u001b[43m(\u001b[49m\u001b[43m)\u001b[49m\n\u001b[32m    743\u001b[39m     logger.warning(\n\u001b[32m    744\u001b[39m         \u001b[33m\"\u001b[39m\u001b[33mDefault instance not set. Searching all available instances.\u001b[39m\u001b[33m\"\u001b[39m,\n\u001b[32m    745\u001b[39m     )\n\u001b[32m    746\u001b[39m \u001b[38;5;28;01mif\u001b[39;00m \u001b[38;5;129;01mnot\u001b[39;00m \u001b[38;5;28mself\u001b[39m._backend_instance_groups:\n",
      "\u001b[36mFile \u001b[39m\u001b[32mc:\\Users\\ishwa\\OneDrive\\Documents\\QAOA_vs_classical\\.venv\\Lib\\site-packages\\qiskit_ibm_runtime\\accounts\\account.py:371\u001b[39m, in \u001b[36mCloudAccount.list_instances\u001b[39m\u001b[34m(self)\u001b[39m\n\u001b[32m    364\u001b[39m     result = client.search(\n\u001b[32m    365\u001b[39m         query=\u001b[33m\"\u001b[39m\u001b[33mservice_name:quantum-computing\u001b[39m\u001b[33m\"\u001b[39m,\n\u001b[32m    366\u001b[39m         fields=[\u001b[33m\"\u001b[39m\u001b[33mcrn\u001b[39m\u001b[33m\"\u001b[39m, \u001b[33m\"\u001b[39m\u001b[33mservice_plan_unique_id\u001b[39m\u001b[33m\"\u001b[39m, \u001b[33m\"\u001b[39m\u001b[33mname\u001b[39m\u001b[33m\"\u001b[39m, \u001b[33m\"\u001b[39m\u001b[33mdoc\u001b[39m\u001b[33m\"\u001b[39m],\n\u001b[32m    367\u001b[39m         search_cursor=search_cursor,\n\u001b[32m    368\u001b[39m         limit=\u001b[32m100\u001b[39m,\n\u001b[32m    369\u001b[39m     ).get_result()\n\u001b[32m    370\u001b[39m \u001b[38;5;28;01mexcept\u001b[39;00m:\n\u001b[32m--> \u001b[39m\u001b[32m371\u001b[39m     \u001b[38;5;28;01mraise\u001b[39;00m InvalidAccountError(\u001b[33m\"\u001b[39m\u001b[33mUnable to retrieve instances.\u001b[39m\u001b[33m\"\u001b[39m)\n\u001b[32m    372\u001b[39m crns = []\n\u001b[32m    373\u001b[39m items = result.get(\u001b[33m\"\u001b[39m\u001b[33mitems\u001b[39m\u001b[33m\"\u001b[39m, [])\n",
      "\u001b[31mInvalidAccountError\u001b[39m: 'Unable to retrieve instances.'"
     ]
    }
   ],
   "source": [
    "from qiskit_ibm_runtime import QiskitRuntimeService\n",
    "\n",
    "# Load saved account (make sure you've done QiskitRuntimeService.save_account() before)\n",
    "service = QiskitRuntimeService(channel=\"ibm_cloud\",token=\"2660474b-eb15-4696-8635-664488aa5482\")"
   ]
  },
  {
   "cell_type": "code",
   "execution_count": 28,
   "metadata": {
    "ExecuteTime": {
     "end_time": "2025-06-24T17:24:00.936580Z",
     "start_time": "2025-06-24T17:23:51.610389Z"
    }
   },
   "outputs": [
    {
     "name": "stderr",
     "output_type": "stream",
     "text": [
      "qiskit_runtime_service._discover_backends_from_instance:WARNING:2025-08-12 11:25:59,466: Invalid instance crn:v1:bluemix:public:quantum-computing:us-east:a/d5ba3c21e3704d638c6d787499a21bee:45134296-8d27-4c51-8648-515d9a10bc46::\n",
      "qiskit_runtime_service._discover_backends_from_instance:WARNING:2025-08-12 11:26:57,973: Invalid instance crn:v1:bluemix:public:quantum-computing:us-east:a/d5ba3c21e3704d638c6d787499a21bee:45134296-8d27-4c51-8648-515d9a10bc46::\n"
     ]
    }
   ],
   "source": [
    "service = QiskitRuntimeService()\n",
    "#\n",
    "for backend in service.backends(simulator=False, operational=True):\n",
    "    logger.info(f\"{backend.name} – {backend.configuration().num_qubits} qubits\")"
   ]
  },
  {
   "cell_type": "code",
   "execution_count": 14,
   "metadata": {
    "ExecuteTime": {
     "end_time": "2025-06-24T17:24:00.958151Z",
     "start_time": "2025-06-24T17:24:00.954894Z"
    }
   },
   "outputs": [],
   "source": [
    "def generate_graph(num_nodes, edge_prob=0.5, seed=32):\n",
    "    return nx.erdos_renyi_graph(num_nodes, edge_prob, seed=seed)"
   ]
  },
  {
   "cell_type": "code",
   "execution_count": 15,
   "metadata": {
    "ExecuteTime": {
     "end_time": "2025-06-24T17:24:00.974180Z",
     "start_time": "2025-06-24T17:24:00.968722Z"
    }
   },
   "outputs": [],
   "source": [
    "import numpy as np\n",
    "\n",
    "# QUBO conversion and Hamiltonian construction\n",
    "def create_qubo_hamiltonian(graph, num_colors):\n",
    "    num_nodes = graph.number_of_nodes()\n",
    "    Q = np.zeros((num_nodes * num_colors, num_nodes * num_colors))\n",
    "    for i in range(num_nodes):\n",
    "        for c in range(num_colors):\n",
    "            Q[i * num_colors + c, i * num_colors + c] -= 1\n",
    "            for cp in range(c + 1, num_colors):\n",
    "                Q[i * num_colors + c, i * num_colors + cp] += 2\n",
    "    for i, j in graph.edges():\n",
    "        for c in range(num_colors):\n",
    "            Q[i * num_colors + c, j * num_colors + c] += 1\n",
    "    Q = 0.5 * (Q + Q.T)\n",
    "    linear = np.diag(Q)\n",
    "    quadratic = Q - np.diag(linear)\n",
    "    h = {i: linear[i] for i in range(len(linear))}\n",
    "    J = {(i, j): quadratic[i, j] for i in range(len(linear)) for j in range(i + 1, len(linear)) if quadratic[i, j] != 0}\n",
    "    \n",
    "    pauli_list = []\n",
    "    for (i, j), weight in J.items():\n",
    "        z_p = np.zeros(len(linear), dtype=bool)\n",
    "        x_p = np.zeros(len(linear), dtype=bool)\n",
    "        z_p[i] = True\n",
    "        z_p[j] = True\n",
    "        pauli_list.append((Pauli((z_p, x_p)), weight))\n",
    "    for i, weight in h.items():\n",
    "        z_p = np.zeros(len(linear), dtype=bool)\n",
    "        x_p = np.zeros(len(linear), dtype=bool)\n",
    "        z_p[i] = True\n",
    "        pauli_list.append((Pauli((z_p, x_p)), weight))\n",
    "    hamiltonian = sum([SparsePauliOp.from_list([(pauli.to_label(), weight)]) for pauli, weight in pauli_list])\n",
    "    \n",
    "    return hamiltonian"
   ]
  },
  {
   "cell_type": "code",
   "execution_count": 16,
   "metadata": {
    "ExecuteTime": {
     "end_time": "2025-06-24T17:24:00.983144Z",
     "start_time": "2025-06-24T17:24:00.980579Z"
    }
   },
   "outputs": [],
   "source": [
    "def is_valid_coloring(graph, coloring):\n",
    "    \"\"\"Return True if no adjacent vertices share the same color and all nodes are assigned valid colors.\"\"\"\n",
    "    for u, v in graph.edges():\n",
    "        if coloring[u] == coloring[v]:\n",
    "            return False\n",
    "\n",
    "    if len(set(coloring)) > max_color_possible:\n",
    "        return False\n",
    "\n",
    "    return True\n"
   ]
  },
  {
   "cell_type": "code",
   "execution_count": 17,
   "metadata": {
    "ExecuteTime": {
     "end_time": "2025-06-24T17:24:00.989786Z",
     "start_time": "2025-06-24T17:24:00.987306Z"
    }
   },
   "outputs": [],
   "source": [
    "def extract_relevant_bits(full_counts, layout, num_logical_qubits):\n",
    "    \"\"\"Extract only the bits corresponding to logical qubits from full measurement results\"\"\"\n",
    "    extracted_counts = {}\n",
    "\n",
    "    for bitstring, count in full_counts.items():\n",
    "        # Extract only the bits we care about based on the layout\n",
    "        relevant_bits = \"\"\n",
    "        for i in range(num_logical_qubits):\n",
    "            # Get the physical qubit index for logical qubit i\n",
    "            physical_qubit = layout.initial_layout[i]\n",
    "            # Extract the bit at that position (bitstrings are reversed in Qiskit)\n",
    "            bit_index = len(bitstring) - 1 - physical_qubit._index\n",
    "            relevant_bits += bitstring[bit_index]\n",
    "\n",
    "        # Accumulate counts for the same relevant bitstring\n",
    "        if relevant_bits in extracted_counts:\n",
    "            extracted_counts[relevant_bits] += count\n",
    "        else:\n",
    "            extracted_counts[relevant_bits] = count\n",
    "\n",
    "    return extracted_counts"
   ]
  },
  {
   "cell_type": "code",
   "execution_count": 18,
   "metadata": {
    "ExecuteTime": {
     "end_time": "2025-06-24T17:24:01.143773Z",
     "start_time": "2025-06-24T17:24:00.996105Z"
    }
   },
   "outputs": [],
   "source": [
    "import numpy as np\n",
    "from scipy.optimize import minimize\n",
    "from qiskit.circuit.library import QAOAAnsatz\n",
    "from qiskit.transpiler import generate_preset_pass_manager\n",
    "from qiskit_ibm_runtime import SamplerV2 as Sampler, EstimatorV2 as Estimator\n",
    "from qiskit.quantum_info import Pauli, SparsePauliOp\n",
    "from qiskit_aer.primitives import SamplerV2 as aersampler\n",
    "import time\n",
    "\n",
    "from qiskit_aer import AerSimulator\n",
    "\n",
    "def run_qaoa(graph, cost_hamiltonian, p, max_iter, shots):\n",
    "\n",
    "    # Create QAOA ansatz\n",
    "    quantum_circuit = QAOAAnsatz(cost_operator=cost_hamiltonian, reps=p)\n",
    "    if do_simulate:\n",
    "        backend_for_simulator = service.least_busy(\n",
    "            operational=True, simulator=False, min_num_qubits=graph.number_of_nodes(),\n",
    "        )\n",
    "        _backend = AerSimulator.from_backend(backend_for_simulator)\n",
    "    else:\n",
    "        _backend = service.least_busy(\n",
    "            operational=True, simulator=False, min_num_qubits=graph.number_of_nodes(),\n",
    "        )\n",
    "\n",
    "    logger.info(_backend)\n",
    "\n",
    "    # Transpile circuit and get the mapping\n",
    "    pm = generate_preset_pass_manager(backend=_backend, optimization_level=3, seed_transpiler=42)\n",
    "    isa_circuit = pm.run(quantum_circuit)\n",
    "    layout = isa_circuit.layout\n",
    "    num_logical_qubits = quantum_circuit.num_qubits\n",
    "\n",
    "    # Initialize estimator\n",
    "    estimator = Estimator(_backend)\n",
    "    estimator.options.resilience_level = 0\n",
    "    estimator.options.default_shots = 500\n",
    "\n",
    "    objective_func_vals = [] # Global variable\n",
    "    def cost_func_estimator(params, ansatz, hamiltonian, _estimator):\n",
    "        isa_hamiltonian = hamiltonian.apply_layout(ansatz.layout)\n",
    "\n",
    "        pub = (ansatz, isa_hamiltonian, params)\n",
    "        job = _estimator.run([pub])\n",
    "\n",
    "        results = job.result()[0]\n",
    "        cost = results.data.evs\n",
    "        objective_func_vals.append(cost)\n",
    "        return cost\n",
    "\n",
    "    # Initialize parameters randomly\n",
    "    num_params = quantum_circuit.num_parameters\n",
    "    initial_params = np.random.uniform(-np.pi/6, np.pi/6, num_params)\n",
    "\n",
    "    optimization_options = {\n",
    "        'maxiter': max_iter,\n",
    "        'catol': 1e-6,\n",
    "        'disp': True\n",
    "    }\n",
    "\n",
    "    result = minimize(\n",
    "        cost_func_estimator,\n",
    "        initial_params,\n",
    "        args=(isa_circuit, cost_hamiltonian, estimator),\n",
    "        method='COBYLA',\n",
    "        options=optimization_options\n",
    "    )\n",
    "\n",
    "    sampler = Sampler(_backend)\n",
    "    optimal_circuit = isa_circuit.assign_parameters(result.x)\n",
    "    optimal_circuit.measure_active()\n",
    "\n",
    "    final_job = sampler.run([(optimal_circuit, None)])\n",
    "    final_result = final_job.result()\n",
    "\n",
    "    full_counts = final_result[0].data.meas.get_counts()\n",
    "    final_counts = extract_relevant_bits(full_counts, layout, num_logical_qubits)\n",
    "\n",
    "    best_bitstring = max(final_counts, key=final_counts.get)\n",
    "\n",
    "    if not do_simulate:\n",
    "        real_execution_time = final_result.metadata['execution']['execution_spans'].duration\n",
    "        return real_execution_time, best_bitstring, final_counts\n",
    "    else:\n",
    "        return 0, best_bitstring, final_counts\n"
   ]
  },
  {
   "cell_type": "code",
   "execution_count": 19,
   "metadata": {
    "ExecuteTime": {
     "end_time": "2025-06-24T17:24:01.150447Z",
     "start_time": "2025-06-24T17:24:01.147731Z"
    }
   },
   "outputs": [],
   "source": [
    "def decode_binary_coloring(bitstring, num_vertices, num_colors):\n",
    "    \"\"\"\n",
    "    Decodes a binary-encoded QAOA bitstring into color assignments for each vertex.\n",
    "    Returns:\n",
    "        coloring (list): List of assigned color indices for each vertex.\n",
    "        valid (bool): True if all assignments are valid, False otherwise.\n",
    "    \"\"\"\n",
    "    bits_per_node = int(len(bitstring)/num_vertices)\n",
    "    coloring = []\n",
    "    valid = True\n",
    "\n",
    "    for v in range(num_vertices):\n",
    "        start = v * bits_per_node\n",
    "        end = start + bits_per_node\n",
    "        color_bits = bitstring[start:end]\n",
    "        color_idx = int(color_bits, 2)\n",
    "        coloring.append(color_idx)\n",
    "    return coloring, valid\n"
   ]
  },
  {
   "cell_type": "code",
   "execution_count": 20,
   "metadata": {
    "ExecuteTime": {
     "end_time": "2025-06-24T17:24:01.156236Z",
     "start_time": "2025-06-24T17:24:01.153420Z"
    }
   },
   "outputs": [],
   "source": [
    "\n",
    "def run_qaoa_with_retry(graph, max_colors, p, max_iter, shots):\n",
    "    num_vertices = len(graph.nodes)\n",
    "    _iter = 0\n",
    "    for num_colors in range(2, max_colors + 1):\n",
    "\n",
    "        logger.info(f\"\\n +++++++++++++++++++ Node: {num_vertices}, Color: +++++++++++++++++++  {num_colors}\")\n",
    "\n",
    "        cost_hamiltonian = create_qubo_hamiltonian(graph, num_colors)\n",
    "        real_execution_time, _best_bitstring, _final_counts  = run_qaoa(\n",
    "            graph=graph, p=p, max_iter=max_iter, shots=shots, cost_hamiltonian=cost_hamiltonian\n",
    "        )\n",
    "        print(f\"best bitstring is ----- {_best_bitstring}\")\n",
    "        _coloring, valid = decode_binary_coloring(_best_bitstring, num_vertices, num_colors)\n",
    "        print(f\"best coloring is ----- {_coloring}\")\n",
    "        if valid and is_valid_coloring(graph, _coloring):\n",
    "            return num_vertices, num_colors, real_execution_time, _coloring, _iter\n",
    "        else:\n",
    "            _iter+=1\n",
    "\n",
    "        # Optionally: logger.info diagnostic info\n",
    "        # logging.error(f\"Attempt with {num_colors} colors failed. Coloring: {_coloring}, Valid: {valid}\")\n",
    "\n",
    "    raise ValueError(f\"No valid coloring found with ≤ {max_colors} colors\")\n"
   ]
  },
  {
   "cell_type": "code",
   "execution_count": 21,
   "metadata": {
    "ExecuteTime": {
     "end_time": "2025-06-24T17:24:01.162579Z",
     "start_time": "2025-06-24T17:24:01.160566Z"
    }
   },
   "outputs": [],
   "source": [
    "# def dsatur_coloring(graph):\n",
    "#     coloring = {}\n",
    "#     saturation_degrees = {node: 0 for node in graph.nodes()}\n",
    "#     available_colors = [True] * len(graph.nodes())\n",
    "#     iterations = 0\n",
    "#     while len(coloring) < len(graph.nodes()):\n",
    "#         iterations += 1\n",
    "#         uncolored_nodes = [node for node in graph.nodes() if node not in coloring]\n",
    "#         max_saturation = -1\n",
    "#         selected_node = None\n",
    "#         for node in uncolored_nodes:\n",
    "#             if saturation_degrees[node] > max_saturation:\n",
    "#                 max_saturation = saturation_degrees[node]\n",
    "#                 selected_node = node\n",
    "#             elif saturation_degrees[node] == max_saturation:\n",
    "#                 if selected_node is None or graph.degree[node] > graph.degree[selected_node]:\n",
    "#                     selected_node = node\n",
    "#         neighbor_colors = {coloring[neighbor] for neighbor in graph.neighbors(selected_node) if neighbor in coloring}\n",
    "#         for color in range(len(available_colors)):\n",
    "#             if color not in neighbor_colors:\n",
    "#                 coloring[selected_node] = color\n",
    "#                 break\n",
    "#         for neighbor in graph.neighbors(selected_node):\n",
    "#             if neighbor not in coloring:\n",
    "#                 saturation_degrees[neighbor] += 1\n",
    "#     return coloring, iterations"
   ]
  },
  {
   "cell_type": "code",
   "execution_count": 22,
   "metadata": {
    "ExecuteTime": {
     "end_time": "2025-06-24T17:24:01.166972Z",
     "start_time": "2025-06-24T17:24:01.165401Z"
    }
   },
   "outputs": [],
   "source": [
    "# def run_dsatur(graph):\n",
    "#     start_time = time.time()\n",
    "#     _, classical_iter = dsatur_coloring(graph)\n",
    "#     classical_time = time.time() - start_time\n",
    "#     return classical_time, classical_iter\n"
   ]
  },
  {
   "cell_type": "code",
   "execution_count": 23,
   "metadata": {
    "ExecuteTime": {
     "end_time": "2025-06-24T17:24:01.172675Z",
     "start_time": "2025-06-24T17:24:01.169178Z"
    }
   },
   "outputs": [],
   "source": [
    "\n",
    "import json\n",
    "import os\n",
    "from typing import List, Dict, Any, Optional\n",
    "\n",
    "def update_experiment_data(\n",
    "    num_node: int,\n",
    "    data_key: str,\n",
    "    data_value: str,\n",
    "    filename: str = 'experiment_data.json'\n",
    ") -> Dict[str, Any]:\n",
    "\n",
    "    experiment_data = _load_experiment_data(filename)\n",
    "    num_nodes_str = str(num_node)\n",
    "\n",
    "    # Create entry for this number of nodes if it doesn't exist\n",
    "    if num_nodes_str not in experiment_data[\"experiment_data\"]:\n",
    "        experiment_data[\"experiment_data\"][num_nodes_str] = {}\n",
    "\n",
    "    # Update the data\n",
    "    experiment_data[\"experiment_data\"][num_nodes_str][data_key] = data_value\n",
    "\n",
    "    # Save updated data back to JSON file\n",
    "    _save_experiment_data(experiment_data, filename)\n",
    "    return experiment_data\n",
    "\n",
    "\n",
    "def _load_experiment_data(filename: str) -> Dict[str, Any]:\n",
    "    if os.path.exists(filename):\n",
    "        try:\n",
    "            with open(filename, 'r') as f:\n",
    "                experiment_data = json.load(f)\n",
    "        except (json.JSONDecodeError, IOError) as e:\n",
    "            experiment_data = {\"experiment_data\": {}}\n",
    "    else:\n",
    "        experiment_data = {\"experiment_data\": {}}\n",
    "\n",
    "    if \"experiment_data\" not in experiment_data:\n",
    "        experiment_data[\"experiment_data\"] = {}\n",
    "    return experiment_data\n",
    "\n",
    "\n",
    "def _save_experiment_data(experiment_data: Dict[str, Any], filename: str) -> None:\n",
    "    try:\n",
    "        with open(filename, 'w') as f:\n",
    "            json.dump(experiment_data, f, indent=2)\n",
    "    except IOError as e:\n",
    "        error_msg = f\"Error saving to {filename}: {e}\"\n",
    "        raise IOError(error_msg)\n"
   ]
  },
  {
   "cell_type": "code",
   "execution_count": 24,
   "metadata": {
    "ExecuteTime": {
     "end_time": "2025-06-24T17:24:01.176846Z",
     "start_time": "2025-06-24T17:24:01.175017Z"
    }
   },
   "outputs": [],
   "source": [
    "# Initialize lists to store the results\n",
    "real_quantum_times = []\n",
    "num_nodes_list = []"
   ]
  },
  {
   "cell_type": "code",
   "execution_count": 25,
   "metadata": {
    "ExecuteTime": {
     "end_time": "2025-06-24T17:24:01.182191Z",
     "start_time": "2025-06-24T17:24:01.179716Z"
    }
   },
   "outputs": [],
   "source": [
    "import time\n",
    "import matplotlib.pyplot as plt\n",
    "\n",
    "def plot_coloring(graph, coloring, num_colors):\n",
    "    pos = nx.spring_layout(graph)\n",
    "    cmap = plt.get_cmap('tab20', num_colors)\n",
    "    node_colors = [cmap(color) if color != -1 else (0.8, 0.8, 0.8) for color in coloring]\n",
    "    nx.draw(graph, pos, with_labels=True, node_color=node_colors, node_size=500, font_color='white')\n",
    "    plt.title(f'Graph Coloring with {num_colors} colors')\n",
    "    plt.show()"
   ]
  },
  {
   "cell_type": "code",
   "execution_count": 26,
   "metadata": {
    "ExecuteTime": {
     "end_time": "2025-06-24T17:24:01.186269Z",
     "start_time": "2025-06-24T17:24:01.184414Z"
    }
   },
   "outputs": [],
   "source": [
    "def remap_colors(coloring):\n",
    "    unique_colors = sorted(set(coloring) - {-1})\n",
    "    color_map = {color: idx for idx, color in enumerate(unique_colors)}\n",
    "    remapped = [color_map[c] if c != -1 else -1 for c in coloring]\n",
    "    return remapped, len(unique_colors)"
   ]
  },
  {
   "cell_type": "code",
   "execution_count": 27,
   "metadata": {
    "ExecuteTime": {
     "end_time": "2025-06-24T17:24:01.191428Z",
     "start_time": "2025-06-24T17:24:01.189445Z"
    }
   },
   "outputs": [],
   "source": [
    "def plot_coloring(graph, coloring, num_colors):\n",
    "    import networkx as nx\n",
    "    pos = nx.spring_layout(graph)\n",
    "    cmap = plt.get_cmap('tab20', num_colors)\n",
    "    node_colors = [cmap(color) if color != -1 else (0.8, 0.8, 0.8) for color in coloring]\n",
    "    nx.draw(graph, pos, with_labels=True, node_color=node_colors, node_size=500, font_color='white')\n",
    "    plt.title(f'Graph Coloring with {num_colors} colors')\n",
    "    plt.show()"
   ]
  },
  {
   "cell_type": "code",
   "execution_count": 28,
   "metadata": {
    "ExecuteTime": {
     "end_time": "2025-06-24T17:24:01.195989Z",
     "start_time": "2025-06-24T17:24:01.193662Z"
    }
   },
   "outputs": [],
   "source": [
    "import networkx as nx\n",
    "from collections import deque\n",
    "\n",
    "def edge_bfs_depth(graph, edge):\n",
    "    \"\"\"Compute BFS depth starting from an edge (as a tuple of nodes).\"\"\"\n",
    "    visited_edges = set()\n",
    "    queue = deque([(edge, 0)])\n",
    "    max_depth = 0\n",
    "    while queue:\n",
    "        (u, v), depth = queue.popleft()\n",
    "        if (u, v) in visited_edges or (v, u) in visited_edges:\n",
    "            continue\n",
    "        visited_edges.add((u, v))\n",
    "        max_depth = max(max_depth, depth)\n",
    "        # Explore all edges adjacent to u or v\n",
    "        for neighbor in set(graph.neighbors(u)).union(graph.neighbors(v)):\n",
    "            if neighbor != u and neighbor != v:\n",
    "                for node in (u, v):\n",
    "                    if graph.has_edge(node, neighbor):\n",
    "                        queue.append(((node, neighbor), depth + 1))\n",
    "    return max_depth"
   ]
  },
  {
   "cell_type": "code",
   "execution_count": 29,
   "metadata": {
    "ExecuteTime": {
     "end_time": "2025-06-24T17:24:01.200025Z",
     "start_time": "2025-06-24T17:24:01.198483Z"
    }
   },
   "outputs": [],
   "source": [
    "def compute_c_depth(graph):\n",
    "    \"\"\"Compute the covering depth (c-depth) for the graph.\"\"\"\n",
    "    max_bfs_depth = 0\n",
    "    for edge in graph.edges():\n",
    "        depth = edge_bfs_depth(graph, edge)\n",
    "        max_bfs_depth = max(max_bfs_depth, depth)\n",
    "    return max_bfs_depth"
   ]
  },
  {
   "cell_type": "code",
   "execution_count": 30,
   "metadata": {
    "ExecuteTime": {
     "end_time": "2025-06-24T17:24:01.205117Z",
     "start_time": "2025-06-24T17:24:01.202546Z"
    }
   },
   "outputs": [],
   "source": [
    "def sweep_qaoa_p_levels(graph, max_colors, max_iter, shots):\n",
    "\n",
    "\n",
    "    start_time = time.perf_counter()\n",
    "    try:\n",
    "        p_level = 3\n",
    "        logger.info(f\"\\nRunning QAOA with p={p_level}, Node: {graph.number_of_nodes()}_1, Color: {shots}\")\n",
    "\n",
    "        num_vertices, num_colors, real_execution_time, _coloring, found_after = run_qaoa_with_retry(\n",
    "            graph, max_colors=max_colors, p=p_level, max_iter=max_iter, shots=shots\n",
    "        )\n",
    "\n",
    "        end_time = time.perf_counter()\n",
    "        total_time = end_time - start_time\n",
    "\n",
    "        remapped_coloring, actual_colors_used = remap_colors(_coloring)\n",
    "\n",
    "        update_experiment_data(num_vertices, \"real_execution_time\", str(real_execution_time))\n",
    "        update_experiment_data(num_vertices, \"found_after\", str(found_after))\n",
    "        update_experiment_data(num_vertices, \"total_time\", str(total_time))\n",
    "        update_experiment_data(num_vertices, \"p_level\", str(p_level))\n",
    "        update_experiment_data(num_vertices, \"no_of_colors_allowed\", str(num_colors))\n",
    "        update_experiment_data(num_vertices, \"no_of_colors_actually_used\", str(actual_colors_used))\n",
    "        update_experiment_data(num_vertices, \"remapped_coloring\", str(remapped_coloring))\n",
    "\n",
    "        # Plot the solution for each p\n",
    "        plot_coloring(graph, remapped_coloring, actual_colors_used)\n",
    "\n",
    "    except ValueError as e:\n",
    "        end_time = time.perf_counter()\n",
    "        total_time = end_time - start_time\n",
    "        logger.info(f\"Failed for p={p_level}: {e} (Time: {total_time:.4f} s)\")\n",
    "\n"
   ]
  },
  {
   "cell_type": "code",
   "execution_count": 31,
   "metadata": {
    "ExecuteTime": {
     "end_time": "2025-06-24T18:30:10.392215Z",
     "start_time": "2025-06-24T17:24:01.211949Z"
    }
   },
   "outputs": [
    {
     "data": {
      "image/png": "[encoded data removed]",
      "text/plain": [
       "<Figure size 640x480 with 1 Axes>"
      ]
     },
     "metadata": {},
     "output_type": "display_data"
    },
    {
     "name": "stdout",
     "output_type": "stream",
     "text": [
      "2025-08-12 10:57:31,429 - __main__ - INFO - \n",
      "Running QAOA with p=3, Node: 4_1, Color: 1024\n",
      "2025-08-12 10:57:31,431 - __main__ - INFO - \n",
      " +++++++++++++++++++ Node: 4, Color: +++++++++++++++++++  2\n"
     ]
    },
    {
     "name": "stderr",
     "output_type": "stream",
     "text": [
      "c:\\Users\\ishwa\\OneDrive\\Documents\\QAOA_vs_classical\\.venv\\Lib\\site-packages\\qiskit_ibm_runtime\\api\\auth.py:67: UserWarning: Unable to retrieve IBM Cloud access token. API Key will be used instead. Error: Provided API key could not be found., Status code: 400\n",
      "  warnings.warn(\n",
      "qiskit_runtime_service._discover_backends_from_instance:WARNING:2025-08-12 10:58:23,028: Invalid instance crn:v1:bluemix:public:quantum-computing:us-east:a/d5ba3c21e3704d638c6d787499a21bee:45134296-8d27-4c51-8648-515d9a10bc46::\n"
     ]
    },
    {
     "ename": "QiskitBackendNotFoundError",
     "evalue": "'No backend matches the criteria.'",
     "output_type": "error",
     "traceback": [
      "\u001b[31m---------------------------------------------------------------------------\u001b[39m",
      "\u001b[31mQiskitBackendNotFoundError\u001b[39m                Traceback (most recent call last)",
      "\u001b[36mCell\u001b[39m\u001b[36m \u001b[39m\u001b[32mIn[31]\u001b[39m\u001b[32m, line 5\u001b[39m\n\u001b[32m      3\u001b[39m nx.draw(G, with_labels=\u001b[38;5;28;01mTrue\u001b[39;00m)\n\u001b[32m      4\u001b[39m plt.show()\n\u001b[32m----> \u001b[39m\u001b[32m5\u001b[39m \u001b[43msweep_qaoa_p_levels\u001b[49m\u001b[43m(\u001b[49m\u001b[43mG\u001b[49m\u001b[43m,\u001b[49m\u001b[43m \u001b[49m\u001b[43mmax_colors\u001b[49m\u001b[43m=\u001b[49m\u001b[43mmax_color_possible\u001b[49m\u001b[43m,\u001b[49m\u001b[43m \u001b[49m\u001b[43mmax_iter\u001b[49m\u001b[43m=\u001b[49m\u001b[32;43m100\u001b[39;49m\u001b[43m,\u001b[49m\u001b[43m \u001b[49m\u001b[43mshots\u001b[49m\u001b[43m=\u001b[49m\u001b[32;43m1024\u001b[39;49m\u001b[43m)\u001b[49m\n",
      "\u001b[36mCell\u001b[39m\u001b[36m \u001b[39m\u001b[32mIn[30]\u001b[39m\u001b[32m, line 9\u001b[39m, in \u001b[36msweep_qaoa_p_levels\u001b[39m\u001b[34m(graph, max_colors, max_iter, shots)\u001b[39m\n\u001b[32m      6\u001b[39m p_level = \u001b[32m3\u001b[39m\n\u001b[32m      7\u001b[39m logger.info(\u001b[33mf\u001b[39m\u001b[33m\"\u001b[39m\u001b[38;5;130;01m\\n\u001b[39;00m\u001b[33mRunning QAOA with p=\u001b[39m\u001b[38;5;132;01m{\u001b[39;00mp_level\u001b[38;5;132;01m}\u001b[39;00m\u001b[33m, Node: \u001b[39m\u001b[38;5;132;01m{\u001b[39;00mgraph.number_of_nodes()\u001b[38;5;132;01m}\u001b[39;00m\u001b[33m_1, Color: \u001b[39m\u001b[38;5;132;01m{\u001b[39;00mshots\u001b[38;5;132;01m}\u001b[39;00m\u001b[33m\"\u001b[39m)\n\u001b[32m----> \u001b[39m\u001b[32m9\u001b[39m num_vertices, num_colors, real_execution_time, _coloring, found_after = \u001b[43mrun_qaoa_with_retry\u001b[49m\u001b[43m(\u001b[49m\n\u001b[32m     10\u001b[39m \u001b[43m    \u001b[49m\u001b[43mgraph\u001b[49m\u001b[43m,\u001b[49m\u001b[43m \u001b[49m\u001b[43mmax_colors\u001b[49m\u001b[43m=\u001b[49m\u001b[43mmax_colors\u001b[49m\u001b[43m,\u001b[49m\u001b[43m \u001b[49m\u001b[43mp\u001b[49m\u001b[43m=\u001b[49m\u001b[43mp_level\u001b[49m\u001b[43m,\u001b[49m\u001b[43m \u001b[49m\u001b[43mmax_iter\u001b[49m\u001b[43m=\u001b[49m\u001b[43mmax_iter\u001b[49m\u001b[43m,\u001b[49m\u001b[43m \u001b[49m\u001b[43mshots\u001b[49m\u001b[43m=\u001b[49m\u001b[43mshots\u001b[49m\n\u001b[32m     11\u001b[39m \u001b[43m\u001b[49m\u001b[43m)\u001b[49m\n\u001b[32m     13\u001b[39m end_time = time.perf_counter()\n\u001b[32m     14\u001b[39m total_time = end_time - start_time\n",
      "\u001b[36mCell\u001b[39m\u001b[36m \u001b[39m\u001b[32mIn[20]\u001b[39m\u001b[32m, line 9\u001b[39m, in \u001b[36mrun_qaoa_with_retry\u001b[39m\u001b[34m(graph, max_colors, p, max_iter, shots)\u001b[39m\n\u001b[32m      6\u001b[39m logger.info(\u001b[33mf\u001b[39m\u001b[33m\"\u001b[39m\u001b[38;5;130;01m\\n\u001b[39;00m\u001b[33m +++++++++++++++++++ Node: \u001b[39m\u001b[38;5;132;01m{\u001b[39;00mnum_vertices\u001b[38;5;132;01m}\u001b[39;00m\u001b[33m, Color: +++++++++++++++++++  \u001b[39m\u001b[38;5;132;01m{\u001b[39;00mnum_colors\u001b[38;5;132;01m}\u001b[39;00m\u001b[33m\"\u001b[39m)\n\u001b[32m      8\u001b[39m cost_hamiltonian = create_qubo_hamiltonian(graph, num_colors)\n\u001b[32m----> \u001b[39m\u001b[32m9\u001b[39m real_execution_time, _best_bitstring, _final_counts  = \u001b[43mrun_qaoa\u001b[49m\u001b[43m(\u001b[49m\n\u001b[32m     10\u001b[39m \u001b[43m    \u001b[49m\u001b[43mgraph\u001b[49m\u001b[43m=\u001b[49m\u001b[43mgraph\u001b[49m\u001b[43m,\u001b[49m\u001b[43m \u001b[49m\u001b[43mp\u001b[49m\u001b[43m=\u001b[49m\u001b[43mp\u001b[49m\u001b[43m,\u001b[49m\u001b[43m \u001b[49m\u001b[43mmax_iter\u001b[49m\u001b[43m=\u001b[49m\u001b[43mmax_iter\u001b[49m\u001b[43m,\u001b[49m\u001b[43m \u001b[49m\u001b[43mshots\u001b[49m\u001b[43m=\u001b[49m\u001b[43mshots\u001b[49m\u001b[43m,\u001b[49m\u001b[43m \u001b[49m\u001b[43mcost_hamiltonian\u001b[49m\u001b[43m=\u001b[49m\u001b[43mcost_hamiltonian\u001b[49m\n\u001b[32m     11\u001b[39m \u001b[43m\u001b[49m\u001b[43m)\u001b[49m\n\u001b[32m     12\u001b[39m \u001b[38;5;28mprint\u001b[39m(\u001b[33mf\u001b[39m\u001b[33m\"\u001b[39m\u001b[33mbest bitstring is ----- \u001b[39m\u001b[38;5;132;01m{\u001b[39;00m_best_bitstring\u001b[38;5;132;01m}\u001b[39;00m\u001b[33m\"\u001b[39m)\n\u001b[32m     13\u001b[39m _coloring, valid = decode_binary_coloring(_best_bitstring, num_vertices, num_colors)\n",
      "\u001b[36mCell\u001b[39m\u001b[36m \u001b[39m\u001b[32mIn[18]\u001b[39m\u001b[32m, line 17\u001b[39m, in \u001b[36mrun_qaoa\u001b[39m\u001b[34m(graph, cost_hamiltonian, p, max_iter, shots)\u001b[39m\n\u001b[32m     15\u001b[39m quantum_circuit = QAOAAnsatz(cost_operator=cost_hamiltonian, reps=p)\n\u001b[32m     16\u001b[39m \u001b[38;5;28;01mif\u001b[39;00m do_simulate:\n\u001b[32m---> \u001b[39m\u001b[32m17\u001b[39m     backend_for_simulator = \u001b[43mservice\u001b[49m\u001b[43m.\u001b[49m\u001b[43mleast_busy\u001b[49m\u001b[43m(\u001b[49m\n\u001b[32m     18\u001b[39m \u001b[43m        \u001b[49m\u001b[43moperational\u001b[49m\u001b[43m=\u001b[49m\u001b[38;5;28;43;01mTrue\u001b[39;49;00m\u001b[43m,\u001b[49m\u001b[43m \u001b[49m\u001b[43msimulator\u001b[49m\u001b[43m=\u001b[49m\u001b[38;5;28;43;01mFalse\u001b[39;49;00m\u001b[43m,\u001b[49m\u001b[43m \u001b[49m\u001b[43mmin_num_qubits\u001b[49m\u001b[43m=\u001b[49m\u001b[43mgraph\u001b[49m\u001b[43m.\u001b[49m\u001b[43mnumber_of_nodes\u001b[49m\u001b[43m(\u001b[49m\u001b[43m)\u001b[49m\u001b[43m,\u001b[49m\n\u001b[32m     19\u001b[39m \u001b[43m    \u001b[49m\u001b[43m)\u001b[49m\n\u001b[32m     20\u001b[39m     _backend = AerSimulator.from_backend(backend_for_simulator)\n\u001b[32m     21\u001b[39m \u001b[38;5;28;01melse\u001b[39;00m:\n",
      "\u001b[36mFile \u001b[39m\u001b[32mc:\\Users\\ishwa\\OneDrive\\Documents\\QAOA_vs_classical\\.venv\\Lib\\site-packages\\qiskit_ibm_runtime\\qiskit_runtime_service.py:1443\u001b[39m, in \u001b[36mQiskitRuntimeService.least_busy\u001b[39m\u001b[34m(self, min_num_qubits, instance, filters, **kwargs)\u001b[39m\n\u001b[32m   1441\u001b[39m     candidates.append(back)\n\u001b[32m   1442\u001b[39m \u001b[38;5;28;01mif\u001b[39;00m \u001b[38;5;129;01mnot\u001b[39;00m candidates:\n\u001b[32m-> \u001b[39m\u001b[32m1443\u001b[39m     \u001b[38;5;28;01mraise\u001b[39;00m QiskitBackendNotFoundError(\u001b[33m\"\u001b[39m\u001b[33mNo backend matches the criteria.\u001b[39m\u001b[33m\"\u001b[39m)\n\u001b[32m   1444\u001b[39m \u001b[38;5;28;01mreturn\u001b[39;00m \u001b[38;5;28mmin\u001b[39m(candidates, key=\u001b[38;5;28;01mlambda\u001b[39;00m b: b.status().pending_jobs)\n",
      "\u001b[31mQiskitBackendNotFoundError\u001b[39m: 'No backend matches the criteria.'"
     ]
    }
   ],
   "source": [
    "for num_nodes in range(node_start, node_end):\n",
    "    G = generate_graph(num_nodes=num_nodes, seed=32)\n",
    "    nx.draw(G, with_labels=True)\n",
    "    plt.show()\n",
    "    sweep_qaoa_p_levels(G, max_colors=max_color_possible, max_iter=100, shots=1024)\n"
   ]
  },
  {
   "cell_type": "code",
   "execution_count": null,
   "metadata": {
    "ExecuteTime": {
     "end_time": "2025-06-24T18:30:10.516290Z",
     "start_time": "2025-06-24T18:30:10.511771Z"
    }
   },
   "outputs": [],
   "source": []
  }
 ],
 "metadata": {
  "kernelspec": {
   "display_name": ".venv",
   "language": "python",
   "name": "python3"
  },
  "language_info": {
   "codemirror_mode": {
    "name": "ipython",
    "version": 3
   },
   "file_extension": ".py",
   "mimetype": "text/x-python",
   "name": "python",
   "nbconvert_exporter": "python",
   "pygments_lexer": "ipython3",
   "version": "3.12.6"
  }
 },
 "nbformat": 4,
 "nbformat_minor": 2
}
