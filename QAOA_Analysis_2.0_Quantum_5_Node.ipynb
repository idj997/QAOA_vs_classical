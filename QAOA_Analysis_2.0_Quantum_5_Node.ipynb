{
 "cells": [
  {
   "cell_type": "code",
   "metadata": {
    "ExecuteTime": {
     "end_time": "2025-06-24T18:37:39.935312Z",
     "start_time": "2025-06-24T18:37:38.677726Z"
    }
   },
   "source": [
    "import networkx as nx\n",
    "import matplotlib.pyplot as plt\n",
    "from networkx.algorithms import coloring\n",
    "from qiskit.quantum_info import SparsePauliOp, Pauli\n",
    "from qiskit.circuit.library import QAOAAnsatz\n",
    "import time\n",
    "from qiskit_ibm_runtime import QiskitRuntimeService, SamplerV2 as Sampler\n",
    "import time\n",
    "import logging\n",
    "import sys\n",
    "\n",
    "# Configure logging for Jupyter\n",
    "logging.basicConfig(\n",
    "    level=logging.INFO,\n",
    "    format='%(asctime)s - %(name)s - %(levelname)s - %(message)s',\n",
    "    handlers=[\n",
    "        logging.StreamHandler(sys.stdout)  # Output to notebook cell\n",
    "    ]\n",
    ")\n",
    "\n",
    "logger = logging.getLogger(__name__)\n",
    "logging.getLogger('qiskit').setLevel(logging.WARNING)\n"
   ],
   "outputs": [],
   "execution_count": 1
  },
  {
   "metadata": {
    "ExecuteTime": {
     "end_time": "2025-06-24T18:37:39.944820Z",
     "start_time": "2025-06-24T18:37:39.942539Z"
    }
   },
   "cell_type": "code",
   "source": [
    "node_start = 5\n",
    "node_end = 6\n",
    "max_color_possible = 5\n",
    "do_simulate = False"
   ],
   "outputs": [],
   "execution_count": 2
  },
  {
   "cell_type": "code",
   "metadata": {
    "ExecuteTime": {
     "end_time": "2025-06-24T18:37:39.954044Z",
     "start_time": "2025-06-24T18:37:39.949920Z"
    }
   },
   "source": [
    "\n",
    "QiskitRuntimeService.delete_account()\n",
    "#\n",
    "QiskitRuntimeService.save_account(channel='ibm_quantum', instance='ibm-q/open/main', token='f03a9c375d44f0b93a1505bf31d0f42e7a39aa8360404f2d01633e04f461e8da12fd9a091e2eff4b8b10c73d98228baaba6adbcf7cd9e1a1bee6b20b99b78605', overwrite=True)\n",
    "\n",
    "# QiskitRuntimeService.save_account(token=\"tEH4qCQyK2sfiXgHyL4vOxku8LUcqSLa0lwg_0zzKS8O\", instance=\"crn:v1:bluemix:public:quantum-computing:us-east:a/0d5f2945f5c44fd6a69d8a9dd034808c:2e832f3b-b7a7-466c-b735-53a9ed77d94b::\", overwrite=True)"
   ],
   "outputs": [],
   "execution_count": 3
  },
  {
   "cell_type": "code",
   "metadata": {
    "ExecuteTime": {
     "end_time": "2025-06-24T18:37:50.448388Z",
     "start_time": "2025-06-24T18:37:39.957862Z"
    }
   },
   "source": [
    "service = QiskitRuntimeService()\n",
    "#\n",
    "for backend in service.backends(simulator=False, operational=True):\n",
    "    logger.info(f\"{backend.name} – {backend.configuration().num_qubits} qubits\")"
   ],
   "outputs": [
    {
     "name": "stderr",
     "output_type": "stream",
     "text": [
      "/var/folders/j_/6x8b_dk9253_tf1dd1vvw84r0000gn/T/ipykernel_4543/3343055937.py:1: DeprecationWarning: The \"ibm_quantum\" channel option is deprecated and will be sunset on 1 July. After this date, \"ibm_cloud\", \"ibm_quantum_platform\", and \"local\" will be the only valid channels. Open Plan users should migrate now.  All other users should review the migration guide (https://quantum.cloud.ibm.com/docs/migration-guides/classic-iqp-to-cloud-iqp)to learn when to migrate.\n",
      "  service = QiskitRuntimeService()\n"
     ]
    },
    {
     "name": "stdout",
     "output_type": "stream",
     "text": [
      "2025-06-24 19:37:50,442 - __main__ - INFO - ibm_brisbane – 127 qubits\n",
      "2025-06-24 19:37:50,444 - __main__ - INFO - ibm_sherbrooke – 127 qubits\n"
     ]
    }
   ],
   "execution_count": 4
  },
  {
   "cell_type": "code",
   "metadata": {
    "ExecuteTime": {
     "end_time": "2025-06-24T18:37:50.480694Z",
     "start_time": "2025-06-24T18:37:50.477148Z"
    }
   },
   "source": [
    "def generate_graph(num_nodes, edge_prob=0.5, seed=32):\n",
    "    return nx.erdos_renyi_graph(num_nodes, edge_prob, seed=seed)"
   ],
   "outputs": [],
   "execution_count": 5
  },
  {
   "cell_type": "code",
   "metadata": {
    "ExecuteTime": {
     "end_time": "2025-06-24T18:37:50.495588Z",
     "start_time": "2025-06-24T18:37:50.489748Z"
    }
   },
   "source": [
    "import numpy as np\n",
    "\n",
    "# QUBO conversion and Hamiltonian construction\n",
    "def create_qubo_hamiltonian(graph, num_colors):\n",
    "    num_nodes = graph.number_of_nodes()\n",
    "    Q = np.zeros((num_nodes * num_colors, num_nodes * num_colors))\n",
    "    for i in range(num_nodes):\n",
    "        for c in range(num_colors):\n",
    "            Q[i * num_colors + c, i * num_colors + c] -= 1\n",
    "            for cp in range(c + 1, num_colors):\n",
    "                Q[i * num_colors + c, i * num_colors + cp] += 2\n",
    "    for i, j in graph.edges():\n",
    "        for c in range(num_colors):\n",
    "            Q[i * num_colors + c, j * num_colors + c] += 1\n",
    "    Q = 0.5 * (Q + Q.T)\n",
    "    linear = np.diag(Q)\n",
    "    quadratic = Q - np.diag(linear)\n",
    "    h = {i: linear[i] for i in range(len(linear))}\n",
    "    J = {(i, j): quadratic[i, j] for i in range(len(linear)) for j in range(i + 1, len(linear)) if quadratic[i, j] != 0}\n",
    "    \n",
    "    pauli_list = []\n",
    "    for (i, j), weight in J.items():\n",
    "        z_p = np.zeros(len(linear), dtype=bool)\n",
    "        x_p = np.zeros(len(linear), dtype=bool)\n",
    "        z_p[i] = True\n",
    "        z_p[j] = True\n",
    "        pauli_list.append((Pauli((z_p, x_p)), weight))\n",
    "    for i, weight in h.items():\n",
    "        z_p = np.zeros(len(linear), dtype=bool)\n",
    "        x_p = np.zeros(len(linear), dtype=bool)\n",
    "        z_p[i] = True\n",
    "        pauli_list.append((Pauli((z_p, x_p)), weight))\n",
    "    hamiltonian = sum([SparsePauliOp.from_list([(pauli.to_label(), weight)]) for pauli, weight in pauli_list])\n",
    "    \n",
    "    return hamiltonian"
   ],
   "outputs": [],
   "execution_count": 6
  },
  {
   "cell_type": "code",
   "metadata": {
    "ExecuteTime": {
     "end_time": "2025-06-24T18:37:50.505504Z",
     "start_time": "2025-06-24T18:37:50.502880Z"
    }
   },
   "source": [
    "def is_valid_coloring(graph, coloring):\n",
    "    \"\"\"Return True if no adjacent vertices share the same color and all nodes are assigned valid colors.\"\"\"\n",
    "    for u, v in graph.edges():\n",
    "        if coloring[u] == coloring[v]:\n",
    "            return False\n",
    "\n",
    "    if len(set(coloring)) > max_color_possible:\n",
    "        return False\n",
    "\n",
    "    return True\n"
   ],
   "outputs": [],
   "execution_count": 7
  },
  {
   "metadata": {
    "ExecuteTime": {
     "end_time": "2025-06-24T18:37:50.511099Z",
     "start_time": "2025-06-24T18:37:50.508497Z"
    }
   },
   "cell_type": "code",
   "source": [
    "def extract_relevant_bits(full_counts, layout, num_logical_qubits):\n",
    "    \"\"\"Extract only the bits corresponding to logical qubits from full measurement results\"\"\"\n",
    "    extracted_counts = {}\n",
    "\n",
    "    for bitstring, count in full_counts.items():\n",
    "        # Extract only the bits we care about based on the layout\n",
    "        relevant_bits = \"\"\n",
    "        for i in range(num_logical_qubits):\n",
    "            # Get the physical qubit index for logical qubit i\n",
    "            physical_qubit = layout.initial_layout[i]\n",
    "            # Extract the bit at that position (bitstrings are reversed in Qiskit)\n",
    "            bit_index = len(bitstring) - 1 - physical_qubit._index\n",
    "            relevant_bits += bitstring[bit_index]\n",
    "\n",
    "        # Accumulate counts for the same relevant bitstring\n",
    "        if relevant_bits in extracted_counts:\n",
    "            extracted_counts[relevant_bits] += count\n",
    "        else:\n",
    "            extracted_counts[relevant_bits] = count\n",
    "\n",
    "    return extracted_counts"
   ],
   "outputs": [],
   "execution_count": 8
  },
  {
   "cell_type": "code",
   "metadata": {
    "ExecuteTime": {
     "end_time": "2025-06-24T18:37:50.671084Z",
     "start_time": "2025-06-24T18:37:50.514865Z"
    }
   },
   "source": [
    "import numpy as np\n",
    "from scipy.optimize import minimize\n",
    "from qiskit.circuit.library import QAOAAnsatz\n",
    "from qiskit.transpiler import generate_preset_pass_manager\n",
    "from qiskit_ibm_runtime import SamplerV2 as Sampler, EstimatorV2 as Estimator\n",
    "from qiskit.quantum_info import Pauli, SparsePauliOp\n",
    "from qiskit_aer.primitives import SamplerV2 as aersampler\n",
    "import time\n",
    "\n",
    "from qiskit_aer import AerSimulator\n",
    "\n",
    "def run_qaoa(graph, cost_hamiltonian, p, max_iter, shots):\n",
    "\n",
    "    # Create QAOA ansatz\n",
    "    quantum_circuit = QAOAAnsatz(cost_operator=cost_hamiltonian, reps=p)\n",
    "    if do_simulate:\n",
    "        backend_for_simulator = service.least_busy(\n",
    "            operational=True, simulator=False, min_num_qubits=graph.number_of_nodes(),\n",
    "        )\n",
    "        _backend = AerSimulator.from_backend(backend_for_simulator)\n",
    "    else:\n",
    "        _backend = service.least_busy(\n",
    "            operational=True, simulator=False, min_num_qubits=graph.number_of_nodes(),\n",
    "        )\n",
    "\n",
    "    logger.info(_backend)\n",
    "\n",
    "    # Transpile circuit and get the mapping\n",
    "    pm = generate_preset_pass_manager(backend=_backend, optimization_level=3, seed_transpiler=42)\n",
    "    isa_circuit = pm.run(quantum_circuit)\n",
    "    layout = isa_circuit.layout\n",
    "    num_logical_qubits = quantum_circuit.num_qubits\n",
    "\n",
    "    # Initialize estimator\n",
    "    estimator = Estimator(_backend)\n",
    "    estimator.options.resilience_level = 0\n",
    "    estimator.options.default_shots = 500\n",
    "\n",
    "    objective_func_vals = [] # Global variable\n",
    "    def cost_func_estimator(params, ansatz, hamiltonian, _estimator):\n",
    "        isa_hamiltonian = hamiltonian.apply_layout(ansatz.layout)\n",
    "\n",
    "        pub = (ansatz, isa_hamiltonian, params)\n",
    "        job = _estimator.run([pub])\n",
    "\n",
    "        results = job.result()[0]\n",
    "        cost = results.data.evs\n",
    "        objective_func_vals.append(cost)\n",
    "        return cost\n",
    "\n",
    "    # Initialize parameters randomly\n",
    "    num_params = quantum_circuit.num_parameters\n",
    "    initial_params = np.random.uniform(-np.pi/6, np.pi/6, num_params)\n",
    "\n",
    "    optimization_options = {\n",
    "        'maxiter': max_iter,\n",
    "        'catol': 1e-6,\n",
    "        'disp': True\n",
    "    }\n",
    "\n",
    "    result = minimize(\n",
    "        cost_func_estimator,\n",
    "        initial_params,\n",
    "        args=(isa_circuit, cost_hamiltonian, estimator),\n",
    "        method='COBYLA',\n",
    "        options=optimization_options\n",
    "    )\n",
    "\n",
    "    sampler = Sampler(_backend)\n",
    "    optimal_circuit = isa_circuit.assign_parameters(result.x)\n",
    "    optimal_circuit.measure_active()\n",
    "\n",
    "    final_job = sampler.run([(optimal_circuit, None)])\n",
    "    final_result = final_job.result()\n",
    "\n",
    "    full_counts = final_result[0].data.meas.get_counts()\n",
    "    final_counts = extract_relevant_bits(full_counts, layout, num_logical_qubits)\n",
    "\n",
    "    best_bitstring = max(final_counts, key=final_counts.get)\n",
    "\n",
    "    if not do_simulate:\n",
    "        real_execution_time = final_result.metadata['execution']['execution_spans'].duration\n",
    "        return real_execution_time, best_bitstring, final_counts\n",
    "    else:\n",
    "        return 0, best_bitstring, final_counts\n"
   ],
   "outputs": [],
   "execution_count": 9
  },
  {
   "cell_type": "code",
   "metadata": {
    "ExecuteTime": {
     "end_time": "2025-06-24T18:37:50.676778Z",
     "start_time": "2025-06-24T18:37:50.674303Z"
    }
   },
   "source": [
    "def decode_binary_coloring(bitstring, num_vertices, num_colors):\n",
    "    \"\"\"\n",
    "    Decodes a binary-encoded QAOA bitstring into color assignments for each vertex.\n",
    "    Returns:\n",
    "        coloring (list): List of assigned color indices for each vertex.\n",
    "        valid (bool): True if all assignments are valid, False otherwise.\n",
    "    \"\"\"\n",
    "    bits_per_node = int(len(bitstring)/num_vertices)\n",
    "    coloring = []\n",
    "    valid = True\n",
    "\n",
    "    for v in range(num_vertices):\n",
    "        start = v * bits_per_node\n",
    "        end = start + bits_per_node\n",
    "        color_bits = bitstring[start:end]\n",
    "        color_idx = int(color_bits, 2)\n",
    "        coloring.append(color_idx)\n",
    "    return coloring, valid\n"
   ],
   "outputs": [],
   "execution_count": 10
  },
  {
   "cell_type": "code",
   "metadata": {
    "ExecuteTime": {
     "end_time": "2025-06-24T18:37:50.682449Z",
     "start_time": "2025-06-24T18:37:50.679668Z"
    }
   },
   "source": [
    "\n",
    "def run_qaoa_with_retry(graph, max_colors, p, max_iter, shots):\n",
    "    num_vertices = len(graph.nodes)\n",
    "    _iter = 0\n",
    "    for num_colors in range(2, max_colors + 1):\n",
    "\n",
    "        logger.info(f\"\\n +++++++++++++++++++ Node: {num_vertices}, Color: +++++++++++++++++++  {num_colors}\")\n",
    "\n",
    "        cost_hamiltonian = create_qubo_hamiltonian(graph, num_colors)\n",
    "        real_execution_time, _best_bitstring, _final_counts  = run_qaoa(\n",
    "            graph=graph, p=p, max_iter=max_iter, shots=shots, cost_hamiltonian=cost_hamiltonian\n",
    "        )\n",
    "        print(f\"best bitstring is ----- {_best_bitstring}\")\n",
    "        _coloring, valid = decode_binary_coloring(_best_bitstring, num_vertices, num_colors)\n",
    "        print(f\"best coloring is ----- {_coloring}\")\n",
    "        if valid and is_valid_coloring(graph, _coloring):\n",
    "            return num_vertices, num_colors, real_execution_time, _coloring, _iter\n",
    "        else:\n",
    "            _iter+=1\n",
    "\n",
    "        # Optionally: logger.info diagnostic info\n",
    "        # logging.error(f\"Attempt with {num_colors} colors failed. Coloring: {_coloring}, Valid: {valid}\")\n",
    "\n",
    "    raise ValueError(f\"No valid coloring found with ≤ {max_colors} colors\")\n"
   ],
   "outputs": [],
   "execution_count": 11
  },
  {
   "cell_type": "code",
   "metadata": {
    "ExecuteTime": {
     "end_time": "2025-06-24T18:37:50.690237Z",
     "start_time": "2025-06-24T18:37:50.686798Z"
    }
   },
   "source": [
    "# def dsatur_coloring(graph):\n",
    "#     coloring = {}\n",
    "#     saturation_degrees = {node: 0 for node in graph.nodes()}\n",
    "#     available_colors = [True] * len(graph.nodes())\n",
    "#     iterations = 0\n",
    "#     while len(coloring) < len(graph.nodes()):\n",
    "#         iterations += 1\n",
    "#         uncolored_nodes = [node for node in graph.nodes() if node not in coloring]\n",
    "#         max_saturation = -1\n",
    "#         selected_node = None\n",
    "#         for node in uncolored_nodes:\n",
    "#             if saturation_degrees[node] > max_saturation:\n",
    "#                 max_saturation = saturation_degrees[node]\n",
    "#                 selected_node = node\n",
    "#             elif saturation_degrees[node] == max_saturation:\n",
    "#                 if selected_node is None or graph.degree[node] > graph.degree[selected_node]:\n",
    "#                     selected_node = node\n",
    "#         neighbor_colors = {coloring[neighbor] for neighbor in graph.neighbors(selected_node) if neighbor in coloring}\n",
    "#         for color in range(len(available_colors)):\n",
    "#             if color not in neighbor_colors:\n",
    "#                 coloring[selected_node] = color\n",
    "#                 break\n",
    "#         for neighbor in graph.neighbors(selected_node):\n",
    "#             if neighbor not in coloring:\n",
    "#                 saturation_degrees[neighbor] += 1\n",
    "#     return coloring, iterations"
   ],
   "outputs": [],
   "execution_count": 12
  },
  {
   "cell_type": "code",
   "metadata": {
    "ExecuteTime": {
     "end_time": "2025-06-24T18:37:50.694978Z",
     "start_time": "2025-06-24T18:37:50.693188Z"
    }
   },
   "source": [
    "# def run_dsatur(graph):\n",
    "#     start_time = time.time()\n",
    "#     _, classical_iter = dsatur_coloring(graph)\n",
    "#     classical_time = time.time() - start_time\n",
    "#     return classical_time, classical_iter\n"
   ],
   "outputs": [],
   "execution_count": 13
  },
  {
   "cell_type": "code",
   "metadata": {
    "ExecuteTime": {
     "end_time": "2025-06-24T18:37:50.701928Z",
     "start_time": "2025-06-24T18:37:50.698051Z"
    }
   },
   "source": [
    "\n",
    "import json\n",
    "import os\n",
    "from typing import List, Dict, Any, Optional\n",
    "\n",
    "def update_experiment_data(\n",
    "    num_node: int,\n",
    "    data_key: str,\n",
    "    data_value: str,\n",
    "    filename: str = 'experiment_data.json'\n",
    ") -> Dict[str, Any]:\n",
    "\n",
    "    experiment_data = _load_experiment_data(filename)\n",
    "    num_nodes_str = str(num_node)\n",
    "\n",
    "    # Create entry for this number of nodes if it doesn't exist\n",
    "    if num_nodes_str not in experiment_data[\"experiment_data\"]:\n",
    "        experiment_data[\"experiment_data\"][num_nodes_str] = {}\n",
    "\n",
    "    # Update the data\n",
    "    experiment_data[\"experiment_data\"][num_nodes_str][data_key] = data_value\n",
    "\n",
    "    # Save updated data back to JSON file\n",
    "    _save_experiment_data(experiment_data, filename)\n",
    "    return experiment_data\n",
    "\n",
    "\n",
    "def _load_experiment_data(filename: str) -> Dict[str, Any]:\n",
    "    if os.path.exists(filename):\n",
    "        try:\n",
    "            with open(filename, 'r') as f:\n",
    "                experiment_data = json.load(f)\n",
    "        except (json.JSONDecodeError, IOError) as e:\n",
    "            experiment_data = {\"experiment_data\": {}}\n",
    "    else:\n",
    "        experiment_data = {\"experiment_data\": {}}\n",
    "\n",
    "    if \"experiment_data\" not in experiment_data:\n",
    "        experiment_data[\"experiment_data\"] = {}\n",
    "    return experiment_data\n",
    "\n",
    "\n",
    "def _save_experiment_data(experiment_data: Dict[str, Any], filename: str) -> None:\n",
    "    try:\n",
    "        with open(filename, 'w') as f:\n",
    "            json.dump(experiment_data, f, indent=2)\n",
    "    except IOError as e:\n",
    "        error_msg = f\"Error saving to {filename}: {e}\"\n",
    "        raise IOError(error_msg)\n"
   ],
   "outputs": [],
   "execution_count": 14
  },
  {
   "cell_type": "code",
   "metadata": {
    "ExecuteTime": {
     "end_time": "2025-06-24T18:37:50.707096Z",
     "start_time": "2025-06-24T18:37:50.705138Z"
    }
   },
   "source": [
    "# Initialize lists to store the results\n",
    "real_quantum_times = []\n",
    "num_nodes_list = []"
   ],
   "outputs": [],
   "execution_count": 15
  },
  {
   "cell_type": "code",
   "metadata": {
    "ExecuteTime": {
     "end_time": "2025-06-24T18:37:50.712193Z",
     "start_time": "2025-06-24T18:37:50.709763Z"
    }
   },
   "source": [
    "import time\n",
    "import matplotlib.pyplot as plt\n",
    "\n",
    "def plot_coloring(graph, coloring, num_colors):\n",
    "    pos = nx.spring_layout(graph)\n",
    "    cmap = plt.get_cmap('tab20', num_colors)\n",
    "    node_colors = [cmap(color) if color != -1 else (0.8, 0.8, 0.8) for color in coloring]\n",
    "    nx.draw(graph, pos, with_labels=True, node_color=node_colors, node_size=500, font_color='white')\n",
    "    plt.title(f'Graph Coloring with {num_colors} colors')\n",
    "    plt.show()"
   ],
   "outputs": [],
   "execution_count": 16
  },
  {
   "cell_type": "code",
   "metadata": {
    "ExecuteTime": {
     "end_time": "2025-06-24T18:37:50.718468Z",
     "start_time": "2025-06-24T18:37:50.716102Z"
    }
   },
   "source": [
    "def remap_colors(coloring):\n",
    "    unique_colors = sorted(set(coloring) - {-1})\n",
    "    color_map = {color: idx for idx, color in enumerate(unique_colors)}\n",
    "    remapped = [color_map[c] if c != -1 else -1 for c in coloring]\n",
    "    return remapped, len(unique_colors)"
   ],
   "outputs": [],
   "execution_count": 17
  },
  {
   "cell_type": "code",
   "metadata": {
    "ExecuteTime": {
     "end_time": "2025-06-24T18:37:50.723962Z",
     "start_time": "2025-06-24T18:37:50.721223Z"
    }
   },
   "source": [
    "def plot_coloring(graph, coloring, num_colors):\n",
    "    import networkx as nx\n",
    "    pos = nx.spring_layout(graph)\n",
    "    cmap = plt.get_cmap('tab20', num_colors)\n",
    "    node_colors = [cmap(color) if color != -1 else (0.8, 0.8, 0.8) for color in coloring]\n",
    "    nx.draw(graph, pos, with_labels=True, node_color=node_colors, node_size=500, font_color='white')\n",
    "    plt.title(f'Graph Coloring with {num_colors} colors')\n",
    "    plt.show()"
   ],
   "outputs": [],
   "execution_count": 18
  },
  {
   "cell_type": "code",
   "metadata": {
    "ExecuteTime": {
     "end_time": "2025-06-24T18:37:50.730509Z",
     "start_time": "2025-06-24T18:37:50.727724Z"
    }
   },
   "source": [
    "import networkx as nx\n",
    "from collections import deque\n",
    "\n",
    "def edge_bfs_depth(graph, edge):\n",
    "    \"\"\"Compute BFS depth starting from an edge (as a tuple of nodes).\"\"\"\n",
    "    visited_edges = set()\n",
    "    queue = deque([(edge, 0)])\n",
    "    max_depth = 0\n",
    "    while queue:\n",
    "        (u, v), depth = queue.popleft()\n",
    "        if (u, v) in visited_edges or (v, u) in visited_edges:\n",
    "            continue\n",
    "        visited_edges.add((u, v))\n",
    "        max_depth = max(max_depth, depth)\n",
    "        # Explore all edges adjacent to u or v\n",
    "        for neighbor in set(graph.neighbors(u)).union(graph.neighbors(v)):\n",
    "            if neighbor != u and neighbor != v:\n",
    "                for node in (u, v):\n",
    "                    if graph.has_edge(node, neighbor):\n",
    "                        queue.append(((node, neighbor), depth + 1))\n",
    "    return max_depth"
   ],
   "outputs": [],
   "execution_count": 19
  },
  {
   "cell_type": "code",
   "metadata": {
    "ExecuteTime": {
     "end_time": "2025-06-24T18:37:50.736297Z",
     "start_time": "2025-06-24T18:37:50.733980Z"
    }
   },
   "source": [
    "def compute_c_depth(graph):\n",
    "    \"\"\"Compute the covering depth (c-depth) for the graph.\"\"\"\n",
    "    max_bfs_depth = 0\n",
    "    for edge in graph.edges():\n",
    "        depth = edge_bfs_depth(graph, edge)\n",
    "        max_bfs_depth = max(max_bfs_depth, depth)\n",
    "    return max_bfs_depth"
   ],
   "outputs": [],
   "execution_count": 20
  },
  {
   "cell_type": "code",
   "metadata": {
    "ExecuteTime": {
     "end_time": "2025-06-24T18:37:50.742992Z",
     "start_time": "2025-06-24T18:37:50.740066Z"
    }
   },
   "source": [
    "def sweep_qaoa_p_levels(graph, max_colors, max_iter, shots):\n",
    "\n",
    "\n",
    "    start_time = time.perf_counter()\n",
    "    try:\n",
    "        p_level = 3\n",
    "        logger.info(f\"\\nRunning QAOA with p={p_level}, Node: {graph.number_of_nodes()}, Color: {shots}\")\n",
    "\n",
    "        num_vertices, num_colors, real_execution_time, _coloring, found_after = run_qaoa_with_retry(\n",
    "            graph, max_colors=max_colors, p=p_level, max_iter=max_iter, shots=shots\n",
    "        )\n",
    "\n",
    "        end_time = time.perf_counter()\n",
    "        total_time = end_time - start_time\n",
    "\n",
    "        remapped_coloring, actual_colors_used = remap_colors(_coloring)\n",
    "\n",
    "        update_experiment_data(num_vertices, \"real_execution_time\", str(real_execution_time))\n",
    "        update_experiment_data(num_vertices, \"found_after\", str(found_after))\n",
    "        update_experiment_data(num_vertices, \"total_time\", str(total_time))\n",
    "        update_experiment_data(num_vertices, \"p_level\", str(p_level))\n",
    "        update_experiment_data(num_vertices, \"no_of_colors_allowed\", str(num_colors))\n",
    "        update_experiment_data(num_vertices, \"no_of_colors_actually_used\", str(actual_colors_used))\n",
    "        update_experiment_data(num_vertices, \"remapped_coloring\", str(remapped_coloring))\n",
    "\n",
    "        # Plot the solution for each p\n",
    "        plot_coloring(graph, remapped_coloring, actual_colors_used)\n",
    "\n",
    "    except ValueError as e:\n",
    "        end_time = time.perf_counter()\n",
    "        total_time = end_time - start_time\n",
    "        logger.info(f\"Failed for p={p_level}: {e} (Time: {total_time:.4f} s)\")\n",
    "\n"
   ],
   "outputs": [],
   "execution_count": 21
  },
  {
   "cell_type": "code",
   "metadata": {
    "ExecuteTime": {
     "end_time": "2025-06-24T20:51:03.757603Z",
     "start_time": "2025-06-24T18:37:50.746405Z"
    }
   },
   "source": [
    "for num_nodes in range(node_start, node_end):\n",
    "    G = generate_graph(num_nodes=num_nodes, seed=32)\n",
    "    nx.draw(G, with_labels=True)\n",
    "    plt.show()\n",
    "    sweep_qaoa_p_levels(G, max_colors=max_color_possible, max_iter=100, shots=1024)\n"
   ],
   "outputs": [
    {
     "data": {
      "text/plain": [
       "<Figure size 640x480 with 1 Axes>"
      ],
      "image/png": "[encoded data removed]"
     },
     "metadata": {},
     "output_type": "display_data"
    },
    {
     "name": "stdout",
     "output_type": "stream",
     "text": [
      "2025-06-24 19:37:50,795 - __main__ - INFO - \n",
      "Running QAOA with p=3, Node: 5, Color: 1024\n",
      "2025-06-24 19:37:50,795 - __main__ - INFO - \n",
      " +++++++++++++++++++ Node: 5, Color: +++++++++++++++++++  2\n",
      "2025-06-24 19:37:52,505 - __main__ - INFO - <IBMBackend('ibm_brisbane')>\n"
     ]
    },
    {
     "name": "stderr",
     "output_type": "stream",
     "text": [
      "base_primitive._run:INFO:2025-06-24 19:37:56,512: Submitting job using options {'options': {'default_shots': 500}, 'version': 2, 'support_qiskit': True, 'resilience_level': 0}\n",
      "/Users/utkarshsharma/PycharmProjects/QAOA_vs_classical/.venv/lib/python3.11/site-packages/qiskit_ibm_runtime/qiskit_runtime_service.py:1129: UserWarning: IBM Quantum Platform is moving, and this version will be sunset on July 1. To get started on the new platform, read the migration guide at https://docs.quantum.ibm.com/migration-guides/classic-iqp-to-cloud-iqp\n",
      "  warnings.warn(warning_message)\n",
      "base_primitive._run:INFO:2025-06-24 19:38:08,547: Submitting job using options {'options': {'default_shots': 500}, 'version': 2, 'support_qiskit': True, 'resilience_level': 0}\n",
      "base_primitive._run:INFO:2025-06-24 19:38:19,753: Submitting job using options {'options': {'default_shots': 500}, 'version': 2, 'support_qiskit': True, 'resilience_level': 0}\n",
      "base_primitive._run:INFO:2025-06-24 19:38:31,557: Submitting job using options {'options': {'default_shots': 500}, 'version': 2, 'support_qiskit': True, 'resilience_level': 0}\n",
      "base_primitive._run:INFO:2025-06-24 19:38:42,301: Submitting job using options {'options': {'default_shots': 500}, 'version': 2, 'support_qiskit': True, 'resilience_level': 0}\n",
      "base_primitive._run:INFO:2025-06-24 19:38:54,088: Submitting job using options {'options': {'default_shots': 500}, 'version': 2, 'support_qiskit': True, 'resilience_level': 0}\n",
      "base_primitive._run:INFO:2025-06-24 19:39:05,317: Submitting job using options {'options': {'default_shots': 500}, 'version': 2, 'support_qiskit': True, 'resilience_level': 0}\n",
      "base_primitive._run:INFO:2025-06-24 19:39:15,714: Submitting job using options {'options': {'default_shots': 500}, 'version': 2, 'support_qiskit': True, 'resilience_level': 0}\n",
      "base_primitive._run:INFO:2025-06-24 19:39:26,819: Submitting job using options {'options': {'default_shots': 500}, 'version': 2, 'support_qiskit': True, 'resilience_level': 0}\n",
      "base_primitive._run:INFO:2025-06-24 19:39:38,066: Submitting job using options {'options': {'default_shots': 500}, 'version': 2, 'support_qiskit': True, 'resilience_level': 0}\n",
      "base_primitive._run:INFO:2025-06-24 19:39:49,212: Submitting job using options {'options': {'default_shots': 500}, 'version': 2, 'support_qiskit': True, 'resilience_level': 0}\n",
      "base_primitive._run:INFO:2025-06-24 19:40:00,190: Submitting job using options {'options': {'default_shots': 500}, 'version': 2, 'support_qiskit': True, 'resilience_level': 0}\n",
      "base_primitive._run:INFO:2025-06-24 19:40:11,156: Submitting job using options {'options': {'default_shots': 500}, 'version': 2, 'support_qiskit': True, 'resilience_level': 0}\n",
      "base_primitive._run:INFO:2025-06-24 19:40:22,085: Submitting job using options {'options': {'default_shots': 500}, 'version': 2, 'support_qiskit': True, 'resilience_level': 0}\n",
      "base_primitive._run:INFO:2025-06-24 19:40:32,880: Submitting job using options {'options': {'default_shots': 500}, 'version': 2, 'support_qiskit': True, 'resilience_level': 0}\n",
      "base_primitive._run:INFO:2025-06-24 19:40:43,481: Submitting job using options {'options': {'default_shots': 500}, 'version': 2, 'support_qiskit': True, 'resilience_level': 0}\n",
      "base_primitive._run:INFO:2025-06-24 19:40:54,056: Submitting job using options {'options': {'default_shots': 500}, 'version': 2, 'support_qiskit': True, 'resilience_level': 0}\n",
      "base_primitive._run:INFO:2025-06-24 19:41:05,251: Submitting job using options {'options': {'default_shots': 500}, 'version': 2, 'support_qiskit': True, 'resilience_level': 0}\n",
      "base_primitive._run:INFO:2025-06-24 19:41:16,017: Submitting job using options {'options': {'default_shots': 500}, 'version': 2, 'support_qiskit': True, 'resilience_level': 0}\n",
      "base_primitive._run:INFO:2025-06-24 19:41:26,241: Submitting job using options {'options': {'default_shots': 500}, 'version': 2, 'support_qiskit': True, 'resilience_level': 0}\n",
      "base_primitive._run:INFO:2025-06-24 19:41:37,072: Submitting job using options {'options': {'default_shots': 500}, 'version': 2, 'support_qiskit': True, 'resilience_level': 0}\n",
      "base_primitive._run:INFO:2025-06-24 19:41:48,655: Submitting job using options {'options': {'default_shots': 500}, 'version': 2, 'support_qiskit': True, 'resilience_level': 0}\n",
      "base_primitive._run:INFO:2025-06-24 19:42:00,997: Submitting job using options {'options': {'default_shots': 500}, 'version': 2, 'support_qiskit': True, 'resilience_level': 0}\n",
      "base_primitive._run:INFO:2025-06-24 19:42:11,465: Submitting job using options {'options': {'default_shots': 500}, 'version': 2, 'support_qiskit': True, 'resilience_level': 0}\n",
      "base_primitive._run:INFO:2025-06-24 19:42:22,066: Submitting job using options {'options': {'default_shots': 500}, 'version': 2, 'support_qiskit': True, 'resilience_level': 0}\n",
      "base_primitive._run:INFO:2025-06-24 19:42:33,133: Submitting job using options {'options': {'default_shots': 500}, 'version': 2, 'support_qiskit': True, 'resilience_level': 0}\n",
      "base_primitive._run:INFO:2025-06-24 19:42:43,982: Submitting job using options {'options': {'default_shots': 500}, 'version': 2, 'support_qiskit': True, 'resilience_level': 0}\n",
      "base_primitive._run:INFO:2025-06-24 19:42:55,178: Submitting job using options {'options': {'default_shots': 500}, 'version': 2, 'support_qiskit': True, 'resilience_level': 0}\n",
      "base_primitive._run:INFO:2025-06-24 19:43:05,877: Submitting job using options {'options': {'default_shots': 500}, 'version': 2, 'support_qiskit': True, 'resilience_level': 0}\n",
      "base_primitive._run:INFO:2025-06-24 19:43:16,510: Submitting job using options {'options': {'default_shots': 500}, 'version': 2, 'support_qiskit': True, 'resilience_level': 0}\n",
      "base_primitive._run:INFO:2025-06-24 19:43:26,711: Submitting job using options {'options': {'default_shots': 500}, 'version': 2, 'support_qiskit': True, 'resilience_level': 0}\n",
      "base_primitive._run:INFO:2025-06-24 19:43:38,228: Submitting job using options {'options': {'default_shots': 500}, 'version': 2, 'support_qiskit': True, 'resilience_level': 0}\n",
      "base_primitive._run:INFO:2025-06-24 19:43:48,893: Submitting job using options {'options': {'default_shots': 500}, 'version': 2, 'support_qiskit': True, 'resilience_level': 0}\n",
      "base_primitive._run:INFO:2025-06-24 19:44:00,466: Submitting job using options {'options': {'default_shots': 500}, 'version': 2, 'support_qiskit': True, 'resilience_level': 0}\n",
      "base_primitive._run:INFO:2025-06-24 19:44:11,065: Submitting job using options {'options': {'default_shots': 500}, 'version': 2, 'support_qiskit': True, 'resilience_level': 0}\n",
      "base_primitive._run:INFO:2025-06-24 19:44:21,058: Submitting job using options {'options': {'default_shots': 500}, 'version': 2, 'support_qiskit': True, 'resilience_level': 0}\n",
      "base_primitive._run:INFO:2025-06-24 19:44:32,142: Submitting job using options {'options': {'default_shots': 500}, 'version': 2, 'support_qiskit': True, 'resilience_level': 0}\n",
      "base_primitive._run:INFO:2025-06-24 19:44:42,686: Submitting job using options {'options': {'default_shots': 500}, 'version': 2, 'support_qiskit': True, 'resilience_level': 0}\n",
      "base_primitive._run:INFO:2025-06-24 19:44:53,105: Submitting job using options {'options': {'default_shots': 500}, 'version': 2, 'support_qiskit': True, 'resilience_level': 0}\n",
      "base_primitive._run:INFO:2025-06-24 19:45:03,742: Submitting job using options {'options': {'default_shots': 500}, 'version': 2, 'support_qiskit': True, 'resilience_level': 0}\n",
      "base_primitive._run:INFO:2025-06-24 19:45:14,392: Submitting job using options {'options': {'default_shots': 500}, 'version': 2, 'support_qiskit': True, 'resilience_level': 0}\n",
      "base_primitive._run:INFO:2025-06-24 19:45:26,859: Submitting job using options {'options': {'default_shots': 500}, 'version': 2, 'support_qiskit': True, 'resilience_level': 0}\n",
      "base_primitive._run:INFO:2025-06-24 19:45:37,902: Submitting job using options {'options': {'default_shots': 500}, 'version': 2, 'support_qiskit': True, 'resilience_level': 0}\n",
      "base_primitive._run:INFO:2025-06-24 19:45:47,954: Submitting job using options {'options': {'default_shots': 500}, 'version': 2, 'support_qiskit': True, 'resilience_level': 0}\n",
      "base_primitive._run:INFO:2025-06-24 19:45:59,304: Submitting job using options {'options': {'default_shots': 500}, 'version': 2, 'support_qiskit': True, 'resilience_level': 0}\n",
      "base_primitive._run:INFO:2025-06-24 19:46:09,352: Submitting job using options {'options': {'default_shots': 500}, 'version': 2, 'support_qiskit': True, 'resilience_level': 0}\n",
      "base_primitive._run:INFO:2025-06-24 19:46:19,792: Submitting job using options {'options': {'default_shots': 500}, 'version': 2, 'support_qiskit': True, 'resilience_level': 0}\n",
      "base_primitive._run:INFO:2025-06-24 19:46:30,597: Submitting job using options {'options': {'default_shots': 500}, 'version': 2, 'support_qiskit': True, 'resilience_level': 0}\n",
      "base_primitive._run:INFO:2025-06-24 19:46:45,022: Submitting job using options {'options': {'default_shots': 500}, 'version': 2, 'support_qiskit': True, 'resilience_level': 0}\n",
      "base_primitive._run:INFO:2025-06-24 19:46:55,518: Submitting job using options {'options': {'default_shots': 500}, 'version': 2, 'support_qiskit': True, 'resilience_level': 0}\n",
      "base_primitive._run:INFO:2025-06-24 19:47:05,292: Submitting job using options {'options': {'default_shots': 500}, 'version': 2, 'support_qiskit': True, 'resilience_level': 0}\n",
      "base_primitive._run:INFO:2025-06-24 19:47:15,512: Submitting job using options {'options': {'default_shots': 500}, 'version': 2, 'support_qiskit': True, 'resilience_level': 0}\n",
      "base_primitive._run:INFO:2025-06-24 19:47:25,871: Submitting job using options {'options': {'default_shots': 500}, 'version': 2, 'support_qiskit': True, 'resilience_level': 0}\n",
      "base_primitive._run:INFO:2025-06-24 19:47:36,295: Submitting job using options {'options': {'default_shots': 500}, 'version': 2, 'support_qiskit': True, 'resilience_level': 0}\n",
      "base_primitive._run:INFO:2025-06-24 19:47:47,764: Submitting job using options {'options': {'default_shots': 500}, 'version': 2, 'support_qiskit': True, 'resilience_level': 0}\n",
      "base_primitive._run:INFO:2025-06-24 19:48:01,440: Submitting job using options {'options': {'default_shots': 500}, 'version': 2, 'support_qiskit': True, 'resilience_level': 0}\n",
      "base_primitive._run:INFO:2025-06-24 19:48:12,047: Submitting job using options {'options': {'default_shots': 500}, 'version': 2, 'support_qiskit': True, 'resilience_level': 0}\n",
      "base_primitive._run:INFO:2025-06-24 19:48:23,033: Submitting job using options {'options': {'default_shots': 500}, 'version': 2, 'support_qiskit': True, 'resilience_level': 0}\n",
      "base_primitive._run:INFO:2025-06-24 19:48:33,885: Submitting job using options {'options': {'default_shots': 500}, 'version': 2, 'support_qiskit': True, 'resilience_level': 0}\n",
      "base_primitive._run:INFO:2025-06-24 19:48:44,604: Submitting job using options {'options': {'default_shots': 500}, 'version': 2, 'support_qiskit': True, 'resilience_level': 0}\n",
      "base_primitive._run:INFO:2025-06-24 19:48:55,041: Submitting job using options {'options': {'default_shots': 500}, 'version': 2, 'support_qiskit': True, 'resilience_level': 0}\n",
      "base_primitive._run:INFO:2025-06-24 19:49:05,454: Submitting job using options {'options': {'default_shots': 500}, 'version': 2, 'support_qiskit': True, 'resilience_level': 0}\n",
      "base_primitive._run:INFO:2025-06-24 19:49:16,503: Submitting job using options {'options': {'default_shots': 500}, 'version': 2, 'support_qiskit': True, 'resilience_level': 0}\n",
      "base_primitive._run:INFO:2025-06-24 19:49:29,415: Submitting job using options {'options': {'default_shots': 500}, 'version': 2, 'support_qiskit': True, 'resilience_level': 0}\n",
      "base_primitive._run:INFO:2025-06-24 19:49:41,649: Submitting job using options {'options': {'default_shots': 500}, 'version': 2, 'support_qiskit': True, 'resilience_level': 0}\n",
      "base_primitive._run:INFO:2025-06-24 19:49:58,310: Submitting job using options {'options': {'default_shots': 500}, 'version': 2, 'support_qiskit': True, 'resilience_level': 0}\n",
      "base_primitive._run:INFO:2025-06-24 19:50:09,471: Submitting job using options {'options': {'default_shots': 500}, 'version': 2, 'support_qiskit': True, 'resilience_level': 0}\n",
      "base_primitive._run:INFO:2025-06-24 19:53:33,046: Submitting job using options {'options': {'default_shots': 500}, 'version': 2, 'support_qiskit': True, 'resilience_level': 0}\n",
      "base_primitive._run:INFO:2025-06-24 19:53:47,322: Submitting job using options {'options': {'default_shots': 500}, 'version': 2, 'support_qiskit': True, 'resilience_level': 0}\n",
      "base_primitive._run:INFO:2025-06-24 19:55:42,371: Submitting job using options {'options': {}, 'version': 2, 'support_qiskit': True}\n"
     ]
    },
    {
     "name": "stdout",
     "output_type": "stream",
     "text": [
      "\n",
      "   Normal return from subroutine COBYLA\n",
      "\n",
      "   NFVALS =   69   F =-7.720000E-01    MAXCV = 0.000000E+00\n",
      "   X = 9.778585E-02   3.436755E-01  -7.264101E-01  -4.643045E-01   5.522285E-01\n",
      "       3.545294E-02\n",
      "best bitstring is ----- 0001011110\n",
      "best coloring is ----- [0, 1, 1, 3, 2]\n",
      "2025-06-24 19:56:02,483 - __main__ - INFO - \n",
      " +++++++++++++++++++ Node: 5, Color: +++++++++++++++++++  3\n",
      "2025-06-24 19:56:05,966 - __main__ - INFO - <IBMBackend('ibm_brisbane')>\n"
     ]
    },
    {
     "name": "stderr",
     "output_type": "stream",
     "text": [
      "base_primitive._run:INFO:2025-06-24 19:56:09,019: Submitting job using options {'options': {'default_shots': 500}, 'version': 2, 'support_qiskit': True, 'resilience_level': 0}\n",
      "base_primitive._run:INFO:2025-06-24 19:59:30,400: Submitting job using options {'options': {'default_shots': 500}, 'version': 2, 'support_qiskit': True, 'resilience_level': 0}\n",
      "base_primitive._run:INFO:2025-06-24 20:16:15,703: Submitting job using options {'options': {'default_shots': 500}, 'version': 2, 'support_qiskit': True, 'resilience_level': 0}\n",
      "base_primitive._run:INFO:2025-06-24 20:17:15,892: Submitting job using options {'options': {'default_shots': 500}, 'version': 2, 'support_qiskit': True, 'resilience_level': 0}\n",
      "base_primitive._run:INFO:2025-06-24 20:39:01,328: Submitting job using options {'options': {'default_shots': 500}, 'version': 2, 'support_qiskit': True, 'resilience_level': 0}\n",
      "base_primitive._run:INFO:2025-06-24 20:40:42,183: Submitting job using options {'options': {'default_shots': 500}, 'version': 2, 'support_qiskit': True, 'resilience_level': 0}\n",
      "base_primitive._run:INFO:2025-06-24 20:41:40,220: Submitting job using options {'options': {'default_shots': 500}, 'version': 2, 'support_qiskit': True, 'resilience_level': 0}\n",
      "base_primitive._run:INFO:2025-06-24 20:45:31,855: Submitting job using options {'options': {'default_shots': 500}, 'version': 2, 'support_qiskit': True, 'resilience_level': 0}\n",
      "base_primitive._run:INFO:2025-06-24 20:46:20,592: Submitting job using options {'options': {'default_shots': 500}, 'version': 2, 'support_qiskit': True, 'resilience_level': 0}\n",
      "base_primitive._run:INFO:2025-06-24 20:49:48,666: Submitting job using options {'options': {'default_shots': 500}, 'version': 2, 'support_qiskit': True, 'resilience_level': 0}\n",
      "base_primitive._run:INFO:2025-06-24 20:50:12,756: Submitting job using options {'options': {'default_shots': 500}, 'version': 2, 'support_qiskit': True, 'resilience_level': 0}\n",
      "base_primitive._run:INFO:2025-06-24 20:51:06,094: Submitting job using options {'options': {'default_shots': 500}, 'version': 2, 'support_qiskit': True, 'resilience_level': 0}\n",
      "base_primitive._run:INFO:2025-06-24 20:54:38,682: Submitting job using options {'options': {'default_shots': 500}, 'version': 2, 'support_qiskit': True, 'resilience_level': 0}\n",
      "base_primitive._run:INFO:2025-06-24 20:55:01,604: Submitting job using options {'options': {'default_shots': 500}, 'version': 2, 'support_qiskit': True, 'resilience_level': 0}\n",
      "base_primitive._run:INFO:2025-06-24 20:55:55,025: Submitting job using options {'options': {'default_shots': 500}, 'version': 2, 'support_qiskit': True, 'resilience_level': 0}\n",
      "base_primitive._run:INFO:2025-06-24 20:59:30,134: Submitting job using options {'options': {'default_shots': 500}, 'version': 2, 'support_qiskit': True, 'resilience_level': 0}\n",
      "base_primitive._run:INFO:2025-06-24 21:03:01,956: Submitting job using options {'options': {'default_shots': 500}, 'version': 2, 'support_qiskit': True, 'resilience_level': 0}\n",
      "base_primitive._run:INFO:2025-06-24 21:06:58,611: Submitting job using options {'options': {'default_shots': 500}, 'version': 2, 'support_qiskit': True, 'resilience_level': 0}\n",
      "base_primitive._run:INFO:2025-06-24 21:07:09,876: Submitting job using options {'options': {'default_shots': 500}, 'version': 2, 'support_qiskit': True, 'resilience_level': 0}\n",
      "base_primitive._run:INFO:2025-06-24 21:07:30,351: Submitting job using options {'options': {'default_shots': 500}, 'version': 2, 'support_qiskit': True, 'resilience_level': 0}\n",
      "base_primitive._run:INFO:2025-06-24 21:08:03,122: Submitting job using options {'options': {'default_shots': 500}, 'version': 2, 'support_qiskit': True, 'resilience_level': 0}\n",
      "base_primitive._run:INFO:2025-06-24 21:11:31,625: Submitting job using options {'options': {'default_shots': 500}, 'version': 2, 'support_qiskit': True, 'resilience_level': 0}\n",
      "base_primitive._run:INFO:2025-06-24 21:11:58,439: Submitting job using options {'options': {'default_shots': 500}, 'version': 2, 'support_qiskit': True, 'resilience_level': 0}\n",
      "base_primitive._run:INFO:2025-06-24 21:12:44,938: Submitting job using options {'options': {'default_shots': 500}, 'version': 2, 'support_qiskit': True, 'resilience_level': 0}\n",
      "base_primitive._run:INFO:2025-06-24 21:16:17,069: Submitting job using options {'options': {'default_shots': 500}, 'version': 2, 'support_qiskit': True, 'resilience_level': 0}\n",
      "base_primitive._run:INFO:2025-06-24 21:16:42,456: Submitting job using options {'options': {'default_shots': 500}, 'version': 2, 'support_qiskit': True, 'resilience_level': 0}\n",
      "base_primitive._run:INFO:2025-06-24 21:17:04,574: Submitting job using options {'options': {'default_shots': 500}, 'version': 2, 'support_qiskit': True, 'resilience_level': 0}\n",
      "base_primitive._run:INFO:2025-06-24 21:17:32,639: Submitting job using options {'options': {'default_shots': 500}, 'version': 2, 'support_qiskit': True, 'resilience_level': 0}\n",
      "base_primitive._run:INFO:2025-06-24 21:21:06,045: Submitting job using options {'options': {'default_shots': 500}, 'version': 2, 'support_qiskit': True, 'resilience_level': 0}\n",
      "base_primitive._run:INFO:2025-06-24 21:21:27,743: Submitting job using options {'options': {'default_shots': 500}, 'version': 2, 'support_qiskit': True, 'resilience_level': 0}\n",
      "base_primitive._run:INFO:2025-06-24 21:22:11,998: Submitting job using options {'options': {'default_shots': 500}, 'version': 2, 'support_qiskit': True, 'resilience_level': 0}\n",
      "base_primitive._run:INFO:2025-06-24 21:25:48,670: Submitting job using options {'options': {'default_shots': 500}, 'version': 2, 'support_qiskit': True, 'resilience_level': 0}\n",
      "base_primitive._run:INFO:2025-06-24 21:26:03,084: Submitting job using options {'options': {'default_shots': 500}, 'version': 2, 'support_qiskit': True, 'resilience_level': 0}\n",
      "base_primitive._run:INFO:2025-06-24 21:27:54,813: Submitting job using options {'options': {'default_shots': 500}, 'version': 2, 'support_qiskit': True, 'resilience_level': 0}\n",
      "base_primitive._run:INFO:2025-06-24 21:28:12,830: Submitting job using options {'options': {'default_shots': 500}, 'version': 2, 'support_qiskit': True, 'resilience_level': 0}\n",
      "base_primitive._run:INFO:2025-06-24 21:31:59,964: Submitting job using options {'options': {'default_shots': 500}, 'version': 2, 'support_qiskit': True, 'resilience_level': 0}\n",
      "base_primitive._run:INFO:2025-06-24 21:32:27,598: Submitting job using options {'options': {'default_shots': 500}, 'version': 2, 'support_qiskit': True, 'resilience_level': 0}\n",
      "base_primitive._run:INFO:2025-06-24 21:32:54,715: Submitting job using options {'options': {'default_shots': 500}, 'version': 2, 'support_qiskit': True, 'resilience_level': 0}\n",
      "base_primitive._run:INFO:2025-06-24 21:36:10,645: Submitting job using options {'options': {'default_shots': 500}, 'version': 2, 'support_qiskit': True, 'resilience_level': 0}\n",
      "base_primitive._run:INFO:2025-06-24 21:36:23,118: Submitting job using options {'options': {'default_shots': 500}, 'version': 2, 'support_qiskit': True, 'resilience_level': 0}\n",
      "base_primitive._run:INFO:2025-06-24 21:36:35,200: Submitting job using options {'options': {'default_shots': 500}, 'version': 2, 'support_qiskit': True, 'resilience_level': 0}\n",
      "base_primitive._run:INFO:2025-06-24 21:36:49,945: Submitting job using options {'options': {'default_shots': 500}, 'version': 2, 'support_qiskit': True, 'resilience_level': 0}\n",
      "base_primitive._run:INFO:2025-06-24 21:37:05,300: Submitting job using options {'options': {'default_shots': 500}, 'version': 2, 'support_qiskit': True, 'resilience_level': 0}\n",
      "base_primitive._run:INFO:2025-06-24 21:37:19,031: Submitting job using options {'options': {'default_shots': 500}, 'version': 2, 'support_qiskit': True, 'resilience_level': 0}\n",
      "base_primitive._run:INFO:2025-06-24 21:40:41,164: Submitting job using options {'options': {'default_shots': 500}, 'version': 2, 'support_qiskit': True, 'resilience_level': 0}\n",
      "base_primitive._run:INFO:2025-06-24 21:40:52,343: Submitting job using options {'options': {'default_shots': 500}, 'version': 2, 'support_qiskit': True, 'resilience_level': 0}\n",
      "base_primitive._run:INFO:2025-06-24 21:41:34,874: Submitting job using options {'options': {'default_shots': 500}, 'version': 2, 'support_qiskit': True, 'resilience_level': 0}\n",
      "base_primitive._run:INFO:2025-06-24 21:41:52,031: Submitting job using options {'options': {'default_shots': 500}, 'version': 2, 'support_qiskit': True, 'resilience_level': 0}\n",
      "base_primitive._run:INFO:2025-06-24 21:42:04,615: Submitting job using options {'options': {'default_shots': 500}, 'version': 2, 'support_qiskit': True, 'resilience_level': 0}\n",
      "base_primitive._run:INFO:2025-06-24 21:45:21,169: Submitting job using options {'options': {'default_shots': 500}, 'version': 2, 'support_qiskit': True, 'resilience_level': 0}\n",
      "base_primitive._run:INFO:2025-06-24 21:45:35,905: Submitting job using options {'options': {'default_shots': 500}, 'version': 2, 'support_qiskit': True, 'resilience_level': 0}\n",
      "base_primitive._run:INFO:2025-06-24 21:45:47,579: Submitting job using options {'options': {'default_shots': 500}, 'version': 2, 'support_qiskit': True, 'resilience_level': 0}\n",
      "base_primitive._run:INFO:2025-06-24 21:45:58,433: Submitting job using options {'options': {'default_shots': 500}, 'version': 2, 'support_qiskit': True, 'resilience_level': 0}\n",
      "base_primitive._run:INFO:2025-06-24 21:46:09,020: Submitting job using options {'options': {'default_shots': 500}, 'version': 2, 'support_qiskit': True, 'resilience_level': 0}\n",
      "base_primitive._run:INFO:2025-06-24 21:46:20,818: Submitting job using options {'options': {'default_shots': 500}, 'version': 2, 'support_qiskit': True, 'resilience_level': 0}\n",
      "base_primitive._run:INFO:2025-06-24 21:46:31,815: Submitting job using options {'options': {'default_shots': 500}, 'version': 2, 'support_qiskit': True, 'resilience_level': 0}\n",
      "base_primitive._run:INFO:2025-06-24 21:49:52,320: Submitting job using options {'options': {'default_shots': 500}, 'version': 2, 'support_qiskit': True, 'resilience_level': 0}\n",
      "base_primitive._run:INFO:2025-06-24 21:50:04,399: Submitting job using options {'options': {'default_shots': 500}, 'version': 2, 'support_qiskit': True, 'resilience_level': 0}\n",
      "base_primitive._run:INFO:2025-06-24 21:50:15,456: Submitting job using options {'options': {'default_shots': 500}, 'version': 2, 'support_qiskit': True, 'resilience_level': 0}\n",
      "base_primitive._run:INFO:2025-06-24 21:50:26,314: Submitting job using options {'options': {'default_shots': 500}, 'version': 2, 'support_qiskit': True, 'resilience_level': 0}\n",
      "base_primitive._run:INFO:2025-06-24 21:50:37,359: Submitting job using options {'options': {'default_shots': 500}, 'version': 2, 'support_qiskit': True, 'resilience_level': 0}\n",
      "base_primitive._run:INFO:2025-06-24 21:50:51,324: Submitting job using options {'options': {}, 'version': 2, 'support_qiskit': True}\n"
     ]
    },
    {
     "name": "stdout",
     "output_type": "stream",
     "text": [
      "\n",
      "   Normal return from subroutine COBYLA\n",
      "\n",
      "   NFVALS =   61   F =-5.400000E-02    MAXCV = 0.000000E+00\n",
      "   X = 1.076474E+00   8.398697E-01   3.317790E-01  -2.114357E-01   2.708646E-01\n",
      "      -1.711211E-01\n",
      "best bitstring is ----- 010111110101000\n",
      "best coloring is ----- [2, 7, 6, 5, 0]\n"
     ]
    },
    {
     "data": {
      "text/plain": [
       "<Figure size 640x480 with 1 Axes>"
      ],
      "image/png": "[encoded data removed]"
     },
     "metadata": {},
     "output_type": "display_data"
    }
   ],
   "execution_count": 22
  },
  {
   "cell_type": "code",
   "metadata": {
    "ExecuteTime": {
     "end_time": "2025-06-24T20:51:03.890683Z",
     "start_time": "2025-06-24T20:51:03.886306Z"
    }
   },
   "source": [],
   "outputs": [],
   "execution_count": null
  }
 ],
 "metadata": {
  "kernelspec": {
   "display_name": ".venv",
   "language": "python",
   "name": "python3"
  },
  "language_info": {
   "codemirror_mode": {
    "name": "ipython",
    "version": 3
   },
   "file_extension": ".py",
   "mimetype": "text/x-python",
   "name": "python",
   "nbconvert_exporter": "python",
   "pygments_lexer": "ipython3",
   "version": "3.12.6"
  }
 },
 "nbformat": 4,
 "nbformat_minor": 2
}
